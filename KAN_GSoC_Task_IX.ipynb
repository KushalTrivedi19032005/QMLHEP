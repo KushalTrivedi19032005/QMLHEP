{
  "nbformat": 4,
  "nbformat_minor": 0,
  "metadata": {
    "colab": {
      "provenance": [],
      "gpuType": "T4"
    },
    "kernelspec": {
      "name": "python3",
      "display_name": "Python 3"
    },
    "language_info": {
      "name": "python"
    },
    "accelerator": "GPU"
  },
  "cells": [
    {
      "cell_type": "markdown",
      "source": [
        "# **Experimentation:**\n",
        "\n",
        "* Tried implementing a basic KAN for MNIST dataset\n",
        "\n",
        "  **Note**:  Since the proposed Pykab library is a Python wrapper for working with knowledge graphs and structured data, it is not useful for our purpose, forcing us to look for alternatives.\n",
        "\n",
        "* Implemented Quanvolutional Neural Networks for comparision with our original approach.\n",
        "\n",
        "  **Note**: Since the MNIST dataset consists of basic visual images, the accuracy of all methods is expected to be quite similar.\n",
        "\n",
        "* Implementation of SineKANS, Multi-Layer Perceptrons for comparision. SineKANs are expected to produce the best result according to the paper [4].\n",
        "\n",
        "* Lastly, the goal of the project is to explore the extension of KANs to QKANs and further investigate potential applications in LHC-related research. I have explained this aspect in detail in my proposal."
      ],
      "metadata": {
        "id": "O6EAq8MBHL-T"
      }
    },
    {
      "cell_type": "markdown",
      "source": [
        "# 1. **KAN for MNIST dataset**"
      ],
      "metadata": {
        "id": "YrPg--ENLFuT"
      }
    },
    {
      "cell_type": "markdown",
      "source": [
        "## A. Implentation of splines by directly using BSpline functionality from SciPy."
      ],
      "metadata": {
        "id": "aeeEDpMUaKp1"
      }
    },
    {
      "cell_type": "code",
      "execution_count": 1,
      "metadata": {
        "colab": {
          "base_uri": "https://localhost:8080/"
        },
        "id": "sAR6AihDXGRU",
        "outputId": "807e6fbd-f7b2-4ec8-d07c-5f0c489c7201"
      },
      "outputs": [
        {
          "output_type": "stream",
          "name": "stderr",
          "text": [
            "100%|██████████| 9.91M/9.91M [00:00<00:00, 16.9MB/s]\n",
            "100%|██████████| 28.9k/28.9k [00:00<00:00, 477kB/s]\n",
            "100%|██████████| 1.65M/1.65M [00:00<00:00, 3.85MB/s]\n",
            "100%|██████████| 4.54k/4.54k [00:00<00:00, 6.31MB/s]\n"
          ]
        },
        {
          "output_type": "stream",
          "name": "stdout",
          "text": [
            "Epoch 1/60, Loss: 0.9087\n",
            "Epoch 2/60, Loss: 0.5967\n",
            "Epoch 3/60, Loss: 0.4129\n",
            "Epoch 4/60, Loss: 0.3755\n",
            "Epoch 5/60, Loss: 0.5134\n",
            "Epoch 6/60, Loss: 0.3888\n",
            "Epoch 7/60, Loss: 0.2496\n",
            "Epoch 8/60, Loss: 0.7703\n",
            "Epoch 9/60, Loss: 0.2163\n",
            "Epoch 10/60, Loss: 0.4059\n",
            "Epoch 11/60, Loss: 0.4355\n",
            "Epoch 12/60, Loss: 0.5213\n",
            "Epoch 13/60, Loss: 0.2938\n",
            "Epoch 14/60, Loss: 0.5935\n",
            "Epoch 15/60, Loss: 0.3874\n",
            "Epoch 16/60, Loss: 0.3595\n",
            "Epoch 17/60, Loss: 0.5784\n",
            "Epoch 18/60, Loss: 0.3475\n",
            "Epoch 19/60, Loss: 0.5121\n",
            "Epoch 20/60, Loss: 0.4963\n",
            "Epoch 21/60, Loss: 0.3350\n",
            "Epoch 22/60, Loss: 0.6306\n",
            "Epoch 23/60, Loss: 0.3411\n",
            "Epoch 24/60, Loss: 0.7612\n",
            "Epoch 25/60, Loss: 0.5438\n",
            "Epoch 26/60, Loss: 0.4499\n",
            "Epoch 27/60, Loss: 0.5460\n",
            "Epoch 28/60, Loss: 0.4262\n",
            "Epoch 29/60, Loss: 0.6974\n",
            "Epoch 30/60, Loss: 0.5206\n",
            "Epoch 31/60, Loss: 0.6578\n",
            "Epoch 32/60, Loss: 0.5642\n",
            "Epoch 33/60, Loss: 0.4833\n",
            "Epoch 34/60, Loss: 0.7785\n",
            "Epoch 35/60, Loss: 0.5020\n",
            "Epoch 36/60, Loss: 0.6313\n",
            "Epoch 37/60, Loss: 0.7022\n",
            "Epoch 38/60, Loss: 0.6897\n",
            "Epoch 39/60, Loss: 0.8176\n",
            "Epoch 40/60, Loss: 0.6815\n",
            "Epoch 41/60, Loss: 0.6452\n",
            "Epoch 42/60, Loss: 0.7640\n",
            "Epoch 43/60, Loss: 0.7229\n",
            "Epoch 44/60, Loss: 0.7098\n",
            "Epoch 45/60, Loss: 1.0493\n",
            "Epoch 46/60, Loss: 0.8276\n",
            "Epoch 47/60, Loss: 0.8740\n",
            "Epoch 48/60, Loss: 0.8977\n",
            "Epoch 49/60, Loss: 0.8853\n",
            "Epoch 50/60, Loss: 0.8466\n",
            "Epoch 51/60, Loss: 0.9949\n",
            "Epoch 52/60, Loss: 1.0410\n",
            "Epoch 53/60, Loss: 1.0361\n",
            "Epoch 54/60, Loss: 1.0284\n",
            "Epoch 55/60, Loss: 1.1861\n",
            "Epoch 56/60, Loss: 1.1984\n",
            "Epoch 57/60, Loss: 0.9220\n",
            "Epoch 58/60, Loss: 1.4596\n",
            "Epoch 59/60, Loss: 1.1105\n",
            "Epoch 60/60, Loss: 1.0231\n",
            "Test Accuracy: 95.02%\n"
          ]
        }
      ],
      "source": [
        "import torch\n",
        "import os\n",
        "import torch.nn as nn\n",
        "import torch.optim as optim\n",
        "import torch.nn.functional as F\n",
        "from torch.autograd import Function\n",
        "from scipy.interpolate import BSpline #One of the few libraries for implementing B-Splines\n",
        "import numpy as np\n",
        "from torchvision import datasets, transforms\n",
        "from torch.utils.data import DataLoader\n",
        "import matplotlib.pyplot as plt\n",
        "\n",
        "\n",
        "class BSplineActivation(Function):\n",
        "    @staticmethod #Static throughout training and testing\n",
        "    def forward(ctx, input, knots, coeffs, degree):\n",
        "        ctx.save_for_backward(input, knots, coeffs) #Save input tensors\n",
        "        ctx.degree = degree\n",
        "\n",
        "        input_np = input.detach().cpu().numpy()\n",
        "        knots_np = knots.detach().cpu().numpy()\n",
        "        coeffs_np = coeffs.detach().cpu().numpy()\n",
        "\n",
        "        #Define B-Spline\n",
        "        spline = BSpline(knots_np, coeffs_np, degree)\n",
        "        output = torch.tensor(spline(input_np), dtype=torch.float32).to(input.device)\n",
        "\n",
        "        return output\n",
        "\n",
        "    @staticmethod\n",
        "    def backward(ctx, grad_output):\n",
        "        input, knots, coeffs = ctx.saved_tensors\n",
        "        degree = ctx.degree\n",
        "\n",
        "        #Computing B-Spline derivative\n",
        "        knots_np = knots.detach().cpu().numpy()\n",
        "        coeffs_np = coeffs.detach().cpu().numpy()\n",
        "        spline = BSpline(knots_np, coeffs_np, degree)\n",
        "        deriv_spline = spline.derivative()\n",
        "\n",
        "        input_np = input.detach().cpu().numpy()\n",
        "        grad_input = torch.tensor(deriv_spline(input_np), dtype=torch.float32).to(input.device) * grad_output\n",
        "\n",
        "        return grad_input, None, None, None #No grad calc for inputs, knots, coeffs\n",
        "\n",
        "class KAN(nn.Module):\n",
        "    def __init__(self, input_dim, hidden_dim, output_dim, spline_degree=3, num_knots=10):\n",
        "        super(KAN, self).__init__()\n",
        "        self.fc1 = nn.Linear(input_dim, hidden_dim)\n",
        "        self.fc2 = nn.Linear(hidden_dim, output_dim)\n",
        "\n",
        "        # Learnable B-Spline parameters\n",
        "        self.knots = nn.Parameter(torch.linspace(-1, 1, num_knots))\n",
        "        self.coeffs = nn.Parameter(torch.randn(num_knots))\n",
        "        self.spline_degree = spline_degree\n",
        "\n",
        "    def forward(self, x):\n",
        "        x = self.fc1(x)\n",
        "        x = BSplineActivation.apply(x, self.knots, self.coeffs, self.spline_degree)  # KAN activations are placed on edges and not nodes, unlike MLPs\n",
        "        x = self.fc2(x)\n",
        "        return x\n",
        "\n",
        "# Loading MNIST dataset\n",
        "transform = transforms.Compose([\n",
        "    transforms.ToTensor(),\n",
        "    transforms.Normalize((0.1307,), (0.3081,))  # MNIST mean/std\n",
        "])\n",
        "\n",
        "train_dataset = datasets.MNIST(root='./data', train=True, transform=transform, download=True)\n",
        "test_dataset = datasets.MNIST(root='./data', train=False, transform=transform, download=True)\n",
        "\n",
        "train_loader = DataLoader(train_dataset, batch_size=64, shuffle=True)\n",
        "test_loader = DataLoader(test_dataset, batch_size=1000, shuffle=False)\n",
        "\n",
        "#Instantiate the model, device, loss type and optimizer\n",
        "device = torch.device(\"cuda\" if torch.cuda.is_available() else \"cpu\")\n",
        "model = KAN(input_dim=28*28, hidden_dim=128, output_dim=10).to(device)\n",
        "criterion = nn.CrossEntropyLoss()\n",
        "optimizer = optim.Adam(model.parameters(), lr=0.0005)\n",
        "\n",
        "# Directory to save loss plots\n",
        "save_dir = \"training_loss_images\"\n",
        "os.makedirs(save_dir, exist_ok=True)\n",
        "\n",
        "# Training Loop\n",
        "epochs = 60\n",
        "epoch_train_losses=[]\n",
        "for epoch in range(epochs):\n",
        "    model.train()\n",
        "    train_losses=0.0\n",
        "    for images, labels in train_loader:\n",
        "        images = images.view(images.size(0), -1).to(device)  # Flatten images\n",
        "        labels = labels.to(device)\n",
        "\n",
        "        optimizer.zero_grad()\n",
        "        output = model(images)\n",
        "        loss = criterion(output, labels)\n",
        "        loss.backward()\n",
        "        optimizer.step()\n",
        "        train_losses += loss.item()\n",
        "\n",
        "    avg_loss = train_losses / len(train_loader)\n",
        "    epoch_train_losses.append(avg_loss)  # Store the loss for plotting\n",
        "\n",
        "    plt.figure()\n",
        "    plt.plot(range(epoch + 1), [train_losses / len(train_loader) for epoch in range(epoch + 1)], label=\"Train Loss\")\n",
        "    plt.xlabel('Epoch')\n",
        "    plt.ylabel('Loss')\n",
        "    plt.title(f'Epoch {epoch + 1}/{epochs}')\n",
        "    plt.legend()\n",
        "    plt.savefig(f\"{save_dir}/epoch_{epoch + 1}.png\")\n",
        "    plt.close()\n",
        "    print(f\"Epoch {epoch+1}/{epochs}, Loss: {train_losses / len(train_loader):.4f}\")\n",
        "\n",
        "# Evaluate Model\n",
        "model.eval()\n",
        "correct = 0\n",
        "total = 0\n",
        "epoch_test_losses = []\n",
        "test_losses=0.0\n",
        "with torch.no_grad():\n",
        "    for images, labels in test_loader:\n",
        "        images = images.view(images.size(0), -1).to(device)\n",
        "        labels = labels.to(device)\n",
        "\n",
        "        outputs = model(images)\n",
        "        loss = criterion(outputs, labels)  # Compute loss\n",
        "        test_losses += loss.item()  # Accumulate loss\n",
        "        _, predicted = torch.max(outputs, 1)\n",
        "        total += labels.size(0)\n",
        "        correct += (predicted == labels).sum().item()\n",
        "\n",
        "    avg_loss_t=test_losses/len(test_loader)\n",
        "    epoch_test_losses.append(avg_loss_t)\n",
        "\n",
        "print(f\"Test Accuracy: {100 * correct / total:.2f}%\")\n"
      ]
    },
    {
      "cell_type": "markdown",
      "source": [
        "\n"
      ],
      "metadata": {
        "id": "JvRTtvA7P_UO"
      }
    },
    {
      "cell_type": "code",
      "source": [
        "import torch\n",
        "import networkx as nx\n",
        "import matplotlib.pyplot as plt\n",
        "import numpy as np\n",
        "\n",
        "# Extract model weights\n",
        "fc1_weights = model.fc1.weight.detach().cpu().numpy()\n",
        "fc2_weights = model.fc2.weight.detach().cpu().numpy()\n",
        "\n",
        "# Define nodes\n",
        "input_nodes = [f\"X{i}\" for i in range(fc1_weights.shape[1])]  # Input layer\n",
        "hidden_nodes = [f\"H{i}\" for i in range(fc1_weights.shape[0])]  # Hidden layer\n",
        "output_nodes = [f\"O{i}\" for i in range(fc2_weights.shape[0])]  # Output layer\n",
        "\n",
        "# Create graph\n",
        "G = nx.DiGraph()\n",
        "\n",
        "# Add nodes\n",
        "G.add_nodes_from(input_nodes, layer=0)\n",
        "G.add_nodes_from(hidden_nodes, layer=1)\n",
        "G.add_nodes_from(output_nodes, layer=2)\n",
        "\n",
        "# Add edges with weights\n",
        "for i, h in enumerate(hidden_nodes):\n",
        "    for j, x in enumerate(input_nodes):\n",
        "        if abs(fc1_weights[i, j]) > 0.1:  # Only draw significant weights\n",
        "            G.add_edge(x, h, weight=fc1_weights[i, j])\n",
        "\n",
        "for i, o in enumerate(output_nodes):\n",
        "    for j, h in enumerate(hidden_nodes):\n",
        "        if abs(fc2_weights[i, j]) > 0.1:\n",
        "            G.add_edge(h, o, weight=fc2_weights[i, j])\n",
        "\n",
        "# Draw the network\n",
        "pos = nx.multipartite_layout(G, subset_key=\"layer\")\n",
        "plt.figure(figsize=(8, 6))\n",
        "nx.draw(G, pos, with_labels=True, node_color=\"black\", font_color=\"white\", node_size=500, edge_color=\"black\")\n",
        "plt.title(\"KAN Network Visualization\")\n",
        "plt.show()\n"
      ],
      "metadata": {
        "colab": {
          "base_uri": "https://localhost:8080/",
          "height": 659
        },
        "id": "cp303n8WDGep",
        "outputId": "71746fac-d1cf-4a2f-de74-1f04cdeaee8f"
      },
      "execution_count": 2,
      "outputs": [
        {
          "output_type": "display_data",
          "data": {
            "text/plain": [
              "<Figure size 800x600 with 1 Axes>"
            ],
            "image/png": "[encoded data removed]"
          },
          "metadata": {}
        }
      ]
    },
    {
      "cell_type": "code",
      "source": [
        "import numpy as np\n",
        "import matplotlib.pyplot as plt\n",
        "from scipy.interpolate import BSpline\n",
        "\n",
        "# Get current knots & coefficients after training\n",
        "knots_np = model.knots.detach().cpu().numpy()\n",
        "coeffs_np = model.coeffs.detach().cpu().numpy()\n",
        "spline_degree = model.spline_degree\n",
        "\n",
        "# Create a B-Spline curve\n",
        "x_vals = np.linspace(-1, 1, 100)\n",
        "spline = BSpline(knots_np, coeffs_np, spline_degree) #k,c,t\n",
        "y_vals = spline(x_vals)\n",
        "\n",
        "# Plot\n",
        "plt.plot(x_vals, y_vals, label=\"B-Spline Activation\")\n",
        "plt.xlabel(\"Input\")\n",
        "plt.ylabel(\"Activation Value\")\n",
        "plt.title(\"B-Spline Activation Function\")\n",
        "plt.legend()\n",
        "plt.show()\n"
      ],
      "metadata": {
        "colab": {
          "base_uri": "https://localhost:8080/",
          "height": 472
        },
        "id": "LomOeWc8Vtdf",
        "outputId": "456276ed-ae39-4a93-da77-9664c7abe7b6"
      },
      "execution_count": 3,
      "outputs": [
        {
          "output_type": "display_data",
          "data": {
            "text/plain": [
              "<Figure size 640x480 with 1 Axes>"
            ],
            "image/png": "[encoded data removed]"
          },
          "metadata": {}
        }
      ]
    },
    {
      "cell_type": "code",
      "source": [
        "import matplotlib.pyplot as plt\n",
        "\n",
        "# Example loss tracking (assuming losses are stored in lists during training)\n",
        "plt.plot(epoch_train_losses, label='Train Loss')\n",
        "plt.xlabel(\"Epochs\")\n",
        "plt.ylabel(\"Loss\")\n",
        "plt.legend()\n",
        "plt.title(\"Training Loss Curve\")\n",
        "plt.show()\n"
      ],
      "metadata": {
        "colab": {
          "base_uri": "https://localhost:8080/",
          "height": 472
        },
        "id": "ljVuceWmWjvV",
        "outputId": "f28bd4f9-e657-473b-f477-c8c80302edef"
      },
      "execution_count": 4,
      "outputs": [
        {
          "output_type": "display_data",
          "data": {
            "text/plain": [
              "<Figure size 640x480 with 1 Axes>"
            ],
            "image/png": "[encoded data removed]"
          },
          "metadata": {}
        }
      ]
    },
    {
      "cell_type": "markdown",
      "source": [
        "We ended up overshooting! This was because of setting the epochs = 60. Setting the number of epochs between [15,30] should work well."
      ],
      "metadata": {
        "id": "Q3wfizL2eSN9"
      }
    },
    {
      "cell_type": "markdown",
      "source": [
        "## B. Alternate Implementation of splines without the manual SciPy use."
      ],
      "metadata": {
        "id": "MMz88aa4bc-6"
      }
    },
    {
      "cell_type": "code",
      "source": [
        "import torch\n",
        "import torch.nn as nn\n",
        "import torch.nn.functional as F\n",
        "import torchvision\n",
        "import torchvision.transforms as transforms\n",
        "from torch.utils.data import DataLoader\n",
        "import numpy as np\n",
        "import time"
      ],
      "metadata": {
        "id": "1HH_7jgJcGod"
      },
      "execution_count": 2,
      "outputs": []
    },
    {
      "cell_type": "code",
      "source": [
        "# Function to precompute B-spline basis functions\n",
        "def precompute_bspline_basis(num_splines, degree, num_points=100):\n",
        "    knots = np.linspace(0, 1, num_splines + degree + 1)\n",
        "    x = np.linspace(0, 1, num_points)\n",
        "    basis = np.zeros((num_points, num_splines))\n",
        "\n",
        "    def cox_de_boor(x, k, d, knots):\n",
        "        if d == 0:\n",
        "            return np.where((knots[k] <= x) & (x < knots[k+1]), 1.0, 0.0)\n",
        "        else:\n",
        "            a = (x - knots[k]) / (knots[k+d] - knots[k] + 1e-8)\n",
        "            b = (knots[k+d+1] - x) / (knots[k+d+1] - knots[k+1] + 1e-8)\n",
        "            return a * cox_de_boor(x, k, d-1, knots) + b * cox_de_boor(x, k+1, d-1, knots)\n",
        "\n",
        "    for i in range(num_splines):\n",
        "        basis[:, i] = cox_de_boor(x, i, degree, knots)\n",
        "\n",
        "    return torch.tensor(basis, dtype=torch.float32)\n",
        "\n",
        "# Precompute basis functions\n",
        "num_splines = 10\n",
        "degree = 3\n",
        "basis = precompute_bspline_basis(num_splines, degree).to('cuda')  # Move the precomputed basis to GPU\n",
        "\n",
        "# Define the PrecomputedB_Spline class\n",
        "class PrecomputedB_Spline(nn.Module):\n",
        "    def __init__(self, precomputed_basis):\n",
        "        super(PrecomputedB_Spline, self).__init__()\n",
        "        self.precomputed_basis = precomputed_basis\n",
        "        self.coefficients = nn.Parameter(torch.randn(precomputed_basis.size(1)) * 0.1).to('cuda')  # Initialize coefficients\n",
        "        self.w = nn.Parameter(torch.ones(1).to('cuda'))\n",
        "\n",
        "    def forward(self, x):\n",
        "        idx = (x * (self.precomputed_basis.size(0) - 1)).long()\n",
        "        idx = torch.clamp(idx, 0, self.precomputed_basis.size(0) - 1)\n",
        "        basis = self.precomputed_basis[idx]\n",
        "        spline = torch.matmul(basis, self.coefficients)\n",
        "        b = x / (1 + torch.exp(-x))  # Silu function\n",
        "        return self.w * (b + spline)"
      ],
      "metadata": {
        "id": "R5pUtWFUbtHo"
      },
      "execution_count": 3,
      "outputs": []
    },
    {
      "cell_type": "code",
      "source": [
        "class KANLayer(nn.Module):\n",
        "    def __init__(self, in_features, out_features, precomputed_basis):\n",
        "        super(KANLayer, self).__init__()\n",
        "        self.in_features = in_features\n",
        "        self.out_features = out_features\n",
        "        self.b_splines = nn.ModuleList(\n",
        "            [PrecomputedB_Spline(precomputed_basis) for _ in range(out_features)]\n",
        "        )\n",
        "        self.weights = nn.Parameter(torch.randn(out_features, in_features) * 0.1).to('cuda')\n",
        "        self.bias = nn.Parameter(torch.zeros(out_features)).to('cuda')\n",
        "        self.batch_norm = nn.BatchNorm1d(out_features)\n",
        "\n",
        "    def forward(self, x):\n",
        "        batch_size = x.size(0)\n",
        "        activation_output = []\n",
        "        for i in range(self.out_features):\n",
        "            activation = self.b_splines[i]\n",
        "            linear_combination = torch.matmul(x, self.weights[i]) + self.bias[i]\n",
        "            activation_output.append(activation(linear_combination).unsqueeze(1))\n",
        "        output = torch.cat(activation_output, dim=1)\n",
        "        return self.batch_norm(output)\n",
        "\n",
        "# Define the KANModel class\n",
        "class KANModel(nn.Module):\n",
        "    def __init__(self, precomputed_basis):\n",
        "        super(KANModel, self).__init__()\n",
        "        self.layer1 = KANLayer(784, 1024, precomputed_basis)\n",
        "        self.layer2 = KANLayer(1024, 512, precomputed_basis)\n",
        "        self.layer3 = KANLayer(512, 256, precomputed_basis)\n",
        "        self.layer4 = KANLayer(256, 10, precomputed_basis)\n",
        "\n",
        "    def forward(self, x):\n",
        "        x = x.view(-1, 784)\n",
        "        x = self.layer1(x)\n",
        "        x = self.layer2(x)\n",
        "        x = self.layer3(x)\n",
        "        x = self.layer4(x)\n",
        "        return x"
      ],
      "metadata": {
        "id": "DWi_GdCPbyDz"
      },
      "execution_count": 4,
      "outputs": []
    },
    {
      "cell_type": "code",
      "source": [
        "# Load the MNIST dataset\n",
        "print(\"Loading MNIST dataset...\")\n",
        "transform = transforms.Compose([transforms.ToTensor(), transforms.Normalize((0.5,), (0.5,))])\n",
        "\n",
        "trainset = torchvision.datasets.MNIST(root='./data', train=True, download=True, transform=transform)\n",
        "trainloader = DataLoader(trainset, batch_size=256, shuffle=True)\n",
        "\n",
        "testset = torchvision.datasets.MNIST(root='./data', train=False, download=True, transform=transform)\n",
        "testloader = DataLoader(testset, batch_size=256, shuffle=False)\n",
        "print(\"MNIST dataset loaded.\")\n",
        "\n",
        "# Define the model, loss function, and optimizer\n",
        "print(\"Initializing model...\")\n",
        "model = KANModel(basis).to('cuda')\n",
        "criterion = nn.CrossEntropyLoss()\n",
        "optimizer = torch.optim.Adam(model.parameters(), lr=0.0167, betas=(0.577, .839))\n",
        "scheduler = torch.optim.lr_scheduler.StepLR(optimizer, step_size=5, gamma=0.1)\n",
        "print(\"Model initialized.\")\n",
        "\n",
        "# Train the model\n",
        "print(\"Starting training...\")\n",
        "start_time = time.time()\n",
        "for epoch in range(10):  # Increased number of epochs for example\n",
        "    running_loss = 0.0\n",
        "    for i, data in enumerate(trainloader, 0):\n",
        "        inputs, labels = data\n",
        "        inputs, labels = inputs.to('cuda'), labels.to('cuda')\n",
        "\n",
        "        optimizer.zero_grad()\n",
        "        outputs = model(inputs)\n",
        "        loss = criterion(outputs, labels)\n",
        "        loss.backward()\n",
        "        optimizer.step()\n",
        "\n",
        "        running_loss += loss.item()\n",
        "        if i % 100 == 99:    # Print every 100 mini-batches\n",
        "            print(f'[Epoch {epoch + 1}, Batch {i + 1}] loss: {running_loss / 100:.3f}')\n",
        "            running_loss = 0.0\n",
        "\n",
        "    scheduler.step()\n",
        "    print(f'Finished epoch {epoch + 1} loss: {running_loss / 100:.3f}')\n",
        "end_time = time.time()\n",
        "training_time = end_time - start_time\n",
        "print(f'Total training time: {training_time:.2f} seconds')\n",
        "\n",
        "print('Finished Training')\n",
        "\n",
        "# Evaluate the model\n",
        "print(\"Evaluating model...\")\n",
        "start_eval_time = time.time()\n",
        "correct = 0\n",
        "total = 0\n",
        "with torch.no_grad():\n",
        "    for data in testloader:\n",
        "        images, labels = data\n",
        "        images, labels = images.to('cuda'), labels.to('cuda')\n",
        "        outputs = model(images)\n",
        "        _, predicted = torch.max(outputs.data, 1)\n",
        "        total += labels.size(0)\n",
        "        correct += (predicted == labels).sum().item()\n",
        "\n",
        "end_eval_time = time.time()\n",
        "evaluation_time = end_eval_time - start_eval_time\n",
        "print(f'Accuracy of the network on the 10000 test images: {100 * correct / total}%')\n",
        "print(f'Total evaluation time: {evaluation_time:.2f} seconds')"
      ],
      "metadata": {
        "colab": {
          "base_uri": "https://localhost:8080/"
        },
        "id": "ZHeLk2Orb2Rl",
        "outputId": "b6207400-2a03-4161-dd34-1ce8bbb80c42"
      },
      "execution_count": 5,
      "outputs": [
        {
          "output_type": "stream",
          "name": "stdout",
          "text": [
            "Loading MNIST dataset...\n"
          ]
        },
        {
          "output_type": "stream",
          "name": "stderr",
          "text": [
            "100%|██████████| 9.91M/9.91M [00:00<00:00, 16.6MB/s]\n",
            "100%|██████████| 28.9k/28.9k [00:00<00:00, 494kB/s]\n",
            "100%|██████████| 1.65M/1.65M [00:00<00:00, 4.61MB/s]\n",
            "100%|██████████| 4.54k/4.54k [00:00<00:00, 7.77MB/s]\n"
          ]
        },
        {
          "output_type": "stream",
          "name": "stdout",
          "text": [
            "MNIST dataset loaded.\n",
            "Initializing model...\n",
            "Model initialized.\n",
            "Starting training...\n",
            "[Epoch 1, Batch 100] loss: 1.149\n",
            "[Epoch 1, Batch 200] loss: 0.441\n",
            "Finished epoch 1 loss: 0.131\n",
            "Total training time: 352.83 seconds\n",
            "Finished Training\n",
            "Evaluating model...\n",
            "Accuracy of the network on the 10000 test images: 89.47%\n",
            "Total evaluation time: 20.81 seconds\n"
          ]
        }
      ]
    },
    {
      "cell_type": "markdown",
      "source": [
        "# 2. **Quanvolutional Neural Networks**\n"
      ],
      "metadata": {
        "id": "CxJVPvT2QG_8"
      }
    },
    {
      "cell_type": "markdown",
      "source": [
        "Let us try comparing the results of ths classical KAN with quanvolutional neural networsk by benchmarking accuracy similarly on the MNIST dataset."
      ],
      "metadata": {
        "id": "eaf48qDRQRN9"
      }
    },
    {
      "cell_type": "markdown",
      "source": [
        "![circuit3.png](data:image/png;base64,iVBORw0KGgoAAAANSUhEUgAABdIAAAQGCAYAAAAzLkgqAAAAAXNSR0IArs4c6QAAAARnQU1BAACxjwv8YQUAAAAJcEhZcwAADsMAAA7DAcdvqGQAAPlCSURBVHhe7P1PyCXbux/2KcQgYf25V/+GMQSMB0aTCI6dgYgQGENuQMcIPDBGigNtggbRxBxMDIoycCOEiAa3MUq4TqBlTUx0rifKoEGz2yMh6EFA4Yw86IkmDRqdacdP/3r1Xec5z/73rl271qr9+cCX0/3uqv0+tWrXqnqfrlPvH/kMAAAAAACcpJEOAAAAAABnaKQDAAAAAMAZGukAAAAAAHCGRjoAAAAAAJyhkQ4AAAAAAGdopAMAAAAAwBka6QAAAAAAcIZGOgAAAAAAnKGRDgAAAAAAZ2ikAwAAAADAGRrpAAAAAABwhkY6AAAAAACcoZEOAAAAAABnaKQDAAAAAMAZGukAAAAAAHCGRjoAAAAAAJyhkQ4AAAAAAGdopAMAAAAAwBka6QAAAAAAcIZGOgAAAAAAnKGRDgAAAAAAZ2ikAwAAAADAGRrpAAAAAABwhkY6AAAAAACcoZEOAAAAAABnaKQDAAAAAMAZGukAAAAAAHCGRjoAAAAAAJyhkQ4AAAAAAGdopAMAAAAAwBka6QAAAAAAcIZGOgAAAAAAnKGRDgAAAAAAZ2ikAwAAAADAGRrpAAAAAABwhkY6DPojf+SPiIiIPEUAAACelZ+IYEDVZBARETlqAABmVl2/iMgcOQI/EcGAamIQERE5agAAZlVdu4jIfFmZn4hgQDUhiIiIHDUAALOqrl1EZL6szE9EMKCaEP6z/+Gz3Bjjdnvy505E5BEBAJhVde0iIvNlZX4iggHVhFA1PeV8jNvtiTED2FJ/bmsBAJhVde0iIvNlZX4iggHVhFA1PeV8jNvtiTED2FJ/bmsBAJhVde3yr//5nz9cYrtgFfmYXP3z6+iDAdWEUDU95XyM2+2JMQPYUn9uawEAmFV17VI1oldPbBesIh+Tq39+HX0woJoQqqannI9xuz0xZgBb6s9tLQAAs6quXapG9OqJ7YJV5GNy9c+vow8GVBNC1fSU8zFutyfGDGBL/bmtBQBgVtW1S9WIXj2xXbCKfEyu/vl19MGAakKomp5yPsbt9sSYAWypP7e1AADMqrp2qRrRqye2C1aRj8nVP7+OPhhQTQhV01POx7jdnhgzgC3157YWAIBZVdcuVSN69cR2wSryMbn659fRBwOqCaFqesr5GLfbE2MGsKX+3NYCADCr6tqlakSvntgunsf79+8///jjj5/fvHnz+YcffviSleRjcvXPr6MPBlQTQtX0lPMxbrcnxgxgS/25rQUAYFbVtUvViF49sV08j7dv335+9erVLz7Xj/bx48cvDfxPnz59/cr1+rr3qv+eHH0woJoQqqannI9xuz0xZgBb6s9tLQAAs6quXapG9OqJ7eL5xF3p7XP9CD///PPnDx8+fLkTvn3fn3766eur12vr9lmZow8GVBNC1fSU8zFutyfGDGBL/bmtBQBgVtW1S9WIXj2xXTyfaGK3z/WW+oZ9pL8bXiP9f9qer/8FXqCaEKqmp5yPcbs9MWYAW+rPbS0AALOqrl2qRvTqie3i+TyqkR6Pb4nvFYm70vvvq5H+P23P1/8CL1BNCFXTU87HuN2eGDOALfXnthYAgFlV1y5VI3r1xHbxfB7VSM800n/J0QcDqgmhanrK+Ri32xNjBrCl/tzWAgAwq+rapWpEr57YLp6PRvocHH0woJoQqqannI9xuz0xZgBb6s9tLQAAs6quXapG9OqJ7eL5aKTPwdEHA6oJoWp6yvkYt9sTYwawpf7c1gIAMKvq2qVqRK+e2C7WF88ff/fu3ecffvjh2+c1/vz27dsvzynPqkb6+/fvP7958+bLepH4RaHVuiM00n/J0QcDqgmhanrK+Ri32xNjBrCl/tzWAgAwq+rapWpEr57YLtYWDenvvvvuy76MRnj8PfLhw4cvf4/X4s+9vqEdTfhonH///fdfmvGx7OvXr7+8Fut+/Pjx61rj+u8bf75VW7fPyhx9MKCaEKqmp5yPcbs9MWYAW+rPbS0AALOqrl2qRvTqie1iXdHkbp/PuKM8izvS47VoiPf6hnY02yNZu7s9/nsvGum/5OiDAdWEUDU95XyM2+2JMQPYUn9uawEAmFV17VI1oldPbBfrirvIYx+eanb3n99e39A+tW7cnV6tO0Ij/ZccfTCgmhCqpqecj3G7PTFmAFvqz20tAL1qnohUquUilWq5SKVariWrlmmpVMtFKtVykUq1XKRSLRepVMu1ZNUyLZVquUilWi5SqZaLVKrlIpVquZasWqalUi0XqVTLRSrVcpFKtVykUi3XklXLtFSq5SKVarlIpVouUqmW61M1oldPbBdrijvQ22ezuhs9xNcvPdrl1Lr9Mveikf5Ljj4YUE0IVdNTzse43Z4YM4At9ee2FoBeNU9EKtVykUq1XKRSLdeSVcu0VKrlIpVquUilWi5SqZaLVKrlWrJqmZZKtVykUi0XqVTLRSrVcpFKtVxLVi3TUqmWi1Sq5SKVarlIpVouUqmWa8mqZVoq1XKRSrVcpFItF6lUy/WpGtGrJ7aLNbXnmEdu/aWg1zS0NdK35+iDAdWEUDU95XyM2+2JMQPYUn9uawEI1fzQp1ItF6lUy0Uq1XItWbVMS6VaLlKplotUquUilWq5SKVariWrlmmpVMtFKtVykUq1XKRSLRepVMu1ZNUyLZVquUilWi5SqZaLVKrlIpVquZasWqalUi0XqVTLRSrVcpFKtVyfqhG9emK7WFN7rMtL9mHf0I5fNlrRSN+eow8GVBNC1fSU8zFutyfGDGBL/bmtBSBU80OfSrVcpFItF6lUy7Vk1TItlWq5SKVaLlKplotUquUilWq5lqxapqVSLRepVMtFKtVykUq1XKRSLdeSVcu0VKrlIpVquUilWi5SqZaLVKrlWrJqmZZKtVykUi0XqVTLRSrVcn2qRvTqie1iTf1n81bXNMk10rfn6IMB1YRQNT3lfIzb7YkxA9hSf25rAQjmBmBGeW6KVI3o1RPbxZri2efts3krjfQ5OPpgQDUhVE1POR/jdntizAC21J/bWgCCuQGYUZ6bIlUjevXEdrGmH3744dtn89TjWU7RSJ+Dow8GVBNC1fSU8zFutyfGDGBL/bmtBSCYG4AZ5bkpUjWiV09sF2t69+7dt8/mhw8fvn61Fq9//Pjx69800mfh6IMB1YRQNT3lfIzb7YkxA9hSf25rAQjmBmBGeW6KVI3o1RPbxZriLvT2eJe4O/2c+MWknz59+vq3+zXSozkfNVxq5Dca6b/k6IMB1YRQNT3lfIzb7YkxA9hSf25rAQCYVXXtUjWiV09sF+uKBnb7fL5///7rV3/pzZs3X9KLZdt6pxra/TJ9E76Jr7VGfvy3Wia7pt5z2rp9VubogwHVhFA1PeV8jNvtiTED2FJ/bmsBAJhVde1SNaJXT2wXa4uGdGto//jjj9+elx6N7devX39+9erVt6/FsrFM3KHePtfxenytNbbjz3mZuOM9vpab7tGgb+9RPac9amjvF8u2OiPx5/hae/2aRnxbt8/KHH0woJoQqqannI9xuz0xZgBb6s9tLQAAs6quXapG9OqJ7WJ90cSOZnT/C0jjz/mu77dv3375evy3NbAj8fdIiNdb47wlGt7V+4V4vWqih3j0SzTz+/eqEsv0z3A/pW1bn5U5+mBANSFUTU85H+N2e2LMALbUn9taAABmVV27VI3o1RPbBavIx+Tqn19HHwyoJoSq6SnnY9xuT4wZwJb6c1sLAMCsqmuXqhG9emK7YBX5mFz98+vogwHVhFA1PeV8nnXcRj47sTzAlvIcZd4BGnMDMKM8N0WqRvTqie2CVeRjcvXPr6MPBlQTQtX0lPN51nEb+ezE8gBbynOUeQdozA3AjPLcFKka0asntgtWkY/J1T+/jj4YUE0IVdPzVEbWPVKeddtH9n8sD7ClPEeZd4DG3ADMKM9NkaoRvXpiu2AV+Zhc/fPr6IMB1YRQNT1PZWTdI+VZt31k/8fyAFvKc5R5B2jMDcCM8twUqRrRqye2C1aRj8nVP7+OPhhQTQhV0/NURtY9Up5120f2fywPsKU8R5l3gMbcAMwoz02RqhG9emK7YBX5mFz98+vogwHVhFA1PU9lZN0j5Zm3/aWJMQPYUn9+agEI5gZgRnluilSN6NUT2wWryMfk6p9fRx8MqCaEqul5KiPrHinPvO0vTYwZwJb681MLQDA3ADPKc1OkakSvntguWEU+Jlf//Dr6YEA1IVRNz1MZWfdIeeZtf2lizAC21J+fWgAAZlVdu1SN6NUT2wWryMfk6p9fRx8MqCaEqul5KiPrHinPvO0vTYwZwJb681MLAMCsqmuXqhG9emK7YBX5mFz98+vogwHVhFA1PeV8jNvtiTED2FJ/bmsBAJhVde1SNaJXT2wXrCIfk6t/fh19MKCaEKqmp5zPs47byGcnlgfYUp6jzDsAwMyqa5eqEb16YrtgFfmYXP3z6+iDAdWEUDU95XyeddxGPjuxPMCW8hxl3gEacwMwozw3RapG9OqJ7YJV5GNy9c+vow8GVBNC1fSU83nWcRv57MTyAFvKc5R5B2jMDcCM8twUqRrRqye2C1aRj8nVP7+OPhhQTQhV0/NURtY9Up5120f2fywPsKU8R5l3gMbcAMwoz02RqhG9emK7YBX5mFz98+vogwHVhFA1PU9lZN0j5Vm3fWT/x/IAW8pzlHkHaMwNwIzy3BSpGtGrJ7YLVpGPydU/v44+GFBNCFXT81RG1j1SnnXbR/Z/LA+wpTxHmXeAxtwAzCjPTUcOrOJon19HHwyoJoSq6XkqI+seKc+87S9NjBnAlvrzUwtAMDcAM8pzk/kJ9ne049KsAgOqCaFqep7KyLpHyjNv+0sTYwawpf781AIQzA3AjPLcZH6C/R3tuDSrwIBqQqianqcysu6R8szb/tLEmAFsqT8/tQAAzMq1C8znaMelWQUGVBNC1fQ8lZF1j5Rn3vaXJsYMYEv9+akFAGBWrl1gPkc7Ls0qMKCaEKqmp5yPcbs9MWYAW+rPbS0AALNy7QLzOdpxaVaBAdWEUDU95XyeddxGPjuxPMCW8hxl3gEAZubaBeZztOPSrAIDqgmhanrK+TzruI18dmJ5gC3lOcq8AzTmBmBGeW4yP8H+jnZcmlVgQDUhVE1POZ9nHbeRz04sD7ClPEeZd4DG3AA0eT4Qkfmyp9nqGeWqBwZUE0LV9JTzedZxG/nsxPIAW8pzlHkHaMwNQMhzgYjMmT3NVs8oVz0woJoQqqbnqYyse6Q867aP7P9YHmBLeY4y7wCNuQEIeS4QkTmzp9nqGeWqBwZUE0LV9DyVkXWPlGfd9pH9H8sDbCnPUeYdoDE3ACHPBSIyZ/Y0Wz2jXPXAgGpCqJqepzKy7pHyzNv+0sSYAWypPz+1AARzAxDyXHDkwCpm+/zOVs8oswEMqCaEqul5KiPrHinPvO0vTYwZwJb681MLQDA3ACHPBZF//c///OES2wWryMfk3p/f2eoZZTaAAdWEUDU9T2Vk3SPlmbf9pYkxA9hSf35qAQBoqmuFqhG9emK7YBX5mNz78ztbPaPMBjCgmhCqpuepjKx7pDzztr80MWYAW+rPTy0AAE11rVA1oldPbBesIh+Te39+Z6tnlNkABlQTQtX0lPMxbrcnxgxgS/25rQUAoKmuFapG9OqJ7YJV5GNy78/vbPWMMhvAgGpCqJqecj7POm4jn51YHmBLeY4y7wAAvepaoWpEr57YLlhFPib3/vzOVs8oswEMqCaEqukp5/Os4zby2YnlAbaU5yjzDgDQq64Vqkb06ontglXkY3Lvz+9s9YwyG8CAakIQeVQAtmTeAU4xNwAhzwWRqhG9emK7eF4///zz559++ulL4s+zy8fk3p/f2eoZZTaAAdWEUN09LOfzrOM28tmJ5QG2lOco8w7QmBuAkOeCSNWIXj2xXTyfH3744Vef72imP0pr3kc+fvz49auX5Zoje5qtnlFmAxhQTQhV0/NURtY9Up5120f2fywPsKU8R5l3gMbcAIQ8F0SqRvTqie3i+UTz+sOHD59fv3797fO9dSM97nj/8ccfP3/33XffvmfL999///ndu3dflzwtrxfZ02z1jDIbwIBqQqianqcysu6R8qzbPrL/Y3mALeU5yrwDNOYGIOS5IFI1oldPbBfPK5rn7fO9ZSM9muivXr360jB///79169+/vzp06dfNPPjTvlzj5hpy/XZ02z1jDIbwIBqQqianqcysu6R8qzbPrL/Y3mALeU5yrwDNOYGIOS5IFI1oldPbBfPK5rW7fO9ZSP9zZs3X5rop5rk8Xqr4+3bt1+/+mttmT57mq2eUWYDGFBNCFXT81RG1j1SnnnbX5oYM4At9eenFoBgbgBCngsiVSN69cR28dza53urRnrcdX7p/aPB3j/yJdaptNf77Gm2ekaZDWBANSFUTc9TGVn3SHnmbX9pYswAttSfn1oAAJrqWqFqRK+e2C6eW/t8b9VIj2efx/tHo/zcLxbtfwFq//iXXnu9z55mq2eU2QAGVBNC1fQ8lZF1j5Rn3vaXJsYMYEv9+akFAKCprhWqRvTqie3iubXP91aN9PgFo+17RDP91N3m/XLx50p7vc+eZqtnlNkABlQTQtX0lPMxbrcnxgxgS/25rQUAoKmuFapG9OqJ7eJY4jEpHz58+NKMjsQd4efuBG+f760a6VFL+x7RSD9FI31/ZgMYUE0IVdNTzudZx23ksxPLA2wpz1HmHQCgV10rVI3o1RPbxXFE07w9azx+gWc0pF+/fv3la/HolOpu8Pb5jkZ6vB7Lxy8GjeVjvcipxva1opEf73/ql40Gj3bZn9kABlQTQtX0lPN51nEb+ezE8gBbynOUeQdYQTV3tVSq5SKVarlIpVouUqmWa8mqZVqyapmWSrVcpFItF6lUy0Uq1XItWbVMS1Yt01KplotUquUilWq5SKVariWrlmnJqmVaKtVykVOvVY3o1RPbxTFE4zz2ZzS+8x3o0SCPr7969errV/5Q+3xHEz4a6H0TOxrf8bV4Pd5/K1FfqyNy6vEv/TIte5qtnlFmAxhQTQhV01PO51nHbeSzE8sDbCnPUeYdoJl5bsi19alUy0Uq1XKRSrVcpFIt15JVy7Rk1TItlWq5SKVaLlKplotUquVasmqZlqxapqVSLRepVMtFKtVykUq1XEtWLdOSVcu0VKrlIqdeqxrRqye2i/X1j0WpHtHS3+2dX29fj0Z7PIYl69/7VIN7VP893r59+/Wrv9aW6bOn2eoZZTaAAdWEUDU95XyeddxGPjuxPMCW8hxl3gGaWeeGXFdOpVouUqmWi1Sq5SKVarmWrFqmJauWaalUy0Uq1XKRSrVcpFIt15JVy7Rk1TItlWq5SKVaLlKplotUquVasmqZlqxapqVSLRc59VrViF49sV2srb+bOxrmlbgTPV6P/+bHq1xat3/G+RbPUe/rr+6Y77Xl+uxptnpGmQ1gQDUhVE3PUxlZ90h51m0f2f+xPMCW8hxl3gGaWeeGXFdOpVouUqmWi1Sq5SKVarmWrFqmJauWaalUy0Uq1XKRSrVcpFIt15JVy7Rk1TItlWq5SKVaLlKplotUquVasmqZlqxapqVSLRc59VrViF49sV2sLR7J0j6j8edKNM/j0SzVM8rbuqeegx7N87bMFo30c03+rNXRZ0+z1TPKbAADqgmhanqeysi6R8qzbvvI/o/lAbaU5yjzDtDMOjfMWhccVT7mIlUjevXEdrG2c49tucaldbdspLfnul/TRA+tjj57mq2eUWYDGFBNCFXT81RG1j1SnnXbR/Z/LA+wpTxHmXeAZta5Yda64KjyMRepGtGrJ7aLtcWzzdtndKVGensuevxDwDVN9NDq6LOn2eoZZTaAAdWEUDU9T2Vk3SPlmbf9pYkxA9hSf35qAQizzg2z1gVHlY+5SNWIXj2xXayt/4yu0kh///79l/eLO9Jv0eros6fZ6hllNoAB1YRQNT1PZWTdI+WZt/2liTED2FJ/fmoBmJk5Cx4rH3ORqhG9emK7WFt7xnhkhUb6pSZ6POc9lqm0OvrsabZ6RpkNYEA1IVRNz1MZWfdIeeZtf2lizAC21J+fWgAAmupaoWpEr57YLtbWnjMeOdWAPqet+4hG+sePH7+8z7k70eNRLxrp+zAbwIBqQqiannI+xu32xJgBbKk/t7UAADTVtULViF49sV2srTWnI69fv/761Vo0sOPZ5L227mgj/VITP+qM57lfepzLue/T6uizp9nqGWU2gAHVhFA1PeV8jNvtiTED2FJ/bmsBAGiqa4WqEb16YrtY39u3b799Tk81oT99+vTl9fhv0752br1rGumXHtfSmuiRaORXiXXjbvR4n1O/fLTV0WdPs9UzymwAA6oJoWp6yvk867iNfHZieYAt5TnKvAMA9KprhaoRvXpiu1hfNJ5bEzqa1dG47kXDPJ6lHg33EK9HUzwa2O3zHXezx9faum2Zvkkfy/fLNPE92zL5zvSorX+O+zU55ZZlH2G2ekaZDWBANSFUTU85n2cdt5HPTiwPsKU8R5l3gMbcAIQ8F0SqRvTqie3iOKLR3Zra0RiPv8d/4++tiR5a071KvHbtMk001uP7Vo93aXerX5v83r1q+T3NVs8oswEMqCaEqukp5/Os4zby2YnlAbaU5yjzDtDMOjfMWhccVT7mIlUjevXEdnEscQf4hw8fvjTRI+/evfvF41xWlo/JvT+/s9UzymwAA6oJoWp6nsrIukfKs277yP6P5QG2lOco8w7QzDo3zFoXHFU+5iJVI3r1xHbBKvIxuffnd7Z6RpkNYEA1IVRNz1MZWfdIedZtH9n/sTzAlvIcZd4BmlnnhlnrgqPKx1ykakSvntguWEU+Jvf+/M5WzyizAQyoJoSq6XkqI+seKc+67SP7P5YH2FKeo8w7QDPr3DBrXXBU+ZiLVI3o1RPbBavIx+Ten9/Z6hllNoAB1YRQNT1PZWTdI+WZt/2liTED2FJ/fmoBCLPODbPWBUeVj7lI1YhePbFdsIp8TO79+Z2tnlFmAxhQTQhV0/NURtY9Up5521+aGDOALfXnpxaAmZmz4LHyMRepGtGrJ7YLVpGPyb0/v7PVM8psAAOqCaFqep7KyLpHyjNv+0sTYwawpf781AIA0FTXClUjevXEdsEq8jG59+d3tnpGmQ1gQDUhVE3PI2TL7dzi/baqdZbEdgFsKc+l5h0AoFddK1SN6NUT2wWryMfk3p/f2eoZZTaAAdWEUDU9j5Att3OL99uq1lkS2wWwpTyXmncAgF51rVA1oldPbBesIh+Te39+Z6tnlNkABlQTQtX0PEK23M4t3m+rWu+ZkTpjeYAt5TnKvAMA9KprhaoRvXpiu2AV+Zjc+/M7Wz2jzAYwoJoQqqbnEbLldm7xflvVes+M1BnLA2wpz1HmHaAxNwAhzwWRqhG9emK7YBX5mNz78ztbPaPMBjCgmhCqpucRsuV2bvF+W9V6z4zUGcsDbCnPUeYdoJl1bpi1LjiqfMxFqkb06ontglXkY3Lvz+9s9YwyG8CAakKomp6nMrLuo7NlrVu831a13jMjdcbyAFvKc5R5B2hmnRtmrQuOKh9zkaoRvXpiu2AV+Zjc+/M7Wz2jzAYwoJoQqqbnqYyse6Q867aP7P9YHmBLeY4y7wDNrHPDrHXBUeVjLlI1oldPbBesIh+Te39+Z6tnlNkABlQTQtX0PJWRdY+UZ932kf0fywNsKc9R5h2gmXVumLUuOKp8zEWqRvTqie2CVeRjcu/P72z1jDIbwIBqQqianqcysu6R8szb/tLEmAFsqT8/tQCEWeeGWeuCo8rHXKRqRK+e2C5YRT4m9/78zlbPKLMBDKgmhKrpeSoj6x4pz7ztL02MGcCW+vNTC0CYdW6YtS44qnzMRapG9OqJ7YJV5GNy78/vbPWMMhvAgGpCqJqepzKy7pHyzNv+0sSYAWypPz+1AAA01bXCUQOrmO3zO1s9o8wGMKCaEKqm56mMrPvobFnrFu+3Va2zJLYLYEt5LjXvAAA91wown9mOy9nqGWWWgwHVhFA1PY+QLbdzi/fbqtZZEtsFsKU8l5p3AICeawWYz2zH5Wz1jDLLwYBqQqiankfIltu5xfttVes9M1JnLA+wpTxHmXcAgJ5rBZjPbMflbPWMMsvBgGpCqJqeR8iW27nF+21V6z0zUmcsD7ClPEeZd4DG3ACEPBeYD2B/sx2Xs9UzyiwHA6oJoWp6HiFbbucW77dVrffMSJ2xPMCW8hxl3gGaWeeGWeuCo8rHnOMO9jfbcTlbPaPMcjCgmhCqpuepjKz76GxZ6xbvt1Wt98xInbE8wJbyHGXeAZpZ54ZZ64Kjysec4w72N9txOVs9o8xyMKCaEKqm56mMrHuk3HvbVxnXkTpjeYAt5TnKvAM0s84Ns9YFR5WPOccd7G+243K2ekaZ5WBANSFUTc9TGVn3SHnWbR/Z/7E8wJbyHGXeAZpZ54ZZ64It5M+7iMyXPcxSRzNbPaNcXcCAakKomp6nMrLukfLM2/7SxJgBbKk/P7UAhFnnhlnrgnvLn3URmTN7mKWOZrZ6Rrm6gAHVhFA1PU9lZN0j5Zm3/aWJMQPYUn9+agEIs84Ns9YF95Y/6yIyZ/YwSx3NbPWMcnUBA6oJoWp6nsrIukfKM2/7SxNjBrCl/vzUAjAzcxbPIn/WRWTO7GGWOprZ6hnl6gIGVBNC1fQ8lZF1H50ta93i/baqdZbEdgFsKc+l5h0AmEN1jhaR+bKHWepoZqtnlJ+IYEA1IVRNzyNky+3c4v22qnWWxHYBbCnPpeYdAJhDdY7+1//8zx8ysW2winxc7iHXsFcdzWz1jDIjwYBqQqiankfIltu5xfttVes9M1JnLA+wpTxHmXcAYA7VObpqQh8hsW2winxc7iHXsFcdzWz1jDIjwYBqQqiankfIltu5xfttVes9M1JnLA+wpTxHmXcAYA7VObpqQh8hsW2winxc7iHXsFcdzWz1jDIjwYBqQqiankfIltu5xfttVes9M1JnLA+wpTxHmXeAZta5Yda64N7yZz1SNaGPkNg2WEU+LveQa9irjma2ekaZkWBANSFUTc8jZMvt3OL9tqr1nhmpM5YH2FKeo8w7QDPr3DBrXXBv+bMeqZrQR0hsG6wiH5d7yDXsVUczWz2jzEgwoJoQqqbnqYyse6Tce9tXGdeROmN5gC3lOcq8AzSzzg2z1gX3lj/rkaoJfYTEtsEq8nG5h1zDXnU0s9UzyowEA6oJoWp6nsrIukfKs277yP6P5QG2lOco8w7QzDo3zFoX3Fv+rEeqJvQREtsGq8jH5R5yDXvV0cxWzygzEgyoJoSq6XkqI+seKc+87S9NjBnAlvrzUwtAmHVumLUuuLf8WY9UTegjJLaN5/HTTz99/vHHH3+RleTjcg+5hr3qaGarZ5QZCQZUE0LV9DyVkXWPlGfe9pcmxgxgS/35qQUgzDo3zFoX3Fv+rEeqJvQREtvG88if60ft/0+fPn1+9+7d59evX3/+4YcfviSa+B8/fvy6xHX2qD3LNexVRzNbPaPMSDCgmhCqpuepjKx7pDzztr80MWYAW+rPTy0AMzNn8SzyZz1SNaGPkNg2nkfckR559erVt8/21t6+ffvl+0QTPZrpHz58+PzmzZtv3z++/vPPP39d+ry2Tssecg171dHMVs8oMxIMqCaEqul5KiPrPjpb1jr7ts+YGDOALfVzfgsAsL/qHF01oY+Q2DaeT9wN3j7bW4om+nfffVfeeR5N9VZD3KF+jbZ8yx5yDXvV0cxWzygzEgyoJoSq6XmEbLmdW7zfVrXOktgugC3ludS8AwBzqM7RVRP6CIlt4/k8opEej3Np3+PUXefRZG/LxJ3ql7RlW/aQa9irjma2ekaZkWBANSFUTc8jZMvt3OL9tqr1nhmpM5YH2FKeo8w7ADCH6hxdNaGPkNg2ns8jGunxCJn2PSLx9yzuRG+vX/OLT/v3i+wh17BXHc1s9YwyI8GAakKomp5HyJbbucX7bVXrPTNSZywPsKU8R5l3AGAO1Tm6akIfIbFtPJ9HPdqlPQs9/lvRSB83Wz2jzEgwoJoQqqbnEbLldm7xflvVes+M1BnLA2wpz1HmHaAxN8C+8jEYqZrQR0hsG8/nUY30EM9CP+X777//VodHu7zMbPWMMiPBgGpCEHlUALZk3gFOmXVumLUuuLf8WY9UTegjJLaNY3j//v2XO7/jLu9I/KLP6nEqoWqkxy8Eja+3VL8g9J7i/VsN0VC/Rlu+ZQ+5hr3qaGarZ5QZCQaMTggj63LaKuO6Sp3Ac8pzlHkKaGadG2atC+4tf9YjVRP6CIltY21xJ3e7szt+qWc01CPRSI9f5hlN9fyLPvtGerwW68Wy0Yhv68Vrpx7Jcg/xPeN7xPe6tmnfam7ZQ65hrzqa2eoZZUaCAaMTwsi6rM/+B2aW5yjzFNDMOjfMWhfcW/6sR6om9BES28a6omHePqPx5+zUM8r7Rno0tOP1vtne/6LQWPae4vu0uuIfAG65873V1LKHXMNedTSz1TPKjAQDRieEkXVZn/0PzCzPUeYpoJl1bpi1Lri3/FmPVE3oIyS2jTV9+vTp253j0QzP+mZ4LNfrG+lxx3ql3eV+6vVbvXr16tv3jMT7X/Nc9F6/fmQPuYa96mhmq2eUGQkGjE4II+sCwJbyOcp5CmhmnRtmrauXa+yTVcu0VKrlIpVquUilWi5SqZZryaplWirVcpFKtVykUi0XqVTLRSrVci1ZtUxLpVquakIfIbFtrKnd1R2p7uqOO79b8zrfrd430k81s6OBHq/nJvyoaPBHPe0fAapHz5zSam7ZQ65hrzqa2eoZZUaCAaMTwsi6ALClfI5yngJmt8KclWvsk1XLtFSq5SKVarlIpVouUqmWa8mqZVoq1XKRSrVcpFItF6lUy0Uq1XItWbVMS6VarmpCHyGxbayp/3yeEg3qqlHeN9JPaY30c8uM6H/ZaDT8r2mmt+Vb9pBr2KuOZrZ6Rq1dPexsdEIYWffRVqoVgHF53jf3A4yr5taWrFqmpVItF6lUy0Uq1XKRSrVcS1Yt01KplotUquUilWq5SKVaLlKplmvJqmVaKtVyVRP6CIltYz39Y1te8uiVGRrpob+rPj/HvdKWbdlDrmGvOprZ6hm1dvWws6NNCOestJ0r1QowqzyXmk8BxlVza0tWLdNSqZaLVKrlIpVquUilWq4lq5ZpqVTLRSrVcpFKtVykUi0XqVTLtWTVMi2VarmqCX2ExLaxnqM00uNu+fY9IpfuSu+Xjewh17BXHc1s9Yxau3rY2dEmhHNW2s5Val2lTuA55TnKPAUAc6jO0VUT+giJbWM9KzTSo8Z4j7jT/FSDvN+OSPz9nH7ZyB5yDXvV0cxWz6i1q4edHW1COGel7Vyl1lXqBJ5TnqPMUwAwh+ocXTWhj5DYNtbTP1/8+++///rV6z2ikd5+mWjk1GNbNNLHzVbPqLWrh50dbUI4Z6XtXKXWVeoEnlOeo8xTQGNuuJ6xYgv5cxWpmtBHSGwba4oGevt8Xnokyvv377/+6Tce0Uhv60ZO3TWfG+nxDwTn9MtG9pBr2KuOZrZ6Rq1dPezsaBPCOStt5yq1rlIn8JzyHGWeAppZ54YZ65qxJtaXP1eRqgl9hMS2saa+GZ4b5b1Pnz79aj/fq5Ee3/fU3eZt3cip+t69e/dtmWvurO/fM7KHXMNedTSz1TNq7ephZ6MTwsi6j6bW+1ulTuA55TnKPAU0s84NM9Y1Y02sL3+uIlUT+giJbWNdr169+rIP4zEqp+5Kf/369a+a3fdopMfd4+3xLVUzPb4Wr5+7y7z/HtFUv6Qt27KHXMNedTSz1TNq7ephZ6MTwsi6rM/+B2aW5yjzFNDMOjfMWNeMNbG+/LmKVE3oIyS2jXVF87w10+O/cfd5E69FEz2+3prs8SiVuDu8fyxMNNXj6/0y0dTun3H+9u3bXywTLjXSW23xvWLdrG/mn7qrPWvLt+wh17BXHc1s9YwyI8GA0QlhZF3WZ/8DM8tzlHkKaGadG2asa8aaWF/+XEWqJvQREtvG2qJhHU3p1tSO5nW70zv+2ze/o6kdX8uJdVuz+5plmnOPdgnxvaMJH7XE+8ayUWtr/sd7XnMnehPr9NlDrmGvOprZ6hllRoIBoxPCyLoAsKV8jnKeAppZ54YZ65qxJtaXP1eRqgl9hMS2cRzR6G7p707fWzTUP3z48KWJ3pKb8tfIx+Uecg171dHMVs8oMxIMGJ0QRtYFgC3lc5TzFDC7GeesGWtifflzFama0EdIbBusIh+Xe8g17FVHM1s9o8xIMGB0QhhZ99FWqhWAcXneN/cDwByqc3TVhD5CYttgFfm43EOuYa86mtnqGWVGggFHmxDOWWk7V6oVYFZ5LjWfAsAcqnN01YQ+QmLbYBX5uNxDrmGvOprZ6hllRoIBR5sQzllpO1eqFWBWeS41nwLAHKpzdNWEPkJi22AV+bjcQ65hrzqa2eoZZUaCAUebEM5ZaTtXqXWVOoHnlOco8xQAzKE6R1dN6CMktg1WkY/LPeQa9qqjma2eUWYkGHC0CeGclbZzlVpXqRN4TnmOMk8BjbnhNj///PPnn3766ct/4R7yMRipmtBHSGwbrCIfl3vINexVRzNbPaPMSDDgaBPCOStt5yq1rlIn8JzyHGWeAppZ54YZ6/rhhx++1fPhw4evX4Ux/ee8pWpCHyGxbbCKfFzuIdewVx3NbPWMMiPBgNEJYWTdR1Pr/a1SJ/Cc8hxlngKaWeeGGevqG+k//vjj16/CmP5z3lI1oY+Q2DZYRT4u95Br2KuOZrZ6RpmRYMDohDCyLuuz/4GZ5TnKPAU0s84NM9alkc4W+s95S9WEPkJi22AV+bjcQ65hrzqa2eoZZUaCAaMTwsi6rM/+B2aW5yjzFNDMOjfMWNfbt2+/1aORzr30n/OWqgl9hMS2wSrycbmHXMNedTSz1TPKjAQDRieEkXUBYEv5HOU8BTSzzg0z1hXN81aPRjr30n/OW6om9BES2waryMflHnINe9XRzFbPKDMSDBidEEbWBYAt5XOU8xQwuxnnrPfv3395vEsk/gz3kD/rkaoJfYTEtsEq8nG5h1zDXnU0s9UzyowEA0YnhJF1H22lWgEYl+d9cz8AzKE6R1dN6CMktg1WkY/LPeQa9qqjma2eUWYkGHC0CeGclbZzpVoBZpXnUvMpAMyhOkdXTegjJLYNVpGPyz3kGvaqo5mtnlFmJBhwtAnhnJW2c6VaAWaV51LzKQDMoTpHV03oIyS2DVaRj8s95Br2qqOZrZ5RZiQYcLQJ4ZyVtnOVWlepE3hOeY4yTwHAHKpz9JEDq5jhs5tr2KuOZrZ6RpmRYMDRJoRzVtrOVWpdpU7gOeU5yjwFNOYG2Fc+Bh2HMIcZjstcw151NLPVM8psCwOONiGcs9J2rlLrKnUCzynPUeYpoJl1bpixrhlrYn35c+WzBXOY4bjMNexVRzNbPaPMtjBgdEIYWffR1Hp/q9QJPKc8R5mngGbWuWHGumasifXlz5XPFsxhhuMy17BXHc1s9Ywy28KA0QlhZF3WZ/8DM8tzlHkKaGadG2asa8aaWF/+XPlswRxmOC5zDXvV0cxWzyizLQwYnRBG1mV99j8wszxHmaeAZta5Yca6ZqyJ9eXPlc8WzGGG4zLXsFcdzWz1jDLbwoDRCWFkXQDYUj5HOU8Bzaxzw4x1zVgT68ufK58tmMMMx2WuYa86mtnqGWW2hQGjE8LIugCwpXyOcp4CmlnnhhnrmrEm1pc/Vz5bMIcZjstcw151NLPVM8psCwNGJ4SRdQFgS/kc5TwFAL9RnSNFZK7sYcYa9qqjma2eUX4iggGjE8LIuo+m1ufx/v37z69fv/78448/XsybN28+//DDD1/XBI4kz6XmUwCoz48iMl/2MGMNe9XRzFbPKD8RwYCjTQjnrLSdK9U6o2iQ5zG8FOB4HOsA8GvV+VFE5sseZqxhrzqa2eoZ5SciGHC0CeGclbZzlVpXqTM31l+9evX506dPX18Fjqo/7lsA4NlV50cRmS97mLGGvepoZqtnlJ+IYMDRJoRzVtrOVWpdpc6PHz/+os5orHO7GLuffvrp699gfv1x3wIQzA08s/z5F5E5s4cZa9irjma2eka56oEBR5sQzllpO1epdZU6Q1+nRvrLxNhppLOS/rhvAQizzg0z1jVjTYzJ+zTyr//5nz9kYttgFfm43MOMNexVRzNbPaPMijBgdEIYWffR1Hp/q9QZ+jo10m/X7urXSGcl/XHfAhBmnRtmrGvGmhiT92mkakIfIbFtsIp8XO5hxhr2qqOZrZ5RZkUYMDohjKzLaauM6yp1hr5OjfTbvX///svYaaSzkv64bwEIs84NM9Y1Y02Myfs0UjWhj5DYNlhFPi73MGMNe9XRzFbPKLMiDBidEEbWZX0r7f++To302/3www9fxk4jnZX0x30LQJh1bpixrhlrYkzep5GqCX2ExLbBKvJxuYcZa9irjma2ekaZFWHA6IQwsi48Uv851Ui/TTTP29hppLOS/rhvAQizzg0z1jVjTYzJ+zRSNaGPkNg2WEU+LvcwYw171dHMVs8osyIMGJ0QRtaFR+o/pxrp14tno3/33Xffxk4jnZX0x30LQJh1bpixrhlrYkzep5GqCX2ExLbBKvJxuYcZa9irjma2ekaZFWHA6IQwsi48Uv85PddIj9fevHnz5VEmLf1n+9OnT19ef/Xq1bf3i2Xia/HaKdX7RoO6iWeQv379+vP333//5T3jv/H3+PrPP//8dalfi9ffvn37i/eNdattjCZ4fL1fNrYj/pvF+0a9bRtb4mvxHjkwo/z5jQDMzJzFI+TPWaRqQh8hsW2winxc7mHGGvaqo5mtnlFmRRgwOiGMrPtoan1u/Xiea/z2y/UJ7RduRjM5mtKR+Fq7Yzv+G3dwV/r36hPLR+M78u7du5Pv++HDh6/v9EvRBM/vGam2Mb5WLVs10qvlzgVm5LMKAL9WnR+rJvQREtsGq8jH5R5mrGGvOprZ6hllVoQBR5sQzllpO1eqdRX9eF5zB3U0s/t1opEdDe34etYvWzWle9E479833jMa89Vd5/G1/s73aK6fEnfDt7vZI+e2Md437nZvy16quW/AV9sPs2qf2z4A8Oyq82PVhD5CYttgFfm43MOMNexVRzNbPaPMijDgaBPCOStt5yq1rlJn6Ou8ppEe+nWi4R13jJ/S7h6PnHvES+jfNxra58R79e996s70EI94actd2sZ4n7asRjpH1T63fQDg2VXnx6oJfYTEtsEq8nG5hxlr2KuOZrZ6RpkVYcDRJoRzVtrOVWpdpc7Q1/mSRnrc7X1O/4iVS83m/n3PPf+86RvZ0VQ/tU6/3KVtvOUueo10VtU+t30A4NlV58eqCX2ExLZxbPGzUfyM0ufSjU2zysflHmasYa86mtnqGWVWhAFHmxDOWWk7V6l1lTpDX+dLGulxt/c5L22kXyMuBPt1Tt0Zr5EOv9Q+t30Awqxzw4x1zVgTY/I+jVRN6CMkto1j63+uabn2570tRGM/fr56STM/b8ceZqxhrzqa2eoZZVaEAUebEM5ZaTtXqXWVOkNf50sa6eeeTx62bKSH/vnnpxrfGunwS+1z2wcgzDo3zFjXjDUxJu/TSNWEPkJi2zi2dkf6LT8Lbak9bvMlPze1+lv2MGMNe9XRzFbPKLMiDBidEEbW5bRVxnWVOkNf57UXVv06ly6Etm6k978c9NR6t1w8Ro1tWY10jqp9bvsAhFnnhhnrmrEmxuR9Gqma0EdIbBvPo/1Mtlcjvf8Z6yU/N7V1W/YwYw171dHMVs8osyIMGJ0QRtZlfSvt/77OFRvpfTP71Hr9Mpe2sb/I00jnqNrntg9AmHVumLGuGWtiTN6nkaoJfYTEtvE89mykx53x/f9FrJH+crmGvepoZqtnlFkRBoxOCCPrwiP1n9NrL6z6dTTSf7OsRjoraZ/bPgBh1rlhxrpmrIkxeZ9Gqib0ERLbxvPYs5Eej3S55WfCSlu3ZQ8z1rBXHc1s9YwyK8KA0QlhZF14pP5zeu2FVb/O3o30N2/eXFxvr0Z6fO3SM+RhD+1z2wcgzDo3zFjXjDUxJu/TSNWEPkJi23geezXS4+eh77777ssvGG3H1KWfCStt3ZY9zFjDXnU0s9UzyqwIA0YnhJF14ZH6z+mKjfT+/eN/Gazs1UiP1y+9B+yhfW77AMxsxjlrxpoYk/dppGpCHyGxbTyPPRrp7ZEu7969+/L3dkxppL9crmGvOprZ6hllVoQBoxPCyLqPtlKt3F+/76+9sOrX2bORHhdn/Trxvw1W+ob3pW3sl9VI56ja57YPADy76vxYNaGPkNg21vbx48cvP2+0fPjw4esrv1Y10uMu8fgZpuXe2iNdmnZMveR7tXVb9jBjDXvV0cxWzyizIgw42oRwzkrbuVKtq+jHs7+wOqdf59KF0Esb6ecuBJu4u6FfJy4GK7FdbZlL2/j69etvy97SSK/qjdc10plR+9z2AYBnV50fqyb0ERLbxpriZ6r2yztfvXr15WeOeNxlfC0eo1I9WrJvpMfNSLF8LBtfb+8V/43m/D1Eje2RLk18j4hG+svlGvaqo5mtnlFmRRhwtAnhnJW2c5VaV6mzf1Zd5FKTuenX2aqRHg3tc+ICMC7O2vLnao8m9zXL5fG41ASPi9Rz7xvrn7pLHvbUf85bAODZVefHqgl9hMS2sZ7280f8HJR/toqfj9rPXvkmn/b1+Jklmu/RSI/lm/Z7p+J9+6+/RKzfP9KlifePaKS/XK5hrzqa2eoZZVaEAUebEM5ZaTtXqXWVOvsGc+RS8zrEhVG/zqVfphkXatcu27/vpeX7O8fjwu+cvkEe9ZwS79nXGxeA55x73/baNXfWw6O1z20fAI6nmu9bKtVykUq1XKRSLRepVMu1ZNUyLVm1TEtTvRapGtGrJ7aLtcTd4u0zmZvUof+/dfPPda2RHo3y6me+/uea0Z9f8iNdmvb+Gukvl2vYq45mtnpGmRVhwNEmhHNW2s5Vap21zmhMx0VNS64zEs3jfpmm/b39r3992mvtfwVsF0/nlq2a5P1y8Xr8N96rvysiLvL6Zve1d3zH3RdtnXzhGe/fmuj5HxfaeJz6PvH1tmxr6Mf7xXvl5jrMov+MtwAEc8P1VhirXGOfSrVcpFItF6lUy0Uq1XItWbVMS1Yt09JUr0WqRvTqie1iLfEzSey3Uzf7xM9i7f/YzT9rtXUj8fNUpb1+7v/gvSSa5FFD9T3a+2ukv1yuYa86mtnqGWVWhAFHmxDOWWk7V6l11jrb/8rXmtmXEhdBTWxH/L1arjXM20VRfC3+npeLtCZ4dYEWX28J8X7x3u37tnUj0bS+9SIsLihbrf22tPeLBni8Z/sefWK5U2Jb4v365eP73OsZg3Bv/We1BSDMOjfMWNeMNWW5xj6VarlIpVouUqmWi1Sq5VqyapmWrFqmpalei1SN6NUT28U6+jvGz/3fuPHzTnXDUvuZ59yNPu39X9pIj5+l4meg6m750N5fI/3lcg171dHMVs8osyIMGJ0QRtbltFXGdZU6Z3NqzKIhHRdcLaPiQrR/v/6OidZMj9zaCO/fE2bWH2vVMQc8r1nnhhnrWqGmc6lUy0Uq1XKRSrVcpFIt15JVy7Rk1TItTfVapGpEr57YLtbRP7blJY3u1kg/d3PQyPuH+D91r2nUv+RnpbZuyx5mrGGvOprZ6hllVoQBoxPCyLqsz/5/GWMGj9Efa445oDfr3DBjXWo6njx+kaoJfYTEtrGOaG63z+RLGtFbN9Kjplj33I1I7f010l8u17BXHc1s9YwyK8KA0QlhZF3WZ/+/jDGDx+iPNccc0Jt1bpixLjUdTx6/SNWEPkJi21jH7I30eKRL3I0e655Ke/94NE372rXb0tZt2cOMNexVRzNbPaPMijBgdEIYWReelWMGHqM/1hxzQG/WuWHGutR0PHn8IlUT+giJbWMdsz/aJd73XPrfdRV/bl+vnudeaeu27GHGGvaqo5mtnlFmRRgwOiGMrAvPqj9m/KJO2E5/rLUAzGzGOUtNx5PHL1I1oY+Q2DbWce0vG23yz1LRtI5147+ntPd/SSP9kvbol4hHu7xcrmGvOprZ6hllVoQBoxPCyLqPtlKtHFf8ks/+c/jhw4evrwD31h9rLQCsz9w+Jo9fpGpCHyGxbaylNcO/++67Lz87nRI/R8WjVnr3aqTHHeTX3kXe00i/j1zDXnU0s9UzyqwIA442IZyz0nauVCvXiYu5SFwQ5v3bXnN3OtxXPtYiAKzP3D4mj1+kakIfIbFtrCV+Jmqfy3PN7vas8l78TBXrxX9PufTe0UBvy9zaTNdIv49cw151NLPVM8qsCAOONiGcs9J2rlLrKnXOIC7Uqrx9+1YjHTaS5yjzFADU58eqCX2ExLaxnr6ZHc9N78Vd6vHYl2ikx58j0bSOtJuW4r/ta22d+HPcxd7e9/Xr179YpsnPOb9G/BwX7xPvmd//lp/x2rote5ixhr3qaGarZ5RZEQYcbUI4Z6XtXKXWVeoEnlOeo8xTAFCfH6sm9BES28aaogkdj26JfRj/jRuQooEeTfK4Cak99iWW6z/LOdcs094rxJ+jgd4a9ZfEzVHVe/aJZa6R19vDjDXsVUczWz2j1q4edna0CeGclbZzlVpXqRN4TnmOMk8BjbnhesbqePI+jVRN6CMkto21xR3d/f/Re+T/izcfl3uYsYa96mhmq2eUWREGHG1COGel7Vyl1lXqBJ5TnqPMU0Az69wwY10z1sSYvE8jVRP6CIltg1Xk43IPM9awVx3NbPWMMivCgNEJYWTdR1Pr/a1SJ/Cc8hxlngKaWeeGGeuasSbG5H0aqZrQR0hsG6wiH5d7mLGGvepoZqtnlFkRBoxOCCPrsj77H5hZnqPMU0Az69wwY11qOp48fpGqCX2ExLbBKvJxuYcZa9irjma2ekaZFWHA6IQwsi7rs/+BmeU5yjwFNLPODTPWpabjyeMXqZrQR0hsG6wiH5d7mLGGvepoZqtnlFkRBoxOCCPrwtbit6zHb3eP3+p+7W9KB44jn6Ocp4Bm1rlhxrrUdDx5/CJVE/oIiW2DVeTjcg8z1rBXHc1s9YwyK8KA0QlhZF3Y2uvXr3/x+dRMh+fSH/8tADObcc5S0/Hk8YtUTegjJLYNVpGPyz3MWMNedTSz1TPKrAgDRieEkXUfbaVauY+8z+POdOB55DkgAsD6zO1j8vhFqib0ERLbBqvIx+UeZqxhrzqa2eoZZVaEAUebEM5ZaTtXqnVm7kiH59Yf/y0ArM/cPiaPX6RqQh8hsW2winxc7mHGGvaqo5mtnlFmRRhwtAnhnJW2c6VaZxbPSH/z5s23Z6TH34HnkedS8ykA1OfHqgl9hMS2wSrycbmHGWvYq45mtnpGmRVhwNEmhHNW2s5Val2lTuA55TnKPAUA9fmxakIfIbFtsIp8XO5hxhr2qqOZrZ5RZkUYcLQJ4ZyVtnOVWlepE3hOeY4yTwGNuYFnlj//kaoJfYTEtsEq8nG5hxlr2KuOZrZ6RpkVYcDRJoRzVtrOVWpdpU7gOeU5yjwFNLPODTPWNWNNjMn7NFI1oY+Q2DZYRT4u9zBjDXvV0cxWzyizIgwYnRBG1n00td7fKnUCzynPUeYpoJl1bpixrhlrYkzep5GqCX2ExLbBKvJxuYcZa9irjma2ekaZFWHA6IQwsi7rm3X/xy8V/emnn74kfslo5PXr15/fv3//dYk/9OnTp4vLfvz48cvX45eWRuIXmMbr1S8vjfd79+7dt2XjveLvt/6i03j/WPf777//Mrbffffdl/d7yXuFqOvcNsR/4/X2/SLx91Pi/d6+ffvlvdry8ef4WrwGM2ifzT4AYda5Yca61HQ8efyOHljFDJ/dGWvYq45mtnpGmRVhwOiEMLIu65t1/0dTPNcWqRrD8bVzy0ZjOP7+6tWrL3+ORFM7vhb/jSZ7E03u+Ho0o2O5vjEdy1aN/Cwa2vG9Yp1odsd7tiZ//14fPnz4usZlbRsi0ZyP94r/tveK7xHvHYka++WzqK9/PZrnsU4k6m1fb+MHe2qfxz4AYda5Yca61HQ8efyMIcxhhuNyxhr2qqOZrZ5RZnwYMDohjKwLW4lmbzSfo0Hcmt6Rqrnb7kiP1/KyrWker/fi/duy8d92t3f8Ob5nL5ZtDfBI33ivRBM9Ut3V3TfZI9c00/vmdt6OaH6316LGJmqMbYl1e9d8//49Y/xgT+2z2AcgzDo3zFiXmo4nj58xhDnMcFzOWMNedTSz1TPKjA8DRieEkXXhEdpd4pFLd0n3y8ad1tFMPtX47pdtd3fnRnXTN5dzc7rXLxcN62hcZ9Fgb8tEfdUyTf9+UWPlVKO9auS37YzkfzDonWvewyO1z2EfgJnNOGep6Xjy+BlDmMMMx+WMNexVRzNbPaPM+DBgdEIYWRceIRq57fN5qZHeL3tp+ZcuGw36U+I9+vc81YTun0t+7q70/u7xU/XF+m2ZU8320C/X371eiX98uOY9YWvtc9gHgPWZ28fk8TOGMIcZjssZa9irjma2ekaZ8WHA0SaEc1bazpVqnd1II/3c3d552eoO7iYve0p/l/u5O9f7hvu5bWrLRE415fvazjXI+6b8NY9s6R9nA3tpn8E+AKzP3D4mj58xhDnMcFzOWMNedTSz1TPKjA8DjjYhnLPSdq5U6+z6RvEtjfRoHF/ykmUjp0TjPprUlxrVWzXSI5X+cTKRU+/V6x8Dc83ysIX+c9sCAM/O+RHmNMNxOWMNe9XRzFbPKDM+DDjahHDOStu5Sq0r1Nk3im9ppJ97BEvzkmUjLxGPS4n6Iv0zyEcb6f1d8Kf+QaB/1vq59+r1zf5rloct9J/bFgB4ds6PMKcZjssZa9irjma2ekaZ8WHA0SaEc1bazlVqXaHOaOK2+lZqpMfd6dHk7p+HHom/949NObdN/brRDK/0d46fuhO+b4rfmviFqOceewNbqj6TAMHcwDPLn3/HAMxhhuNyxhr2qqOZrZ5RZnwYcLQJ4ZyVtnOVWleoc7VGenu8SzSgY9n4b9Qdd6Q3fWP73DZd2p74Xv33OdXwzo30eF9YQf+5bQEIs84NM9Z17XUH6+g/Yy3A/mY4LmesYcaszIwPA0YnhJF1H02t97dCnSs10qNZ3t9tHo9wqX7h6S0/0PaPgYk73Jt43/ZaNNE/fPjw9ZVf679fRCOdVfSf2xaAMOvcMGNdt1x3sIb+M9YC7G+G43LGGmbMysz4MGB0QhhZl/WtsP9XaqTHM8rbMtHkPuXaH2jbHedxh3tr0Md/o952J3o82qW/270STfb2/SIa6ayi/9y2AIRZ54YZ6+qvO85dnzxSP0YRbpPHzxjCHGY4LmesYcaszIwPA0YnhJF1Wd8K+3+VRnr/Cz2jyV3did6caqRHw7x/Fnp7z/Ze/S8sjZz7Hr1Yrn2/SH9nO8ys/9y2AIRZ54YZ6+qvO6655nmEfowi3CaPnzGEOcxwXM5Yw4xZmRkfBoxOCCPrwiOs0kjvf+nnpbu9omHelu23Kero/95+8L22YX5O/4iYqPUa8X3jHwUu3fEOW2mf2T4AYda5Yca6NNKPJ4+fMYQ5zHBczljDbFmdGR8GjE4KI+vCI6zSSI/3aK9fqrN/jnq/7KlG+j3+N+z4RaTte0ZO/WLSXnz/S3fXw5b6z2wLQJh1bpixrluvjx6hH6MIt8njZwxhDjMclzPWsFcdR2U0YcDoBDWyLjxC/3zvSw3qftlLPyje8kNlv2yk0t/xHc9KPyVqbM83j8Td6U2s129j3p54rUo8qiVqvNTw7h8/c2mb4y70qDPeH/bSPq99AFifuX1MHj9jCHOY4bicsYa96jgqowkDRieokXUfTa3PI+6WjsZwpH9kSjSa29db0/jUstEEjkZ0fL09mqRftm9898tG8rL9o1gi0ZDulw2xfN8g75913sTysUy81n4xafw91o0a4+/5MSrR8G7veU0u/fLR3EyP753FMlHXPe6EhxH9Z7sFgPWZ28fk8TOGMIcZjssZa9irjqMymjDgmSaolbZzpVpnFHdB5zHMaU3sa5Ztd1/3d3ify63LNtHAbg3ySDSioykdaY379os+Y9m+8d6W70WTu//HgWsT73uumR5j1z9eJr5HjGN8//b1/k552Ev7jPYBgGfn/AhzmuG4nLGGveo4KqMJA55pglppO1epddY6+7vBT6W6I/1UWlM51qlez7l12Sy+XzSmo0EdTfxI/D3f/R1/j69H8nv1jfZoavevx2t9DdH0j2X65nj8+ZJWZ6sx6o1Gf64T9tI+z30A4Nk5P8KcZjguZ6xhrzqOymjCgGeaoFbazlVqXaXOZxNN/NZEj0b3Ldqd75FosMPK2me5D0AwN/DM8uffMQBzmOG4nLGGveo4KqMJA55pglppO1epdZU6n03cFd72Sbvz/hbtzvRbm/Awm3Yc9AEIs84NM9Y1Y02MyfvUfoU5zHBczljDXnUcldGEAaMT1Mi6j6bW+1ulzmcTDfCRfRKPaYl1NdJZXTsO+gCEWeeGGeuasSbG5H1qv8IcZjguZ6xhrzqOymjCgNEJamRdTltlXFep89nELydt+yQ/O/2SeL55W9ejXVhd+yz3AQizzg0z1qWm48njZwxhDjMclzPWsFcdR2U0YcDoBDWyLuuz/+f16tWrL/sknpXeflnqJdFEb+vFXemwun5+agEIs84NM9alpuPJ42cMYQ4zHJcz1rBXHUdlNGHA6AQ1si6wnXg2+uvXr78dm2/fvj3ZUI+vx+vtF5RGE/0lz1aH2bTPfx+AMOvcMGNdajqePH7GEOYww3E5Yw171XFURhMGjE5QI+sC24tHu/QN9WiWR6O8pTXPI7HcrY+CgZm1z3YfgDDr3DBjXWo6njx+xhDmMMNxOWMNe9VxVEYTBoxOUCPrAo8VTfJ37959+SWifeLr7kDniPI5ynkKmJ056zrGaUweP2MIc5jhuJyxhr3qOCqjCQNGJ6iRdR9NrQDPJc+l5lOAYzC3j8njZwxhDjMclzPWsFcdR2U0YcAzTVArbedKtQLMKs+l5lMAcH6EWc1wXM5Yw151HJXRhAHPNEGttJ2r1LpKncBzynOUeQoAnB9hVjMclzPWsFcdR2U0YcAzTVArbecqta5SJ/Cc8hxlngIA50eY1QzH5Yw17FXHURlNGPBME9RK27lKravUCTynPEeZp4Bm1rlhxrpmrIkxeZ/arzCHGY7LGWvYq46jMpow4JkmqJW2c5VaV6kTeE55jjJPAc2sc8OMdc1YE2PyPrVfYQ4zHJcz1rBXHUdlNGHA6AQ1si6nrTKuq9QJPKc8R5mngGbWuWHGutR0PHn8jCHMYYbjcsYa9qrjqIwmDBidoEbWZX32PzCzPEeZp4Bm1rlhxrrUdDx5/IwhzGGG43LGGvaq46iMJgwYnaBG1gWALeVzlPMU0Mw6N8xYl5qOJ4+fMYQ5zHBczljDXnUcldGEAaMT1Mi6ALClfI5yngKaWeeGGetS0/Hk8TOGMIcZjssZa9irjqMymjBgdIIaWRcAtpTPUc5TwOxmnLPUdDx5/IwhzGGG43LGGvaq46iMJgwYnaBG1n20lWoFYFye9839AMdgbh+Tx88YwhxmOC5nrGGvOo7KaMKAZ5qgVtrOlWoFmFWeS82nAMdgbh+Tx88YwhxmOC5nrGGvOo7KaMKAZ5qgVtrOVWpdpU7gOeU5yjwFAM6PMKsZjssZa9irjqMymjDgmSaolbZzlVpXqRN4TnmOMk8BgPMjzGqG43LGGvaq46iMJgx4pglqpe1cpdZV6gSeU56jzFNAY264nrE6nrxP7VeYwwzH5Yw17FXHURlNGPBME9RK27lKravUCTynPEeZp4Bm1rlhxrpmrIkxeZ/arzCHGY7LGWvYq46jMpowYHSCGlmX01YZ11XqBJ5TnqPMU0Az69wwY11qOp48fsYQ5jDDcTljDXvVcVRGEwaMTlAj67I++x+YWZ6jzFNAM+vcMGNdajqePH7GEOYww3E5Yw171XFURhMGjE5QI+uyPvsfmFmeo8xTQDPr3DBjXWo6njx+xhDmMMNxOWMNe9VxVEYTBoxOUCPrAsCW8jnKeQpoZp0bZqxLTceTx88YwhxmOC5nrGGvOo7KaMKA0QlqZF0A2FI+RzlPAbObcc5S0/Hk8TOGMIcZjssZa9irjqMymjBgdIIaWffRVqoVgHF53jf3AxyDuX1MHj9jCHOY4bicsYa96jgqowkDnmmCWmk7V6oVYFZ5LjWfAhyDuX1MHj9jCHOY4bicsYa96jgqowkDnmmCWmk7V6l1lTqB55TnKPMUADg/wqxmOC5nrGGvOo7KaMKAZ5qgVtrOVWpdpU7gOeU5yjwFAM6PMKsZjssZa9irjqMymjDgmSaolbZzlVpXqRN4TnmOMk8BjbnhesbqePI+tV9hDjMclzPWsFcdR2U0YcAzTVArbecqta5SJ/Cc8hxlngKaWeeGGeuasSbG5H1qv8IcZjguZ6xhrzqOymjCgNEJamTdR1Pr/a1SJ/Cc8hxlngKaWeeGGeuasSbG5H1qv8IcZjguZ6xhrzqOymjCgNEJamRd1mf/AzPLc5R5CmhmnRtmrEtNx5PHzxjCHGY4LmesYa86jspowoDRCWpkXdZn/wMzy3OUeQpoZp0bZqxLTceTx88YwhxmOC5nrGGvOo7KaMKA0QlqZF0A2FI+RzlPAc2sc8OMdanpePL4GUOYwwzH5Yw17FXHURlNGDA6QY2sCwBbyuco5ylgdjPOWWo6njx+xhDmMMNxOWMNe9VxVEYTBoxOUCPrPtpKtQIwLs/75n6AYzC3j8njZwxhDjMclzPWsFcdR2U0YcAzTVArbedKtQLMKs+l5lOAYzC3j8njZwxhDjMclzPWsFcdR2U0YcAzTVArbedKtQLMKs+l5lMAcH6EWc1wXM5Yw151HJXRhAHPNEGttJ2r1LpKncBzynOUeQoAnu/8+OHDh89v3rz5/P333/9qu7/77rvPr1+//vz+/fuvS8N+8udzDzPWsFcdR2U0YcAzTVArbecqta5SJ/Cc8hxlngIacwPPLH/+j3oMRAO9b55HMz2+9tNPP31Ja7BHMz1ej2U11NlT+6y27GHGGvaq46iMJgx4pglqpe1cpdZV6gSeU56jzFNAM+vcMGNdM9bEmLxPj7Zff/755y8N8rZtccf5p0+fvr76a7H827dvvy3/ww8/fPkaPFr7DLbsYcYa9qrjqIwmDBidoEbWfTS13t8qdQLPKc9R5imgmXVumLGuGWtiTN6nR9qv0QB/9erVt+2Khvq14m70tl7cnf7x48evr+wr7p5/pjvlY1tjm59R+/y17GHGGvaq46iMJgwYnaBG1mV99j8wszxHmaeAZta5Yca61HQ8efyONIYvbaI37969+7Z+vNcMd6b/+OOPX+6SfxaxrbHNz6h99lr2MGMNe9VxVEYTBoxOUCPrsj77H5hZnqPMU0Az69wwY11qOp48fkcZw/7xLPHc85c2waOR295nhgZ21PBMjfTYdxrp+x2XuYZZwv0YTRgwOkGNrAsAW8rnKOcpoJl1bpixLjUdTx6/I4xhPIal356RR6HEY0Xu9V73EI+ZeZZGejzLPsZcI/032UOuYZZwP0YTBoxOUCPrAsCW8jnKeQqY3YxzlpqOJ4/fEcawv4t85G70pn9ETDSy99L+geBZGunRQI/t1Ujf77jMNcwS7sdowoDRCWpkXQDYUj5HOU8BHIO5fUwev9XHMN+N/pJno2f9s9Ije92V/vr16y/f/xka6fGPH/GPILG9Gum/yR5yDbOE+zGaMOCZJqiVtnOlWgFmledS8ynAMZjbx+TxW30M+2ejR+7R9M7N+WhoP1psR/v+z9BIj38Aadurkf6b7GGGGtiWvQoD8iR55Ilype1cqVaAWeW51HwKAMc7P/aPYYnEM87voX/PSC/uno7vE4mmbyQawdHUr7Rl4073WDaWO9Ucj+eE538cuLaR3r5PNOFbXf268d5RQ/zDQHw9EsvEPxycE+u1927vG+9R/aPFS8Ym6ui3N9Z5Rv0YRPYwQw1sy16FAXmSPPJEudJ2rlLrKnUCzynPUeYpADje+XGrbYlno/fvGw3fJv7cv9ZyquFdLRvJckP5UvqaQrVMJERzOv4c2xWN7fh7/48Q8b1PNdTbujlVw/uWsamWO5ejm2F7Z6iBbdmrMCBPkkeeKFfazlVqXaVO4DnlOco8BTTmBp5Z/vyvfAxUTdt7yU3tuJO7aXddxx3ZuRldqZaNZNHIjmUj/XPaY7329T75l6rG1z58+PCrO9qjcR7PH++3oYnl27PJ479VM73dkR7rt2UjVSO9jU0se2ls2nZE+ke7xJ/711qOrm1/yx5mqIFt2aswIE+SR54oV9rOVWpdpU7gOeU5yjwFNLPODTPWNWNNjMn7dOX9Gs3VrbYlN9KrpnHoazjVSG9yvefc8r6V3LQ/9/iW/nudaqY3fcP71Jg0tzznvb/r/dL7HlXb/pY9zFAD27JXYUCeJG+dKEfWfTS13t8qdQLPKc9R5imgmXVumLGuGWtiTN6nK+/X1RrpcWd3/57njDbS+/qvaUz3DfJowp9yS8P7lm245X2Pqm1/yx5mqIFt2aswIE+St06UI+uyPvsfmFmeo8xTQDPr3DBjXWo6njx+K4/hao300L/nOfdspMd7XZKb/PHIl4pG+nba9rfsYYYa2Ja9CgPyJHnrRDmyLuuz/4GZ5TnKPAU0s84NM9alpuPJ47fyGG7ZSM+PRjnX3G3LrNxID/02v379+utXf0kjfTtt+1v2MEMNbMtehQF5krx1ohxZFwC2lM9RzlNAM+vcMGNdajqePH4rj2H8Ysu8Leee732L/L7nmtFtmdUb6X0zO56VXtFI307b/pY9zFAD27JXYUCeJG+dKEfWBYAt5XOU8xTQzDo3zFiXmo4nj9/qY/j999//YltOPZLkFvkxJ5Fo2p/Sllm9kf7u3btv60QqGunbadvfsocZamBb9ioMyJPkrRPlyLoAsKV8jnKeAjgGc/uYPH6rj+Hbt29/sS3x91Hv37//xXue++WboS23eiO9/56Rikb6dtr2t+xhhhrYlr0KA/IkeetEObLuo6kV4LnkudR8CnAM5vYxefxWH8N4lEu/LXGH+qg3b9784j2jsX5OW+6RjfS4Q/5cg/wljfT8DwiVvRrp8X8J3OuxPbNq29+yhxlqYFv2KgzIk+SRJ8qVtnOlWgFmledS8ykAHPP82DeNIyMN12hQx/PB23vFn8891iW0ZS81i/MjY8651IRur5/ykkZ638ye7Rnp8bVL77G6tv0te5ihBrZlr8KAPEkeeaJcaTtXqXWVOoHnlOco8xQAHPP82DdsI3FH+Uv1Dd1IPDf8krbspUZvrvOcS03o9vopL2mkxyNs2jqvX7/++tVfutTw7vV3uGukX9a2v2UPM9TAtuxVGJAnySNPlCtt5yq1rlIn8JzyHGWeAhpzA88sf/6PcgzkZ6Vf2zzu5bvRr23cXrv8NY9Oae7ZSL/0aJqQ75Y/NX63NNL7fXJpbDTS5zg3zVAD27JXYUCeJI88Ua60navUukqdwHPKc5R5CmhmnRtmrGvGmhiT9+mR9mt/R3X8+dIjWbK4C7utH89av3b9ts6lRm///pFzLjXSW+P5lL6Rfuru8l5f27ntiDv023KXGukxhte8Z+gb6dX/URBfu2Y7Vta2v2UPM9TAtuxVGJAnyVsnypF1H02t97dKncBzynOUeQpoZp0bZqxrxpoYk/fpkfZrNL5f2kzvf8FoNIBvec56+57nftFp3xhvOSfq7pfN2xH1xvc9pW+kR85tT3+n/KV/QOh/ueu5xnY03G+5u79/32q7oq5rHrOzsrb9LXuYoQa2Za/CgDxJ3jpRjqzLaauM6yp1As8pz1HmKaCZdW6YsS41HU8ev6ONYTSB+6Z4NGVPPaYkxCNN8t3Y1zbfm74RXTV74/tHU7m/6zoS3zfWPVVf/2iU/u7v1nQ+11juG+kxBvH9P3z48PXVP9TXFMtd8w8I/XtXy7fxyNsb2xM1nNre/n37Wtv7xb46srbtLXuYoQa2Za/CgDxJ3jpRjqzL+ux/YGZ5jjJPAc2sc8OMdanpePL4HXUMoxHbP1qkb1pH4vVouLe7pmPZeP2l+qZ3NKSjiRyJP8fX4nuFtkxOJRr6fZM//hzfJ2qO9z2nb0rH9rb6Wm1RTz8+8bVr/wEhluvfP/4c68f3aNvbxrotk1OJ923rR6LG9o8i8f5H17a7ZQ8z1MC27FUYkCfJWyfKkXUBYEv5HOU8BTSzzg0z1qWm48njd/QxbA3zvmncEg3p1mC/h7hjOhq+8Z7RXI5Ec7m/Azu+Fq/Hci2Xvn9rhLf3vOYRJ7Fc2872/ePu8f59Ylzie996B34TYxv1t/eLxN/bnePx/dr36be3v9u8EjXFOrHuPffP7PrPZmQPM9TAtuxVGJAnyVsnypF1AWBL+RzlPAU0s84NM9alpuPJ42cMjyma0G3/9o185tUfk5E9zFAD27JXYUCeJG+dKEfWBYAt5XOU8xQwO3PWdYzTmDx+xvCYNNLX0x+TkT3MUAPbsldhQJ4kb50oR9Z9NLUCPJc8l5pPAY7B3D4mj58xPCaN9PX0x2RkDzPUwLbsVRiQJ8kjT5QrbedKtQLMKs+l5lOAYzC3j8njZwyPSSN9Pf0xGdnDDDWwLXsVBuRJ8sgT5UrbuUqtq9QJPKc8R5mnAMD58Vm8evXq2/59ll/Wubr+mIzsYYYa2Ja9CgPyJHnkiXKl7Vyl1lXqBJ5TnqPMUwDg/HhkP/7445e8fv36F/v3u++++/z27dsvr3369Onr0sym32eRPcxQA9uyV2FAniSPPFGutJ2r1LpKncBzynOUeQpoZp0bZqxrxpoYk/ep/Xoc1b7N8ZiXeeV9tYcZamBb9ioMyJPkkSfKlbZzlVpXqRN4TnmOMk8Bzaxzw4x1zVgTY/I+tV9hDjMclzPUwLbsVRiQJ8lbJ8qRdTltlXFdpU7gOeU5yjwFNLPODTPWpabjyeNnDGEOMxyXM9TAtuxVGJAnyVsnypF1WZ/9D8wsz1HmKaCZdW6YsS41HU8eP2MIc5jhuJyhBrZlr8KAPEneOlGOrAsAW8rnKOcpoJl1bpixLjUdTx4/YwhzmOG4nKEGtmWvwoA8Sd46UY6sCwBbyuco5ymgmXVumLEuNR1PHj9jCHOY4bicoQa2Za/CgDxJ3jpRjqwLAFvK5yjnKWB2M85ZajqePH7GEOYww3E5Qw1sy16FAXmSvHWiHFn30VaqFYBxed439wMcg7l9TB4/YwhzmOG4nKEGtmWvwoA8SR55olxpO1eqFWBWeS41nwIcg7l9TB4/YwhzmOG4nKEGtmWvwoA8SR55olxpO1epdZU6geeU5yjzFAA4P8KsZjguZ6iBbdmrMCBPkkeeKFfazlVqXaVO4DnlOco8BQDPd3786aefPr958+bz999//2VbX7169fn9+/dfX4V5zHBczlAD27JXYUCeJI88Ua60navUukqdwHPKc5R5CmjMDdczVseT9+lR9+vPP//8+fXr11+277vvvvv89u3bLw30+HN87ccff/y6JMyhPyYje5ihBrZlr8KAPEkeeaJcaTtXqXWVOoHnlOco8xTQzDo3zFjXjDUxJu/To+7XH3744cu2ReP848ePX7727t27b9scd6jDTNpns2UPM9TAtuxVGJAnyVsnypF1OW2VcV2lTuA55TnKPAU0s84NM9alpuPJ43fEMYw7z9u29Y9xaXeoR6LBvoL4R4BPnz59/RtH1j6bLXuYoQa2Za/CgDxJ3jpRjqzL+ux/YGZ5jjJPAc2sc8OMdanpePL4HXEM4zno1bZFUzruRI8m+irPSY876z2G5jn0x2T+7D7KDDWwLXsVBuRJ8taJcmRd1mf/AzPLc5R5CmhmnRtmrEtNx5PH74hj2LYrmtCri38U0Eh/Dv0xGdnDDDWwLXsVBuRJ8taJcmRdANhSPkc5TwHNrHPDjHWp6Xjy+B1xDNt2HaGRHtuhkf4c2ue2ZQ8z1MC27FUYkCfJWyfKkXUBYEv5HOU8BcxuxjlLTceTx++IY9i2a/VG+ocPH75sh0b6c2if25Y9zFAD27JXYUCeJG+dKEfWfbSVagVgXJ73zf0Ax2BuH5PH74hj2LZr9UZ61B/boZH+HNrntmUPM9TAtuxVGJAnySNPlCtt50q1Aswqz6XmU4BjMLePyeN3xDFs27VyI/2nn376th0a6c+h7e+WPcxQA9uyV2FAniSPPFGutJ2r1LpKncBzynOUeQoAnuP82Lbr1kb6zz///OVxKtG4bomG9i3iPd6/f/+L94j3jK9fK5b/7rvvvm1HvMetou6WS9/748ePVy/bv2+vf49rfPr06VfjdO26IZZ99+5duX68d4zhatr+btnDDDWwLXsVBuRJ8sgT5UrbuUqtq9QJPKc8R5mnAOCY58dooFbbVSUarlk0j9+8efNtmdevX39Zrj1aJZra0bQ9p3+PV69efX779u2X94g/t/eN1881qmOdfvlLyY3naplI1aBu23bNstVykRDbk98rtuHUdkaTu41TjGv8uR+n77///mwTPF6LZSIxXvH3qDneo3093jeymn4MI3uYoQa2Za/CgDxJHnmiXGk7V6l1lTqB55TnKPMU0JgbeGb583+EYyCas9FIbWnbFU3V/uuR3CiOO6nb3d/RzI336sXy7f2i6VuJpnGsG4n3y/o7zOO/1TIhGtItrbEcie3oX2vJ79O+Hsu3dSNVczya0Ncu2963bUNL2+74h4e2D9pr1Vj1Y139o0L8Y0VbP+5Wz+Jrp967idfae6ym1b1n/TPUwLbsVRiQJ8kjT5Qrbecqta5SJ/Cc8hxlngKaWeeGGeuasSbG5H16xP3atiuav+dE87c1dqOhfOou6r5BXN0t3RrA8V6n7lzvm8TxvS7pG/jx/W8R29E3vavmeK9vpp9bNt63LReJZnw00Zv+e+ax75vo5/ZLvF97j1xLrB85tZ+atj2radvdsocZamBb9ioMyJPkrRPlyLqPptb7W6VO4DnlOco8BTSzzg0z1jVjTYzJ+/SI+7Vt16VGerzelq3ugG76xnT8N+vfJ3LKtQ3rMNJID31Nl77XLcu25Vr6O/jP/YNDv+35rv9eNNzbcv3+a+PRf+2U9o8Wq2nb3bKHGWpgW/YqDMiT5K0T5ci6rM/+B2aW5yjzFNDMOjfMWJeajieP3xHHsG3XuaZr36i+Zgz6O6Vzk7h/7dx79Y8dudQcX6GR3t+Nfk57JEskHgVzSdV0b+NxzR3psWz1Dx6za9vcsocZamBb9ioMyJPkrRPlyLqsz/4HZpbnKPMU0Mw6N8xYl5qOJ4/fEcewbde5Rnrf1L7mLuf+buvc2G6N23jt3PO7z71H1hrH1yxbeUQj/dRjbLL+ee/XbEtfT/s/Bfo71aPRfun/ILi2tpm07WvZwww1sC17FQbkSfLWiXJkXQDYUj5HOU8Bzaxzw4x1qel48vgdcQzbdp1rkLfGdySe9X1Jf1f1NY33ytEa6ZeWDfm56tc0uE+NU3+nekvUHvsv/i+Bc4+MWUHetj3MUAPbsldhQJ4kb50oR9YFgC3lc5TzFDC7GecsNR1PHr8jjmHbrnMN7377o0Eby55Lf1f1pcZ7NHWjARzrVc3fyLM00vvtiMQ4tjE9lX7M+jvP+19Yeirx/tUvhF1B3pY9zFAD27JXYUCeJG+dKEfWfbSVagVgXJ73zf0Ax2BuH5PH74hj2LYrmrKVuHO53/54HEs0fK9JNHNPibut+yZwvG80gtud0qfutK7E97p22Upse1s/3uucW5Zty0UuPas89NsRiTGKr12TaqxjLPvH8pzKS8Zsb9V27B2Ox16FAc80Ua60nSvVCjCrPJeaTwGOwdw+Jo/fEcewbdepRnrot3+06RoN5f6O9fglnNVjRo7WSL9Gvx2RS+9/rRjz/s7/6k71e32vR8n1zxCOx16FAc80Ua60nSvVCjCrPJeaTwHgOc6PbbuubaSf+wWhl+Qm+qN+2Wh7/ZRZGun9LwmNvOQfBZpLtcXd//3/EXBu/8+oH6dZwvHYqzDgmSbKlbZzlVpXqRN4TnmOMk8BwHOcH9t2nWuk9s3jkYZr3xyPJu65x52caqRHgziv1xrledmmvX7KLc3xW5Zty0Wudesvdq2056Nfkv9hYyWt5pnC8dirMOCZJsqVtnOVWlepE3hOeY4yTwGNuYFnlj//RzwG2nada5DH3cv9GJxrgPeiEdw3g/um7aUmcbzelu2b4/H33MB+ZCO9v4t7i0Z6/0zzGK9rxXi1XzbatveaXyQay9xa4wxazTOF47FXYcAzTZQrbecqta5SJ/Cc8hxlngKaWeeGGeuasSbG5H16xP3atutcIz0a530DuTVsz4l1Ytm+Yd7Wj1xqQvdN91sa6VWDvj3G5JR4Tntb/1xd+RevXtqGftlr3fo9QlsnN9KveQxPP3YraTWvWDvr8MmCAXmivnWyHln30dR6f6vUCTynPEeZp4Bm1rlhxrpmrIkxeZ8ebb/2z+Q+10gP/Z3L8diQS3elR3M6lut/kei1d6T3zd3IpUZ633yutiO+17nti/dv67979+7rV3+tv1s8cumO737ZGOtr9fVcc1d6jHX/DwX9+PXjX2n79dL+n03bvhbYgk8WDMgT9a2T9ci6rM/+B2aW5yjzFNDMOjfMWJeajieP39HGMJrGbbty07vSP+IlGrynmumtEZzvXO8bxPH9quZyvGe8d9+0bk3i1iCu6oxGcFu+fz3eL77XuQb5Nf+g0La9v3s9/nxqDPr3jPT/GHCNfvtP3Vke37st1//jQt9IP7ef2ljn9VfQtq8FtuCTBQPyRH3rZD2yLuuz/4GZ5TnKPAU0s84NM9alpuPJ43eEMeybrOdyqqEcdzBHYzqWaQ3qeM9INJtbYzY30Zu+QRzrR4O5rR9/jq+1xnHcSd6WjWZ6vHbqTvZoXLe6ooaoM94z/nyumdz03ysa5K2mSKs5tqn/x4A+rVFevVblGv0/dMT2x/dvNcVrbUzyWMfrsU68Ftse/+33U1u/jdepfTWzNi4tsAWfLBiQJ+pbJ+uRdQFgS/kc5TwFNLPODTPWpabjyeN3hDGMu7Wj6Xsp55qr0ZSORmxrmrdEYzaazpfubI9Gbnv0S79+axb34u/R1I9cavjG9+3vGI/EepfqaaL5ntdv7xE1hxib9vXY/ngttrl//ZpcK2qPJn+MTV/TubGOr8Xr7Y7/GLdb1l9Bvy0R2IJPFgzIE/Wtk/XIugCwpXyOcp4CZjfjnKWm48njZwxhDo5LHsEnCwbkifrWyXpk3UeLf02vnlcHwDHlc9Ts5ykArmNuH5PHzxjCHByXPIJPFgzIE/WRJ+t+G2f/X736WiMA3C7PpeZTgGMwt4/J42cMYQ6OSx7BJwsG5In6yJP1StvY17pCvQAzynOp+RQAnB9hVo5LHsEnCwbkifrIk/VK29jXOnO9q9QJPKc8R5mnAMD5EWbluOQRfLJgQJ6ojzxZr7SNfa0z17tKncBzynOUeQpozA08s/z5dwzAHByXPIJPFgzIE/VRJ+uff/55qW3sa5253lXqBJ5TnqPMU0Az69wwY10z1sSYvE/tV5iD45JH8MmCAXmivnWyHln3keKXi/7444/fMrtVxnWVOoHnlOco8xTQzDo3zFjXjDUxJu9T+xXm4LjkEXyyYECeqG+drEfWZX32PzCzPEeZp4Bm1rlhxrrUdDx5/IwhzMFxySP4ZMGAPFHfOlmPrMv67H9gZnmOMk8Bzaxzw4x1qel48vgZQ5iD45JH8MmCAXmivnWyHlkXALaUz1HOU0Az69wwY11qOp48fsYQ5uC45BF8smBAnqhvnaxH1gWALeVzlPMU0Mw6N8xYl5qOJ4+fMYQ5OC55BJ8sGJAn6lsn65F1AWBL+RzlPAVwDOb2MXn8jCHMwXHJI/hkwYA8Ud86WY+s+0ir1NmsVi/AjPJcaj4FOAZz+5g8fsYQ5uC45BF8smBAnqiPOlmvto2r1QswozyXmk8BwPkRZuW45BF8smBAnqiPOlmvto2r1LtKncBzynOUeQoAnB9hVo5LHsEnCwbkifqok/Vq27hKvavUCTynPEeZp4DG3MAzy59/xwDMwXHJI/hkwYA8UR91sl5tG1epd5U6geeU5yjzFNDMOjfMWNeMNTEm71P7FebguOQRfLJgQJ6ob52sR9Z9pFXqbFapd5U6geeU5yjzFNDMOjfMWNeMNTEm71P7FebguOQRfLJgQJ6ob52sR9bltFXGdZU6geeU5yjzFNDMOjfMWJeajiePnzGEOTgueQSfLBiQJ2oREZEjByDMOjfMWJeajiePnzGEOTgueQSfLBiQJ2oREZEjByDMOjfMWJeajiePnzGEOTgueQSfLBiQJ2oREZEjByDMOjfMWJeajiePnzGEOTgueQSfLBiQJ2oREZEjB2Bm5qzrGKcxefyMIczBcckj+GTBHeQJW0RE5GgB4BjM72Py+BlDmIPjkkfwyQIuWu2EtFq9AADwKK6Vx+TxM4YwB8clj+CTBVy02glplXpXqRMAAPiNfA3vOh7m4LjkEXyygItWOyGtUu8qdQIAAL+Rr+Fdx8McHJc8gk8WcNFqJ6RV6l2lTgCA3qzXMDPWNWNNjMn71H6FOTgueQSfLOCi1U5Iq9S7Sp0AAL1Zr2FmrGvGmhiT96n9CnNwXPIIPlmwIxP9NlYZ11XqBADozXoNM2NdajqePH7GEObguOQRfLJgRyb652b/AwArmvUaZsa61HQ8efyMIczBcckj+GTBjkz0AACsZtZr2BnrUtPx5PEzhjAHxyWP4JMFOzLRAwCwmlmvYWesS03Hk8fPGMIcHJc8gk8W7MhEDwAA9zHjtbWajiePnzGEOTgueQSfLNjRKhP9KnUCAADnubYfk8fPGMIcHJc8gk8WcNFqJ6TV6gUAgEdxrTwmj58xhDk4LnkEnyzgotVOSKvUu0qdAADAb+RreNfxMAfHJY/gkwVctNoJaZV6V6kTAAD4jXwN7zoe5uC45BF8soCLVjshrVLvKnUCAPRcw1zPWB1P3qf2K8zBcckj+GQBF612Qlql3lXqBADozXoNM2NdM9bEmLxP7VeYg+OSR/DJgh2Z6LexyriuUicAQG/Wa5gZ61LT8eTxM4YwB8clj+CTBTsy0T83+x8AWNGs1zAz1qWm48njZwxhDo5LHsEnC3Zkon9u9j8AsKJZr2FmrEtNx5PHzxjCHByXPIJPFuzIRA8AwGpmvYadsS41HU8eP2MIc3Bc8gg+WbAjEz0AANzHjNfWajqePH7GEObguOQRfLJgR6tM9KvUCQAAnOfafkweP2MIc3Bc8gg+WcBFq52QVqsXAAAexbXymDx+xhDm4LjkEXyygItWOyGtUu8qdQIAAL+Rr+Fdx8McHJc8gk8WcNFqJ6RV6l2lTgAA4DfyNbyIzBnYgk8WcNFqJ6RV6l2lTgCAnmsYnln+/IvInIEt+GQBF612Qlql3lXqBADozXoNM2NdM9bEmLxPRWTOwBZ8smBHq0z0q9TZrFLvKnUCAPRmvYaZsa4Za2JM3qciMmdgCz5ZsCMT/XOz/wGAFc16DTNjXWo6pjyGIjJfYAs+WbAjE/1zs/8BgBXNeg0zY11qAoDjcNaEHbmIBQBgNbNew85Yl5oA4DicNWFHLmIBAOA+Zry2VhMAHIezJuxolYvYVeoEAADOc20PAC/jrAlctNrF9mr1AgDAo7hWBoCXcdYELlrtYnu1egEAAACYmw4TcNFqjelV6l2lTgAAAIBnp3MDXLRaw3eVelepEwCg5xoGAHhGrnqAi1b7YWmVelepEwCgN+s1jLoAgC05i8OOVrmoXqXOZpV6V6kTAKA36zWMugCALTmLw45cVD83+x8AWNGs1zDqus5s9QDAKpw1YUcuYp+b/Q8ArGjWaxh1XWe2egBgFc6asCMXsQAArGbWa1h1XWe2egBgFc6asCMXsQAAcB+zXlvPVtds9QDAKpw1YUcuYgEAgEfyMwgAvIyzJnDRahfbq9ULAACP4loZAF7GWRO4aLWL7dXqBQAAAGBuOkzARas1plepd5U6AQAAAJ6dzg1w0WoN31XqXaVOAICeaxgA4Bm56gEuWu2HpVXqXaVOAIDerNcw6gIAtuQsDjta5aJ6lTqbVepdpU4AgN6s1zDqAgC25CwOO3JR/dzsfwBgRbNew6jrOrPVAwCrcNaEHbmIfW72PwCwolmvYdR1ndnqAYBVOGvCjlzEAgCwmlmvYdV1ndnqAYBVOGvCjlzEAgCwmlmvYdV1ndnqAYBVOGvCjlzEAgAAj+RnEAB4GWdN2NEqF7Gr1NmsVi8AADyKa2UAeBlnTeCi1S62V6sXAAAAgLnpMAEXrdaYXqXeVeoEAAAAeHY6N8BFqzV8V6l3lToBAHquYQCAZ+SqB7hotR+WVql3lToBAHqzXsOoCwDYkrM47GiVi+pV6mxWqXeVOgEAerNew6gLANiSszjsyEX1NlYZ11XqBADozXoNo67rzFYPAKzCWRN25CL2udn/AMCKZr2GUdd1ZqsHAFbhrAk7chELAMBqZr2GVdd1ZqsHAFbhrAk7chELAMBqZr2GVdd1ZqsHAFbhrAk7chELAAD34dr6OsYJAF7GWRN2tMpF7Cp1NqvVCwAAj+JaGQBexlkTuGi1i+3V6gUAgEdxrQwAL+OsCVy02sX2KvWuUicAAADAs9O5AS5areG7Sr2r1AkAAADw7HRugItWa/iuUu8qdQIA9Ga9hlEXALAlZ3HgotUu/lepd5U6AQB6s17DqAsA2JKzOOzIRfU2VhnXVeoEAOjNeg2jruvMVg8ArMJZE3bkIva52f8AwIpmvYZR13VmqwcAVuGsCTtyEQsAwGpmvYZV13VmqwcAVuGsCTtyEQsAwGpmvYZV13VmqwcAVuGsCTtyEQsAAPcx67X1bHXNVg8ArMJZE3a0ykXsKnUCAADnubYHgJdx1gQuWu1ie7V6AQDgUVwrA8DLOGsCF612sb1KvavUCQAAAPDsdG6Ai1Zr+K5S7yp1AgAAADw7nRvgotUavqvUu0qdAAA91zC3MV4AcAzO4sBFq138r1LvKnUCAPRmvYZRFwCwJWdx2JGL6m2sMq6r1AkA0Jv1GkZd15mtHgBYhbMm7MhF7HOz/wGAFc16DaOu68xWDwCswlkTduQi9rnZ/wDAima9hlHXdWarBwBW4awJO3IRC+vLx7GIrBXgdrMeR+q6zmz1AMAqnDVhRy5iYW35GBaR9QIcx6zH92x1zVYPAKzCWRN2tMpF7Cp1wqPlY0NE1gvAszEPAsDLOGsCF612sb1avawrf9ZEZL0APBvzIAC8jLMmcNFqF9ur1LtKnZyW9+E/+P/+v0Rk8uTjFgAA4Bp+egAuWq3psEq9q9TJaXkfVk07EZkr+bgFAAC4hp8egItWazqsUu8qdXJa3odV005E5ko+boHbOY4AgGfkqge4aLUfllapd5U6OS3vw6ppJyJzJR+3wO1mPY7UBQBsyVkcdrTKRfUqdTar1LtKnZyW92HVtBORuZKPW+B2sx5H6gIAtuQsDjtyUf3c7P/15X1YNe1EZK7k4xa43azHkbquM1s9ALAKZ03YkYvY52b/ry/vw6ppJyJzJR+3wO1mPY7UdZ3Z6gGAVThrwo5cxMLa8jFcNe1EZK7k4xa43azHkbquM1s9ALAKZ02+yRdUsn6AbeVjrmraichcycctcByzHt+z1TVbPQCwCmdNvskXVLJ+7mWr94XV5WOjatqJyFzJxy3AszEPAsDLOGvyTb6gkvVzL1u971ZWq5d15c9a1bQTkbmSj1uAZ2MeBICXcdbkm3xBJevnXrZ6362sVi/ryp+1qmknInMlH7cAAADX8NMD3+QfLP+z/+GzLJa8D+9lq/fdyir1rlInp+V9WDXtRGSu5OMWAADgGn564Jv8g2XVqJW5k/fhvWz1vltZpd5V6uS0vA+rpp2IzJV83AK3cxwBAM/IVQ/f5AviqlErcyfvw3vZ6n23skq9q9TJaXkfVk07EZkr+bgFbjfrcaQuAGBLzuJ8ky/wqkatzJ28D+9lq/fdyir1rlInp+V9WDXtRGSu5OMWuN2sx5G6AIAtOYvzTb7Aqxq1MnfyPmRu9tf68j6smnYiMlfycQvcbtbjSF3Xma0eAFiFsybf5AuqqlErcyfvQ+Zmf60v78OqaScicyUft8DtZj2O1HWd2eoBgFU4a/JNvqCqGrUyd/I+BLaVj7mqaScicyUft8DtZj2O1HWd2eoBgFU4a/JNvqCqGrUyd/I+BLaVj7mqaScicyUft8BxzHp8z1bXbPUAwCqcNfkmX1BVjVqZO3kfAtvKx1zVtBORuZKPW4BnYx4EgJdx1uSbfEFVNWpl7uR9eC9bve9WVquXdeXPWtW0E5G5ko9btpXHW24P3JvPGAC8jLMm3+QLqqpRK3Mn78N72ep9t7Javawrf9aqpp2IzJV83LKdPNby8gAAsD9XZXyTL9irRq3MnbwP72Wr993KKvWuUien5X1YNe1EZK7k45bt5LGWlwcAgP25KuObfMFeNWpl7uR9eC9bve9WVql3lTo5Le/DqmknInMlH7dsJ4+1vDyzmb0+AIAtuOrhm3xBXDVqZe7kfXgvW73vVlapd5U6OS3vw6ppJyJzJR+3bCeP9b/+539erkweu9nMWp+6AIAtOYvzTb7Aqxq1MnfyPryXrd53K6vUu0qdnJb3YdW0E5G5ko9btpPHumoYS508drOZtT51AQBbchbnm3yBVzVqZe7kfcjc7K/15X1YNe1EZK7k45bt5LGuGsZSJ4/dbGatT13Xma0eAFiFsybf5AuqqlErcyfvQ+Zmf60v78OqaScicyUft2wnj3XVMJY6eexmM2t96rrObPUAwCqcNfkmX1BVjVqZO3kfAtvKx1zVtBORuZKPW7aTx7pqGEudPHazmbU+dV1ntnoAYBXOmnyTL6iqRq3MnbwPgW3lY65q2onIXMnHLdvJY101jKVOHrvZzFqfuq4zWz0AsApnTb7JF1RVo1bmTt6HwLbyMVc17URkruTjlu3ksa4axlInjx3XMW7XMU4A8DLOmnyTL6iqRq3MnbwP7+Wnn3769p7ffffd16/Oqx+DCGwlf9aqpp2IzJV83LKdPNZVw1jq5LGDe/L5AoCXcdbkm3xBVTVqZe7kfXgvfSP9nu+7lb7WFeplXfmzVjXtRGSu5OOW7eSxrhrGUiePHQAA+3NVxjf5gr1q1MrcyfvwXvpG+g8//PD1q/PqxyAyq1Xq5LS8D6umnYjMlXzcsp081lXDWOrksQMAYH+uyvgmX7BXjVqZO3kf3otG+jZWqZPT8j6smnYiMlfycct28lhXDWOpk8duNrPXBwCwBVc9fJMviKtGrcydvA/vRSN9G6vUyWl5H1ZNOxGZK/m4ZTt5rKuGsdTJYzebWetTFwCwJWdxvskXeFWjVuZO3of38vHjxy8N9Mjbt2+/fnVeW43Dva1SJ6flfVg17URkruTjlu3ksa4axlInj91sZq1PXQDAlpzF+SZf4FWNWpk7eR8+q1XGYZU6OS3vw6ppJyJzJR+3bCePddUwljp57GYza33qus5s9QDAKh561nz37t3nT58+ff3bNn7++efPP/7449e/cYt8QVU1amXu5H3I3Oyv9eV9WDXtRGSu5OOW7eSxrhrGR8y/+oM/9yXVa9cmj91sZq1PXdeZrR4AWMVDz5pxkn79+vXXv22jPctZM/12/cVUpGrUytzJ+xDYVj7mqqadiMyVfNyynTzWVcP4iPmHf+dPfv6L/+6/8fn3f/e3ytevSR672cxan7quM1s9ALCKh5414yS99S8qjDvS4/t8//33X7/CtfqLqUjVqD1S/uP/9uPnf+vf+/7z7/zd9+Xre+bf/8/ffP53/oNXn//6f/9z+fqp5H0IbCsfc1XTTkTmSj5u2U4e66phfLT8i3/yZ36xze9+77fL5S6lf4/IbGatT13Xma0eAFjFQ8+acZK+tpEeDfF4FMybN2++/ZLDuMv8mkfDxDrxveLudK7XX0xFqkbtURJN9D/3b3/3+S/+p69vblb/J//o0+f/8O+8+/xX/ssfv/z31vWvSbxnNNJvbabnfQhsKx9zVdNOROZKPm7ZTh7rqmF8tPyN7//Yt+39nb/8R8tlrkk/bhGuY9yuY5wA4GUeetaMk/Q1jfT3799//u67774sH03xDx8+fGmqx13m8bW3b99+abSfEsu3dblejFmfqlGb89f+m58+/4X/6IebEndbRwM6mtnVe26d1kR/yR3ff+lvvf0yNnEne/w53if+HM31avmR9HVWr1fJ+/BetnrfraxWL+vKn7WqaScicyUft2wnj3XVMD5S/ru/96d+sb1xd3q13DXp3ycC9+TzBQAv89CzZpykLzXSo4key0Uj/ePHj1+/+oeiOR6vv3r16utXaq3pfq7hzi/FePWpGrU50eyNO7OjQZ7XjwZwvNYnlovGc1sm/h7N+Oq9t0i70zsa1Lc0v9t6UXP8Q0D7etTetqNf/l75q//gN/8oFE376vWcNq4t97LV+25ltXpZV/6sVU07EZkr+bhlO3msq4bxUfI//rM/++W56G1b//bf/OPlctemH7cI3JPPFwC8zEPPmnGSPtdIj8Z5O5lHQ70SjfHWJD/3C0XjtXPvw6+1sW+pGrXn0u7WjkSj+tzd3tGAjmXa8o96TnmrMe6Ir14/lXgETKxX3R3etmOrO+zb977mHxxiuT73stX7bmWVelepk9PyPqyadiIyV/Jxy3byWFcN46Pkb/31f/PbdkZD/V/9wZ8rl7s2/bhFAADY30OvyuIi8Fwj/fXr3zQML/2i0P6u9VN3nMez1GOZS3eu84divPpUjdpz6e9Kv+YO6nY3d8sWj0fp075f3BFfvX4qcSd9q7Fqlrftvvau8VsT43Jt3a3OlnvZ6n23skq9q9TJaXkfVk07EZkr+bhlO3msq4bxHvmX//TPfnnsyrlU653KH/zjP/2L7fz93/2tcrlb0r9fBACA/T30qiwuAk810qMh3i4ULz3bvDXJI+fuSo/vFctUj4jh19qYtlSN2nPp141HklTL5PTrbNWIbmkN71vufo/Geauvf6RLn/a+Wz3eJRLf+5raW60t97LV+25llXpXqZPT8j6smnYiMlfycct28lhXDeMtEw3xaGr//R/+xC/uGL8lsV48piWef1412OPO8/ilov3yeZmXpK8hMptZ65u1rviZtSV+lgUA1vTQq4u4mDnVSG+/IDRyrjnetGXP3XHe7lyPX07KZW1MW6pG7anku8uv/SWe/TpbNqJbQ/zWu9Fbk/zco2raMrf8UtBbc+3d9LFMn3vZ6n23skq9q9TJaXkfVk07EZkr+bhlO3msq4bxPRPPKY/G+Uub5tcm3j++T3y/f/h3/uQvXvuX//TPlrXdmv49I7OZtb4V6vrpp5++fhUAWM1Dry7iwuFUIz2a5+3i4pZGeuTU413i6/H4lwiX9WMaqRq1p9I//uTahnJ7ZElLPAu8Wu4eaXd033LXe/+PA6fuRo+0Rnqkev1eab+k9dzd/q2Olme1yjisUien5X1YNe1EZK7k45bt5LGuGsajiTvC3/3eb3/+G9//sV99v3OJ5aMhXqVa/prEXetVjS9Jfu/ZzFrfrHW13/EVmaGR3o9RBAC4zkPPmnGSPtVIb49hicTd6Ze0ZSPnLkbiMTGxjF86elk/ppGqUXsqfTP52mZ1/MLP/vvd+gtAb0n7haDRHK9er9Jv07lfJNqWiVSv3ysxrvE9zv2DQ19LhLnZX+vL+7Bq2onIXMnHLdvJY101jF+aaKBH4zp+sWf+Pn2iYR53jUez/dZnn8fy8fzzWP9Sg/23/+T/7PP/87/+U8O/ZLQlv/9sZq1v1rr6n3U10gFgXQ89a8ZJ+ppG+jUXF23ZyLt3775+9dfi+eixTPwiU87rxzRSNWpPpTWqI9c+H73dYR2JP1/7OJhb0z/nvHq9Sn+3/LnHqVy73D0S4xrfJ8a6ej3SamkBtpWPuappJyJzJR+3bCePddUwfknONdDj6/FM9GiA36up3SfeN97/3/63/ucnv/897kzP7zubWeubtS6NdAA4hoeeNeMkfaqRfuv/7taWjVx6FEx7b7/Y5bx+TCNVo7ZK36iOXNMQ7+9Gj8bwuTu+R9O+V9xhXr1epd39HTl3h31rbt/6/i9J37Q/dWd9e70F2FY+5qqmnYjMlXzcsp081lXD+JbE88dPPcIlfiFoNLmr9e6deDb6NXfCjzwvPb/fbGatb9a6NNIB4BgeetaMk/SpRnp/Ir93Iz3uWL9muWfXj2mkatRW6Zvi1zwfPS8fDeJquXslHoUS3yue4169XqW/W/7cHfZ9w/3cc9Tvlfa9Tj0Gp73eAmwrH3NV005E5ko+btlOHuuqYXxt4i7v/H6RuDs8GtvVOlslmvbt+0dD/f/3//mzJ++Sf+nd6fl9uM6s4xY/37ac+v1ejzTrOAHA7B561oyT9B6N9LgTPZaLO9M5rR/TSNWordIa1ZFTd2/HHefR/G0N6vjv7/zd9+Wy90571vmp5nPOLXfYxz8EtOWuff+RtG05Nc6tlpZ72ep9YXX52KiadiIyV/Jxy3byWFcN40uJx7NUzyffo4Eeieem93X8/u/+1rfXotZ4nnr/eiTqv/UxM/k94J58vgDgZR561oyT9B6N9BDPSI9lr/lFpiGerd7fOfAM6cc0UjVqq/TPR7+UaLrf8gs/75H2va/9vv0d87fkEdvVGumnHiOTa6r280uy1ftuldXqlXWTP2tV005E5ko+buM6UrZJHuuqYXwu1aNcfucv/9Gbf2novRLN8Pj+rZaorVquqvvWR73060bgnny+AOBlnqaRHg30WPbNmzdfv3Je/xy7Z03VqM3Jd2/n16O5HI9G6e9af9Sd6C3t+17b6O5rjce1xHpV+ob7uV8A2hLrjD4Lvj1K5tpGuog8NlXTTkTmSnXsymNSNYxPJZrO+VEpcRf6Fr9A9Nrkx8tcaoznu9Nje65tpvfrValUy7Vk1TItlWq5CADAM5mmkd43rrdopMez6GLZax/vopF+XSO9byafau62RFO6LXvuueP3Tvue0ciuXs/pH9dybp1rno8ej4WJbW3bfmmMLiWe8x7vc6px3+oRkX1SNe1EZK5Ux648JlXDuErVRH/3e79dLvuoRE19PdEkr5bLibr79a5tpvfrVKlUy7Vk1TItlWq5CADAM5mykX5NY7wtG7nmcS3v37//sqw70q9P1ajN6e/evvTLPKOp3JaNZ6RXy2yR9j2vbaS35SPXPh+9+oeB/n3as+Hv1UiPVK+311ric3yPbPW+W2WVelepU04n78OqaScicyUft+0xJHL/5LGuGsY5uYkef/6Df/yny2Ufmf457VHTLXfGR/15my4109uyp1KplmvJqmVaKtVyEa5j3ADgGB56Fo+Lhmg8VKLB3S4s4sL7krZs5Jo72F+9+k3TM559Tq0f00jVqM3pn49+TaP61ve/R9r3u/axKm35c83+/+Qf/eYX2J5bLsYjEs341gB/dCP9XrZ6362sUu8qdXJa3odV005E5ko+btlOHuuqYdwnP4M8cs3d21snfqFoX9NLGvv5jvbYznPN+H7ZKpVquZasWqalUi0Xmc2s9c1aFwBwm4eexeOi4VQj/d27P3xEyK2N9Es+ffpN0zOa6ZzWj2mkatT2ufR89JxoKt+y/L3Svt81jf6+QX6u6d03tC/diR9ZvZG+mlXGYZU6OS3vw6ppJyJzJR+3bCePddUw7tPf9R3Z+3EukWh293eTR43VctckP+bl3Hv1y0W4zqzjNltds9UDAKt46FkzTtKnGulxp3g7kb9+/frrV2vteeeRa5rjb9/+5lnW0azntDamLVWjts8tz0eP9E3ga97/Xmnf75pGeqQtf+q555H2qJa4I//c419a7tVIv/WXjTI3+2t9eR9WTTsRmSv5uGU7eayrhnFL/kWe8fdquUcnfsFpqyka6v/jPxu7Q/7a7eyXiXCdWcdttrpmqwcAVvHQs2acpE810kP8ItBY5tIvBI1noreTfjz7/JLvvvvN40eiAc9pbUxbqkZtn1uejx7pl7/m/eM9o2EdzepoalcN67iD/NRrLe373dpIP7VNv/N3f/O8/XPL5NyrkR7rn3ufVlcLc7O/1pf3YdW0E5G5ko9btpPHumoYR6I53S83ctf3PfMv/smf+UVd92ru5+etV835/vtGuM6s4zZbXbPVAwCreOhZM07S5xrp/eNd4nEsp7TnqV9quIfWdI91OK+NfUvVqO1z6/PR213ckUsN5bjzOn6ZZ/wSz/ZLPas7xFtzPu6Oz6+1tObztU3vVuOp5dt2nHo2epV7N9JP3S3fam8BtpWPuappJyJzJR+3bCePdW4Wt+TG8i2/yHPL9M9r/xvf/7FymZfkmsfFtNdauM6s4zZbXbPVAwCreOhZM07S5xrpof1S0FOPd4lfLNpO+NEkvyTeJ5a95heSPrs2ri1Vo7bl1uejR/rlq4ZyNMXjfduz1NsvB42mcfy9ah639zv3i0Tb+tGcr17POdd47+9GP/c9c+7VSG/f+9Q/HLTXW4Bt5WOuatqJyFzJxy3byWOdm8WRfNd3/GLParlHJz+CJeqslntp8i8wze/fvxbhOrOO22x1zVYPAKzioWfNOElfaqTH41daMz3uIu8fxxLN8PaYlmse6dJ+yeg1d67z6wuqqlHbcuvz0SP9e+d1WmO+PaolmurttXYHeNyd3q/TGu5xZ3z/9ZxW67V1nlo+amt34UdDvX/tUu7RSO9/Eeqp/wOgvd5yL1u9L6wuHxtV005E5ko+btlOHuu+Udzyt//mH//2etwBXi3z6ORHzcRz0qvlRtPf8Z7vSu+/fwTuyecLAF7moWfNOElfaqSHaJ7/+OOPX5rmkVinNdfjz9feXR7vEevEf7msXUi15CZtNG8j0RTuH+vSHsESr0WzN6/XcurRLvF883iPdsd4vFe727vdAV49RqU1p/ume5XWpI9Ur+dEPbF9kfbs9VZjvMetTfTIPRrpMS6XtqO93nIvW73vVlarl3Xlz1rVtBORuZKPW7aTx7pvFEdyw/rd7/32r5bZI4961Exsb7/9//Kf/uGz0vuvR+CefL4A4GUeetaMk/Q1jfReNM1bzj03vdJ+eemt6z2r/mIq0jdoWyP4Us41taOh3TfgoyEdd39Hkzya1NU60XiOZavHsrTXTj3mpM+pu9pPpTXw43vE926N9WvXz7lHI709oubcGMfrfe5lq/fdyir1rlInp+V9WDXtRGSu5OOW7eSx7pvIkf7xKbPcjZ6b21s39/u70vs73/saIgAA7O+hV2VxEXhrI/2lovEe3+/Us9b5tf5iPVI1akcTd6xHY7o1waPBHU3mdud3n/haq6V6lEl77Zpnlcf3jGWr56yfStQatUWisV7VeG3u0Uhv/xhw7o74NiYt97LV+25llXpXqZPT8j6smnYiMlfycct28lj3DeRI30T+h3/nT/7q9Ufnml8Ceu/Edrfv1/9jQvtaCwAA+3voVVlcBD6qkR7PV4/vd82z1PmN/mI9UjVqH5lonp+qpb0Wd4nn16q054tfu/y9M9pIb9tbPeKmTyzT5162et+trFLvKnVyWt6HVdNOROZKPm7ZTh7rvoGcH+vSP9Zkr/RN7UjUWC13z8R299+zjUP/tQgAAPt76FVZXAQ+opEez1iP7xXPV+d6/cV6pGrUPjLnGuntDvNLz0fv0x6N8pJnnI9mtJEe2xnrX3qMTSzT5162et+trFLvKnVyWt6HVdNOROZKPm7ZTh7rvoHcP0Jlhse6/It/8md+UWs8dqZabov0d+a3R8n0tUS4zqzjNmtdAMBtHnoWj4uGRzTS4y70+F5v3779+hWu0V/cRapG7aPTHmfSP1alPb88cs3z0VvirvS4I/3SXd1bpDX+Tz0L/lzaL0u9pu42Li33stX7bmWVelepk9PyPqyadiIyV/Jxy3byWPfN4/7u7/7Z4Hvlb3z/x77V8+jGfmx/+97tETft7y1cZ9Zxm7UuAOA2Dz2Lx0XDIxrpr169+vK9Pn78+PUrXKO/uItUjdpHp93JHXdkxy/6jLvKW3M9cs3z0fu097ulAf/SxN3nkWiet3ojUX977Zr6Y7lYr3pOfE7/fSLMzf5aX96HVdNOROZKPm7ZTh7rvnkczx9vX//93/2tX7z26PS/9DQSd6dXy22V2P72vdtz2ft6Ilxn1nGbra7Z6gGAVTz0rBkn6a0b6dE8j+8TzXRu019MRapG7R6JZnM0vqOZHs3kdkf6S593Ho3tWDfuUK9ev1ei1ku59AtMY7tjW+OO9ur1nH7/RZib/bW+vA+rpp2IzJV83LKdPNZ987i/A/zRjes+8Rz0/heM/u2/+cfL5bZM/1iZqCW+1v7ewnVmHbfZ6pqtHgBYxUPPmt9///3nH3/88evftvHTT795rrZfMnq7fEFVNWoflWgwx93jVaO53aEdd6fn165JvGc00qOhfqmRvWfaI11ueRxMv/8iwLbyMVc17URkruTjlu3kse6bx/3X92yk949ViSb2v/qDP1cut2Xy89nja/3fI1xn1nGbra7Z6gGAVTz0rBlN7vhFoFvTRH+ZfEFVNWoflfaLQXMTOR7vEl8fvaM8mtStmV69vnf6+m5p9vf7LwJsKx9zVdNOROZKPm7ZTh7rvnkcj1NpibvC+9cemWict0e77PWImdj+fjzia3nsuM6s4zZbXbPVAwCrcNbkm3xBVTVqH5V213n/SJPWXI7En/vlX5J4j3heeTwqpnp9z8Q/JLzkjvm8D+9lq/eF1eVjo2raichcycct28ljnRvIM2XPZn6VPHZwTz5fAPAyzpp8ky+oqkbto9LuPI+GejS6o6EeDfRrf0Hnsybvw3vZ6n23slq9rCt/1qqmnYjMlXzcsp081lXDWOrksYN78vkCgJdx1uSbfEFVNWofmXh0SzwnPRK/dFMD/XLyPryXrd53K6vVy7ryZ61q2onIXMnHLdvJY101jKVOHjsAAPbnqoxv8gV71aiVuZP34b1s9b5bWaXeVerktLwPq6adiMyVfNyynTzWVcNY6uSxAwBgf67K+CZfsFeNWpk7eR/ey1bvu5VV6l2lTk7L+7Bq2onIXMnHLdvJY101jKVOHjsAAPbnqoxv8gV71aiVuZP34b1s9b5bWaXeVerktLwPq6adiMyVfNyynTzWVcNY6uSx4zqzjtusdQEAt3EW55t8gVc1amXu5H14L1u971ZWqXeVOjkt78OqaScicyUft2wnj3XVMJY6eey4zqzjNmtdAMBtnMX5Jl/gVY1amTt5HzI3+2t9eR9WTTsRmSv5uGU7eayrhrHUyWPHdWYdt9nqmq0eAFiFsybf5AuqqlErcyfvQ+Zmf60v78OqaScicyUft2wnj3XVMJY6eey4zqzjNltds9UDAKtw1uSbfEFVNWpl7uR9CGwrH3NV005E5ko+btlOHuuqYSx18thxnVnHbba6ZqsHAFbhrMk3+YKqatTK3Mn7ENhWPuaqpp2IzJV83LKdPNZVw1jq5LHjOrOO22x1zVYPAKzCWZNv8gVV1aiVuZP3IbCtfMxVTTsRmSv5uGU7eayrhrHUyWMH9+TzBQAv46zJN/mCqmrUytzJ+/BetnrfraxWL+vKn7WqaScicyUft2wnj3XVMJY6eezgnny+AOBlnDX5Jl9QVY1amTt5H97LVu+7ldXqZV35s1Y17URkruTjlu3ksZaXBwCA/bkq45t8wV41amXu5H14L1u971ZWqXeVOjkt78OqaScicyUft2wnj7W8PAAA7M9VGd/kC/aqUStzJ+/De9nqfbeySr2r1MlpeR9WTTsRmSv5uGU7eazl5QEAYH+uyvgmX7BXjVqZO3kf3stW77uVVepdpU5Oy/uwatqJyFzJxy3byWMtLw/XmXXcZq0LALiNszjf5Au8qlErcyfvw3vZ6n23skq9q9TJaXkfVk07EZkr+bgFjmPW43vWugCA2ziL802+wKsatTJ38j5kbvbX+vI+rJp2IjJX8nELHMesx/dsdc1WDwCswlmTb/IFVdWolbmT9yFzs7/Wl/dh1bQTkbmSj1vgOGY9vmera7Z6AGAVzpp8ky+oqkatzJ28D4Ft5WOuatqJyFzJxy1wHLMe37PVNVs9ALAKZ02+yRdUVaNW5k7eh8C28jFXNe1EZK7k4xY4jlmP79nqmq0eAFiFsybf5AuqqlErcyfvQ2Bb+ZirmnYiMlfycQsch+P7OsYJAF7GWZNv8gVV1aiVuZP34b1s9b5bWa1e1pU/a1XTTkTmSj5uAZ6NeRAAXsZZk2/yBVXVqJW5k/fhvWz1vltZrV7WlT9rVdNOROZKPm4BAACu4acHvsk/WMr6uZet3ncrq9S7Sp2clvdh1bQTkbmSj1sAAIBr+OmBb/IPlrJ+7mWr993KKvWuUien5X1YNe1EZK7k4xYAAOAafnrgm/yDpayfe9nqfbeySr2r1MlpeR9WTTsRmSv5uAWOY9bje9a6AIDbOIvzTb7Ak/VzL1u971ZWqXeVOjkt78OqaScicyUft8BxzHp8z1oXAHAbZ3HgcFb5YWWVOjkt78OqaScicyUft8BxzHp8z1bXbPUAwCqcNQF24oeY9eV9WDXtRGSu5OMWOI5Zj+/Z6pqtHgBYhbMmALxQ/kG0atqJyFzJxy1wHLMe37PVNVs9ALAKZ00AeKH8g2jVtBORuZKPW+A4Zj2+Z6trtnoAYBXOmgDwQvkH0appJyJzJR+3wHE4vq9jnADgZZw1gYtWu9herV7WlT9rVdNOROZKPm4Bno15EABexlkTuGi1i+3V6mVd+bNWNe1EZK7k4xbg2ZgHAeBlnDWBi1a72F6l3lXq5LS8D6umnYjMlXzcAgAAXMNPD8BFqzUdVql3lTo5Le/DqmknInMlH7cAAADX8NMDcNFqTYdV6l2lTk7L+7Bq2onIXMnHLXAcsx7fs9YFANzGWRy4aLWL/1XqXaVOTsv7sGraichcycctcByzHt+z1gUA3MZZHDicVX5YWaVOTsv7sGraichcycctcByzHt+z1TVbPQCwCmdNgJ34IWZ9eR9WTTsRmSv5uAWOY9bje7a6ZqsHAFbhrAkAL5R/EK2adiIyV/JxCxzHrMf3bHXNVg8ArMJZEwBeKP8gWjXtRGSu5OMWOI5Zj+/Z6pqtHgBYhbMmALxQ/kG0atqJyFzJxy1wHLMe37PVNVs9ALAKZ03gIhfbUMvHRtW0E5G5ko9bgGdjHgSAl3HWBC5a7WJ7tXpZV/6sVU07EZkr+bgFeDbmQQB4GWdN4KLVLrZXqXeVOjkt78OqaScicyUftwAAANfw0wNw0WpNh1XqXaVOTsv7sGraichcycctAADANfz0wCHlH5Jl/dxiZN1HWqVOTsv7sGraichcycctwNY+fvz4+aeffvqST58+ff0qALAaPz1wSPmHZFk/txhZ95FWqZPT8j6smnYiMlfycQscx6zH9w8//PCtpg8fPnz9KgCwGj89cEj9BbQcI7cYWfeRVqmT0/I+rJp2IjJX8nELHMesx3ffSP/xxx+/fnU//RhFAIDrOGtySPniUNbPET3DNh5d3odV005E5ko+boHjmPX41kgHgGNw1uSQ8sXhf/Y/fJbFkvfhET3DNh5d3odV005E5ko+boHjmPX4fvv27beaNNIBYF3OmhxSvjisGrUyd/I+hBnlz2nVtBORuZKPW+A4Zj2+o3neatJIB4B1OWtySPnisGrUytzJ+xBmlD+nVdNOROZKPm6B45j1+P7pp5++NNAj8ee9zTpOADA7Z00OKV8cVo1amTt5H8KM8ue0atqJyFzJxy3AszEPAsDLOGtySPnisGrUytzJ+/AWI+vCLfJnrWraichcycctwLMxDwLAyzhrckj54rBq1MrcyfvwFiPrPtIqdXJa3odV005E5ko+bgEAAK7hpwcOKf+QXDVqZe7kfXiLkXUfaZU6OS3vw6ppJyJzJR+3AAAA1/DTA4eUf0iuGrUyd/I+vMXIuo+0Sp2clvdh1bQTkbmSj1sAAIBr+OmBQ8o/JFeNWpk7eR/eYmTdR1qlTk7L+7Bq2onIXMnHLXAcsx7fs9YFANzGWZxDyherVaNW5k7eh7cYWfeRVqmT0/I+rJp2IjJX8nELHMesx/esdQEAt3EW55DyxWrVqJW5k/fhET3DNh5d3odV005E5ko+boHjmPX4nq2u2eoBgFU4a3JI+eKwatTK3Mn78IieYRuPLu/DqmknInMlH7fAccx6fM9W12z1AMAqnDU5pHxxWDVqZe7kfQgzyp/TqmknInMlH7fAccx6fM9W12z1AMAqnDU5pHxxWDVqZe7kfQgzyp/TqmknInMlH7dsJ4+1vDxcZ9Zxm62u2eoBgFU4a3JI+eKwatTK3Mn7EGaUP6dV005E5ko+btlOHmt5eeCefL4A4GWcNTmkfHFYNWpl7uR9eIuRdeEW+bNWNe1EZK7k45bt5LGWlwfuyecLAF7GWZNDyheHVaNW5k7eh7cYWRdukT9rVdNOROZKPm7ZTh5reXkAANifqzIOKf/wUTVqZe7kfXiLkXUfaZU6OS3vw6ppJyJzJR+3bCeP9b/+539erkweOwAA9ueqjEPKP3xUjVqZO3kf3mJk3UdapU5Oy/uwatqJyFzJxy3byWNdNYylTh47AAD256qMQ8o/fFSNWpk7eR/eYmTdR1qlTk7L+7Bq2onIXMnHLdvJY101jKVOHjuuM+u4zVoXAHAbZ3EOKV+sVo1amTt5H95iZN1HWqVOTsv7sGraichcycct28ljXTWMpU4eO64z67jNWhcAcBtncQ4pX6xWjVqZO3kfHtEzbOPR5X1YNe1EZK7k45bt5LGuGsZSJ48d15l13Gara7Z6AGAVzpocUr44rBq1MnfyPjyiZ9jGo8v7sGraichcycct28ljXTWMpU4eO64z67jNVtds9QDAKpw1OaR8cVg1amXu5H0IM8qf06ppJyJzJR+3bCePddUwljp57LjOrOM2W12z1QMAq3DW5JDyxWHVqJW5k/chzCh/TqumnYjMlXzcsp081lXDWOrkseM6s47bbHXNVg8ArMJZk0PKF4dVo1bmTt6HMKP8Oa2adiIyV/Jxy3byWFcNY6mTxw7uyecLAF7GWZNDyheHVaNW5k7eh7cYWRdukT9rVdNOROZKPm7ZTh7rqmEsdfLYwT35fAHAyzhrckj54rBq1MrcyfvwFiPrwi3yZ61q2onIXMnHLdvJY101jKVOHjsAAPbnqoxDyj98VI1amTt5H95iZN1HWqVOTsv7sGraichcycct28ljXTWMpU4eOwAA9vfQq7LXr19//umnn77+bRufPn36/N13333++PHj16/wjPIPH1Wj9kj56//9z5//4n/6+vPv/N335et75t//z998/kt/6+2XGqvXTyXvw1uMrPtIq9TJaXkfVk07EZkr+bhlO3msq4ax1MljBwDA/h56VRYXgT/88MPXv20jGvXxfd68efP1Kzyj/gePSNWoPUqiQf3v/AevvuTWZnXkP/5vP37+a//NT19SvT6al9aX9+EtRtZ9pFXq5LS8D6umnYjMlXzcsp081lXDWOrkseM6s47brHUBALd56Fk8Lhq2bqSHuCM9vtfPP//89Ss8m/5CNVI1anP+k3/06fNf+S9/vCn/4d95t1kD+pq0JvWf+7e/+1J/tcypRN3/1r/3/Zfx+Qv/0Q9f3uOlzfhLidra+1evV8n78BYj6z7SKnVyWt6HVdNOROZKPm7ZTh7rqmF8xPyP/+zPfv4X/+TPlK9dmzx2XGfWcZu1LgDgNg89i8dFw7WN9A8fPnx+9erVLy44vv/++88//vjjxQb527dvvyz//v37r1/h2fSfm0jVqM35q//gw7eGcl4/Gs7xWp9oCrfXY514hMkWTehzie8Z3z9qr14/lXgETKwX29Aa8NFYj6/FtuXl75H2/lFz9XpOLNvniJ5hG48u78OqaScicyUft2wnj3XVMD5i/tZf/ze/bO/f/+FPfP5Xf/DnymUuJY8d15l13Gara7Z6AGAVDz1rxkn6mkZ6PJalLduedR7N82iix9cvPQM9XovlohHPc4r936dq1J5La1C3xONPquWicR5N6dZ8j/+eWvbeieZ5fM9rG9MtrYketea72Nsd6lttQzwrPd7/msZ/LNfniJ5hG48u78OqaScicyUft2wnj3XVMD5a/uAf/+lfbPO73/vtcrlL6d8jwnVmHbfZ6pqtHgBYxUPPmnGSvtRIb030U03wuMs8Xo9m+rk709vd7H7p6HOKfd+natSeS/zizrbuNY3qdrd1JBrUW9+ZHu8fTe9bv1c0yFudVTM77kaP1+KxNfm1eyRqjZqvqbvV2QIzyp/TqmknInMlH7dsJ4911TA+UuLu87/47/4b37Y37kyvlrsm/bhFuM6s4zZbXbPVAwCreOhZM07S5xrp8TiXdjL/9OnT16/+WrxHLBNN91Nawz0e88LzaZ+jlqpRey7R6G3rxh3c1TI5/aNe4tnp1TL3SjS64/vEHd7V61Va8z3WO/X4ltZI3+rxLpFW+6VmfSzTB2aUP6dV005E5ko+btlOHuuqYXyk/MO/8yd/sb3xrPRquWvSv0+E68w6brPVNVs9ALCKh5414yR9rpHe7iK/9EiWaxrucbd6vB53rvN82uejpWrUnkp/13bk2l/i2ZrQkS0b0ZHW6L/lF4y2Bnbk1C9Ibdtwyy8FvTVRc3yPS3elt1pbYEb5c1o17URkruTjlu3ksa4axkdJ/HLRflv/u7/3p8rlrk3/XhGuY9yuY5wA4GUeetaMk/SpRno0xNuJPJ6Ffklb9twd53HHeizjl44+n/b5aKkatacSd5O39eIO7mqZKv1d7Fs20vtfFFq9XqU1ry/V1v9jQPX6vdLu3j93t3+ro+UWI+vCLfJnrWraichcycct28ljXTWMj5K/8f0f+7adv/OX/2i5zC3pxy0C9+TzBQAv89CzZpykTzXS26NYIrc00r///vuvX/m1n376zXOrX79+/fUrPIv2+WipGrWncuvz0SP5LvatnjEeaU3oWx4f0//y1HPN6/bol0j1+r3S/rEixrp6PdLqaLnFyLpwi/xZq5p2IjJX8nHLdvJYVw3jR+Vf/tM/++UXgcad4pG//8Of+PIM85y//Tf/+LdlYvm407x6vz6xbL+d16xzKf37RQAA2N80jfS4s7xdKN7SSI+ce556NNovLcPx9J+PSNWoPZWXPB+9b1TH+rc8cuWW9HeWR/O+Wian/YLPVlu1TEu/DdXr90r/Dw/V65H2esstRtZ9pFXq5LS8D6umnYjMlXzcsp081lXDeIvEL/2MJng8s7y/U3wk8T7xfvG+8f7te8Vz0PtfMBoN+r6Wl6b/3hEAAPb30KuyuAg81UiPr7cLxbiT/JK27KXl3737zZ2v1zTnOY7+8xGpGrVVXvJ89HjeeL/Otc33l6Q91iVSvV6lf1TNuTvA++3Y+hnvkfa9Tj2vvb3ecouRdR9plTo5Le/DqmknInMlH7dsJ4911TC+Z9793m9/uaM8f98tEt8nvl/cxd6+Fg31vsk+kv57RQAA2N9Dr8riInCLRvq5Jnl79vq5R8BwPP3nI1I1aqv0TedrnkEeTeD+bu+/+g8+lMvdK+3O91sa3e1RMJFzTf5rG+73Snse+6lH1LRaWm4xsu4jrVInp+V9WDXtRGSu5OOW7eSxrhrGo4lHtsRd4P1d4aeSH93y+7/7W18ew9ISjfH2WizXN8mvSaxf1fiS5PfmOrOO26x1AQC3eehZPC4aTjXSv/vuDx+ncc9GeohnpF/7vhxD//mIVI3aKv3z0f/S33pbLhOJO9f7x7nEn7d6nEuf1nyO71e9ntM/CiZyrsZ+e7Z8xntL+36nxrnV0nKLkXUfaZU6OS3vw6ppJyJzJR+3bCePddUwfmmi8X2u0R2N9WiwR3M7mu3Ve1ybeHxLvE+8X/wi0er7RaKeezwfPZLfm+vMOm6z1gUA3OahZ/G4aDjVSO8vLO7dSP/w4cOX5d68efP1Kxxd//mIVI3aKu3u8kj84s1oXOf0r8fd1I9ooLe0+q5tdPePgrklpx63cs/ENsT3ijGtXs813WJk3UdapU5Oy/uwatqJyFzJxy3byWNdNYxvTTTFTzXQW/M8nmNerXuvRA3/+//o9LPXo77R5n1+T64z67jNVtds9QDAKh561oyT9B6N9NDueP/555+/foUj6z8fkapRm5Pv3o5mck40f6OBHq9HU/vUY0m2Sqvt2kZ6f5d5NKyrbYr0j3WJVO8ViTHq16uWuTZbNtJX8QzbeHR5H1ZNOxGZK/m4ZTt5rKuG8bWJZ4/HL/vM7xmJXwR6z8eqXErcdd5////dibvUo96XPjM9vxfXmXXcZqtrtnoAYBUPPWvGSXqvRvrbt2+/LBu/fJTj6z8fkapRm9PfvX3p+eiPfgxKS/ue1z6Lvb+D/lzTvzW1I9Xz0eNRNvFe8Y8H8d/+uesxFn/9v//5V+tcSmxDrB/vWb3e3r8FZpQ/p1XTTkTmSj5u2U4e66phfE3i7u5oluf3u+ejVG5JX0s86iWa5aceNRPLvuTu9Pw+XGfWcZutrtnqAYBVPPSsGSfpPZ6RHtovHX316tXXr5z3/v37L+8ra6b/fESqRm1O3xw/93z0SDSO+/d/SSP51vR3zF97N3hfYzTDq2UifcM9/0LSWC+a3dFs77cz6mkN9Xj91jGIbWjfs3q9vdYSc4fIbMmf06ppJyJzJR+38rhUDeNLiTvN8y8Sjb8/8g70PvGLSPtaciM//p6fo/6Sevv1q1Sq5VqyapmWSrVcpFItF6lUy0Uq1XKR3rnX9jRbXbPVAwCreOhZM07S0Xio9A2JeKb5JW3ZSDROL7m1kV41SGTdVI3anPbIlsg1d3z37z/6mJNrc+v362usXo/0/yhQNcSjyR7/yNB/raVv7p9a5lRubaSLrJCqaScic6U6duUxqRrG5/L7v/tbv3qPeAb6Sx+XMpr4paN9U/9v/80/Xi536jE0sT3V8lXyujmVarmWrFqmpVItF6lUy0Uq1XKRSrVcpHfuNf6QcQKAl3noWTNO0tc00q9pjLdlI9fcwd4e7XLNeweN9GOlatT2yc9Hv3R3ddyl3S8/eyM9muHV65H+kTZVM7y9duoRNvEomLZM9fqpaKTLEVM17URkrlTHrjwmVcP4VKJh3q+7513oLf2jW6KeSw39+KWnfeM9EttVLZvTr1OlUi3XklXLtFSq5SKVarlIpVouUqmWi3A7YwgAL/PQs2acpE810vvHcdzaSP/48ePXr57WHh0Td6Zfw6Nd1k7/+YhUjdo+tzwfPZJ/OeejG+nXPpe9LV8997ylb4THPyjk19trpx530z9fvXr9VNp6p8a7vWdLtZ9PZWTd1RK/9yH+MVH2Sf6sVU07EZkr+bitjm25T/JYVw3jKlUT/SXPGb9noine13Tt3eVR90ua6f3yVSrVci1ZtUxLpVouUqmWi1Sq5SKVarkItzOGAPAyDz1rxkn6VCM9GtftRB7NoUvastEgvyQeFXPue3M87fPRUjVq+9zyfPRILHPL+0ejPRrWcWf4qSZ43AWfn0+e077frY30U8tf82iW2NZzY9KPXfX6qbRG+qm75dt7ttxiZN1HWqVOTsv7sGraichcycct28ljXTWMc/LjXOKXde71KJeW+P59MzzuTK+WO5VYP/+y1EuN+H7ZCAAA+3voVVlcBJ5qZv/88x8+p/lSw7s97zzy5s2br1897fXr39xxG816nkP7fLRUjdo+tz4fvf/lnPFc8WqZlmiOxzLxvu3u76qx3RrScbd7fq2l/XLPa5r9kVbjqUZ6a2a/5JeFtrSxi/9Wr59K+8eIU3fLt9pbbjGy7iOtUien5X1YNe1EZK7k45bt5LGuGsZ98l3fMzTRI/l55y+5O75qpsf2VstG+uUiAADs76FXZXEReK5J3hrel+4y7+9ej/9t9JzWoL/mznWOo30+WqpGbcutz0eP9I336o7qaFDH+0aiSd0e/XLuLuxYLl4710hvjfhTd3HntMZ71Ujvt/vSnfCn0j8S55p/gOjT/jHiVJO/vW/LLUbWfaRV6uS0vA+rpp2IzJV83LKdPNZVw7gl/yLP+PMMTfR/8U/+zC+24b/7e3+qXO6a5Dvb48+x3dWy/feMsDb7EwCO4aFn8bhoONdI75+leK5BHu9x6b2aeH5wLBu/bJTn0T5HLVWjtuXW56NHWtM7kpvarUEdv5A07rruXz/V2O5/eWn8uX+tT2vEx/evXs9pd31XjfdWy6lHulxK+0eCl75HW/fU8+XjtT63GFn3kVapk9PyPqyadiIyV/Jxy3byWFcN45b+F3lG9n4mekt/F/nv/OU/Otzcj+3qt/PUY2L6ZSKszf4EgGN46Fk8LhouNb+j4R3Lff/991/uJs/a3ehxh/k1vzg03ieWv+YXknIcsc/75CZtNIGjgRtpDeVINJzb1/M6ffpf0Jmb1O1Z6PHnaNK3xvi5Znn75aWXGuRRV3uP2IZqmT6tqR/v299p3x4jc+qxKpcS7zXSiG91RU79HwDt9ZZbjKz7SKvUyWl5H1ZNOxGZK/m4ZTt5rKuGceTd7/32L5a79hd5bp24+7yvK+5Or5a7Nfk58LH9eZn+9Qhrm21/zlYPAKzioWfNOElfcxd5a6a/evXq253p0VSPX0IaX4/m+DWN8VimvQ/PJfZ7n75B2zejz+Vck7lvikfisSbxvrFONK2ru8rb3eHVXe/ReL/0PVvandzXPo6l3XEf7x11tu917XPWc/om+qnHslxKqyn/I0SfeL3PET3DNh5d3odV005E5ko+btlOHuvcLG6JO73bMrf+Is+tkh8187f/5h8vl3tp+jvwY/vz6+21FtY22/6crR4AWMVDz5pxkr6mkR6igR6/SDSa4LFe3IEe68ajWqo71Suxfqzrl4w+n3ZR2FI1akcTzfJoTvffJ56dXjXRI+256tUz0Nv6556P3vKSu8lbkz8a17H+pTvuT6U10aOZ/9L3iLRxO/ePAW1MWmBG+XNaNe1EZK7k45bt5LHOzeJIvht9lke69I3uLZ7Xnh/xkp+93r8WYW2z7c/Z6gGAVTz0rBkn6Wsb6fcQzff4ntc23jmO/sIwUjVqH51WS34kS3+H/KkmfJ/+bvhTj0XZIq2JHsnftz2qpf/aqcS6sWx+3ExO28YWmFH+nFZNOxGZK/m4ZTt5rPtGcUt/N/rf/+FPlMs8On/wj//0L+re6lEzsb3te0Szvn+t//4R1jbb/pytHgBYxUPPmnGSflQjvT1LPe5K5/n0F4aRqlH76JyqpT3yJRrL+bVTaY9nueYO9nukNdFPPQ+9Paqlei2n/cLUS4+FiWX6wIzy57Rq2onIXMnHLdvJY903iiPxzPH+9XicSl7m0Yk7z/tHumz5qJnY3n77+2el91+PsLbZ9uds9QDAKh561oyT9KMa6fF94vu1Z6zzXPoLw0jVqH102qNd+q/F3eXtmee3Pqol1on3rF6/Z1oTPb5fNPCrtNeq9fvEe8X2XrobPRLv2QdmlD+nVdNOROZKPm7ZTh7rvokc6e/InuXZ6P/w7/zJX9S89aNm+kfI9M9h72uIwD35fAHAyxyykf7p028eMxG/lJTn1F8YRqpG7aPT7jxvzyiPu7hbEz1y693l7f22viu9NdEv5Zp/CGh3o19Tc37/W4ysC7fIn7WqaScicyUft2wnj3XfQI70d373d2PvlXyHfH5u+RbJz4hvX++/FoF78vkCgJd56FkzTtKPaKT/+ONvmnXxX55Tf2EYqRq1j07cgf1X/8GHLw3waDpHI/3W56P3aXeKRzM+P3f9nonm9zW59MtH27Pdr73zvo1Lyy1G1n2kVerktLwPq6adiMyVfNyynTzWfQM5N63v/cs8X5K/8f0f+1ZPPLv9ETXF9+jHIcYlvt5/LQIAwP4eelUWF4GPaKTHnejxveLOdJ5T/4NHpGrUPjLRZK4eZdLuKn/pI1rao2GueazKnmlN/8ilR7q05H14i5F1H2mVOjkt78OqaScicyUft2wnj3XfQI67vdvXo4Hdv7ZH+noiraH9iPQN/HYXfF9LBACA/T30qiwuArdupH/8+Ju7Xl+/fv31Kzyj/gePSNWofVTibu2oIZrI/dejodwe7RJ3qvev3ZLWTD/1i0D3Tn/n/LVN9Ei//yK3GFn3kVapk9PyPqyadiIyV/Jxy3byWPfN43geePt6PJe8f+3RiV/62T9mpn9W+SPSP5e9fe/29xbWZn8CwDE89CweTfQPHz58/ds2opH+3Xffbf59mFu+WK0atY9K9cs4W3M5vn6PZ5xHMz3uah9pyG+VuOv+ljvRW/r9F7nFyLqPtEqdnJb3YdW0E5G5ko9btpPHum8e979kc+/no/e1REP90Y+Z6Z+T3n7pavt7C2uzPwHgGJzFOaR8sVo1ah+VaJRHDfFs8HjESzS72x3aMza+Z0neh7cYWfeRVqmT0/I+rJp2IjJX8nHLdvJY983jeAZ5+/ojH6OS8wf/+E//osbf/93fKpfbMvl58fG1/u8R1jbb/pytHgBYhbMmh5QvDqtG7SMTDfN49Ercld5+0eitd2g/W/I+PKJn2Majy/uwatqJyFzJxy3byWPdN4/7r+/ZSI/Geauj3Q3+6GikH99s+3O2egBgFc6aHFK+OKwatTJ38j48omfYxqPL+7Bq2onIXMnHLdvJY52bxy2PfpRKTjwjPZ5N/i//6Z8tX986sf39eMTX8tixttn252z1AMAqnDU5pHxxWDVqZe7kfQgzyp/TqmknInMlH7dsJ491biDL6eSxY22z7c/Z6gGAVThrckj54rBq1MrcyfsQZpQ/p1XTTkTmSj5u2U4e66phLHXy2LG22fbnbPUAwCqcNTmkfHFYNWpl7uR9CDPKn9OqaScicyUft2wnj3XVMJY6eezgnny+AOBlnDU5pHxxWDVqZe7kfXiLkXXhFvmzVjXtRGSu5OOW7eSxrhrGUiePHdyTzxcAvIyzJoeULw6rRq3MnbwPbzGy7iOtUien5X1YNe1EZK7k45bt5LGuGsZSJ48dAAD7c1XGIeUfPqpGrcydvA9vMbLuI61SJ6flfVg17URkruTjlu3ksa4axlInjx0AAPtzVcYh5R8+qkatzJ28D28xsu4jrVInp+V9WDXtRGSu5OOW7eSxrhrGUiePHQAA+3NVxiHlHz6qRq3MnbwPbzGy7iOtUien5X1YNe1EZK7k45bt5LGuGsZSJ48da7M/AeAYnMU5pHyxWjVqZe7kfXiLkXUfaZU6OS3vw6ppJyJzJR+3bCePddUwljp57Fib/QkAx+AsziHli9WqUStzJ+/DI3qGbTy6vA+rpp2IzJV83LKdPNZVw1jq5LFjbbPtz9nqAYBVOGtySPnisGrUytzJ+/CInmEbjy7vw6ppJ4/Lf/3+zef/8z/9uy/O3/sX//fyffv8X/7Z/61c91yq95H9ko9btpPHumoYS508dqxttv05Wz0AsApnTQ4pXxxWjVqZO3kfwozy57Rq2snj8r/4C//LX+2TW/I7f+uvle/bp1rvUv6P/4//onwv2Sd5/7CdPNZVw1jq5LFjbbPtz9nqAYBVOGtySPnisGrUytzJ+xBmlD+nVdNOHpe/9l/9p5//yv/hf/slf+Gv/K9+tX9y/td/7X/zbfnIf/H//r+W79vn//SP/qsvy8a61Xv2ae8bd7FX7yX7JO8ntpPHumoYS508dqxttv05Wz0AsApnTQ4pXxxWjVqZO3kfwozy57Rq2sl+iceqVHepRxP8mse4XEo8SiY31KNx7nEuc6ffXxG2k8daXh64J58vAHgZZ00OKV8cVo1amTt5H95iZF24Rf6sVU072TdVI/2aO8+vTTTN2/vGHfHVMjJX+s9ChO3ksZaXB+7J5wsAXsZZk0PKF4dVo1bmTt6HtxhZF26RP2tV0072S9wxnvdR5B53o7e0Rno07O/5vrJd8ueB7eSxlpcHAID9uSrjkPIPH1WjVuZO3oe3GFn3kVapk9PyPqyadrJf4s7zvI/iUSzVsi9N/CLReF93o6+T/JlgW3m8///t3U+odOmdH/ZFBjTRvxn98SYLZzMYYrTICNr2YsggMBOshdsIhjARGiakTVCCe2M6JgOyspiXQQg7MC9GCWNCeqSNiTTeaNOgrNQrI+jdQK9m0ZvZNHjV2zf8br8/+emffnXuOefWqXqq3s8HvqjfW8+tOvc5de6p+t6jp2R7AACYg1dm3KX6BqQramXu1H24xVO+95JuZTs5re7DrrST6+WP/o//5Vf20R88e6Mduzdff/MbD/cbH0La3S7zpT4nAAAA1vDugbtU3yR3Ra3MnboPt3jK917SrWwnp9V92JV2cr3EB3/WfXTO9dEjuQZ7LCPT3S7zpT4nAI7m9w4A3Adnce5SfbHaFbUyd+o+3OIp33tJt7KdnFb3YVfayfVS90/knOuY/8uf/auH+/zK1367vV3mTH1OABzN7x0AuA/O4tyl+mK1K2pl7tR9eI9ehZ/x3tV92JV2cp3kh4COsT66ROrzAuBos/3emW17AOBWOGtyl+qLQ7n93KNX4We8d3UfdqWdXCfWR5dTqc8LgKPN9ntntu0BgFvhrMldqi8O5fYDM6rP0660k+vE+uhyKvV5AXC02X7vzLY9AHArnDW5S/XFodx+YEb1edqVdnKd1H0TsT66ROrzAuBos/3emW17AOBWOGtyl+qLQ7n9wIzq87Qr7eTysT66LKU+NwBeNX4PAsA+zprA3fHmgEupz7WutJPLx/rospT63AB41fg9CAD7OGsCd8ebAy6lPte60k4uH+ujy1LqcwMAAGAN7x6Au3MrJcmtbCen1X3YlXZy+dT9ErE+umTqcwMAAGAN7x6Au3MrJcmtbCen1X3YlXZy2VgfXR5LfX4AAACs4d0DcHdupSS5le3ktLoPu9JOLhvro8tjqc8PgKP5vQMA98FZHLg7t/Jm5Va2k9PqPuxKO7lsrI8uj6U+PwCO5vcOANwHZ3GAK/Gm6vbVfdiVdnLZ1H0SsT66jKnPD4CjzfZ7Z7btAYBb4awJcCXexNy+ug+70k4ul0uuj37u5WLkcqnPEYCjzfZ7Z7btAYBb4awJADvVN6JdaSeXyyXXRz/3cjFyudTnCMDRZvu9M9v2AMCtcNYEgJ3qG9GutJPL5ZLro59zuRi5bOpzBOBos/3emW17AOBWOGsCwE71jWhX2snlUvdH5Ij10c+9XIxcNvU5AvCq8XsQAPZx1gTujjcHXEp9rnWlnVwmWXKPsT66dKnPE4BXjd+DALCPsyZwd7w54FLqc60r7eQy+Wd/8ce/sj/OXXhHMR/3a3302059ngAAAKzh3QNwd26lJLmV7eS0ug+70k4uk+6DRs9ZeP/Ju88f7jPWSO9ul9tJfZ4AAACs4d0DcHdupSS5le3ktLoPu9JOLpOuSI/yuxu7J9/4428+3Gf8b3e73E7q8wQAAGAN7x6Au3MrJcmtbCen1X3YlXZymXRFejduT/Jq9Mg5y3m5TsbnSATgaH7vAMB9cBYH7s6tvFm5le3ktLoPu9JOLpP8INAj9sfX/od/9HB/PmT0PlKfJwBH83sHAO6Dszhwd27lzcqtbCen1X3YlXZymfxvP/3TQ/ZHXun+la/99ovv/eL/bMfIbaU+TwCONtvvndm2BwBuhbMmwJV4E3P76j7sSju5XOKDQMf98S9/9q/acWvzz/7ij395X1HUd2Pk9jI+RyIAR5vt985s2wMAt8JZEwB2qm9Eu9JOLpdYemXcH3E1eTduTcYSPf67GyO3mfE5EgE42my/d2bbHgC4Fc6aALBTfSPalXZyucTSK+NV6fHfe5ZjGT+49CllvMyZ3LcZgKPN9ntntu0BgFvhrAkAO9U3ol1pJ5fNeCV55OtvfqMd1yWWgskPFo24Ev0+Mz4/IgCvGr8HAWAfZ03g7nhzwKXU51pX2snlU8v0f/CN/2ZxjfN//v/+7y++8cff/OX4uJLdmuj3m/G5EQF41fg9CAD7OGsCd8ebAy6lPte60k6ukyjH64ePRqEehXks1xKJq8/rmFhnfc9yMHI7Gfd3BOBV4/cgAOzjrAncnVt5c3Ar28lpdR92pZ1cL1GIR2Fey/Kar3zttx8K9D9593l7P3JfqfsfAABgDe8egLtzKyXJrWwnp9V92JV2Mkdi/fP/6f/657+8Gj0SS8DE17vxcr+pxy0AAMAa3j3AZOobfLnNrLHne5hL3YddaScic6UetwBH83sHAO6DszhMor7AltvPY7aOZz51H3alnYjMlXrcAhzN7x0AuA/O4jCJ+gJb7iNLtoxlTnUfdqWdiMyVetwCHG223zuzbQ8A3ApnTZhEfUEr95ElW8Yyp7oPu9JOROZKPW4Bjjbb753ZtgcAboWzJkyivqD9o3//Qm4wdT9y3+r+7ko7EZkr9bgFONpsv3dm2x4AuBXOmjCJ+oK2K2ll/tT9yH2r+7sr7URkrtTjFuBos/3emW17AOBWOGvCJOoL2q6klflT9yP3re7vrrQTkblSj1uAo832e2e27QGAW+GsCZOoL2i7klbmT92P3Le6v7vSTkTmSj1uAV41fg8CwD7OmjCJ+oK2K2ll/tT9yH2r+7sr7URkrtTjFuBV4/cgAOzjrAmTqC9ou5JW5k/dj0u2jGVOdR92pZ2IzJV63AIAAKzh3QNMor6x70pamT91Py7ZMpY51X3YlXYiMlfqcQsAALCGdw8wifrGvitpZf7U/bhky1jmVPdhV9qJyFypxy3A0fzeAYD74CwOk6gvsLuSVuZP3Y9LtoxlTnUfdqWdiMyVetwCHM3vHQC4D87iMIn6ArsraWX+1P24ZMtY5lT3YVfaichcqcctwNFm+70z2/YAwK1w1oRJ1Be0XUkr86fuxyVbxjKnug+70k5E5ko9bgGONtvvndm2BwBuhbMmTKK+oO1KWpk/dT8u2TKWOdV92JV2IjJX6nELcLTZfu/Mtj0AcCucNWES9QVtV9LK/Kn7kftW93dX2onIXKnHLceq8y37wm2bbX/Otj0AcCucNWES9QVtV9LK/Kn7kftW93dX2onIXKnHLcepcy37w22bbX/Otj0AcCucNWES9QVtV9LK/Kn7kftW93dX2onIXKnHLcepcy37A+fk+QUA+zhrwiTqC9qupJX5U/cj963u7660E5G5Uo9bjlPnWvYHzsnzCwD2cdaESdQXtF1JK/On7sclW8Yyp7oPu9JOROZKPW45Tp3r//gf/pasTJ07AACuz6symER9w9SVtDJ/6n5csmUsc6r7sCvtRGSu1OOW49S57gpj6VPnDgCA6/OqDCZR3zB1Ja3Mn7ofl2wZy5zqPuxKOxGZK/W45Th1rrvCWPrUuQMA4Pq8KoNJ1DdMXUkr86fuxyVbxjKnug+70k5E5ko9bjlOneuuMJY+de64bfYnANwHZ3GYRH2B3ZW0Mn/qflyyZSxzqvuwK+1EZK7U45bj1LnuCmPpU+eO22Z/AsB9cBaHSdQX2F1JK/On7sclW8Yyp7oPu9JOROZKPW45Tp3rrjCWPnXuuG2z7c/ZtgcAboWzJkyivqDtSlqZP3U/LtkyljnVfdiVdiIyV+pxy3HqXHeFsfSpc8dtm21/zrY9AHArnDVhEvUFbVfSyvyp+5H7Vvd3V9qJyFypxy3HqXPdFcbSp84dt222/Tnb9gDArXDWhEnUF7RdSSvzp+5H7lvd311pJyJzpR63HKfOdVcYS586d9y22fbnbNsDALfCWRMmUV/QdiWtzJ+6H7lvdX93pZ2IzJV63HKcOtddYSx96tzBOXl+AcA+zpowifqCtitpZf7U/ch9q/u7K+1EZK7U45bj1LnuCmPpU+cOzsnzCwD2cdaESdQXtF1JK/On7kfuW93fXWknInOlHrccp851VxhLnzp3AABcn1dlMIn6hqkraWX+1P24ZMtY5lT3YVfaichcqcctx6lz3RXG0qfOHQAA13fxV2XvvPPOQ4700UcfvXjrrbdefPDBBy+/AvOrb5i6kvbe8gd/8eGL3/vuO+1t18xTtqvuxyVbxjKnug+70k5E5ko9bjlOneuuMJY+de4AALi+i78qe+211x5ypA8//PDhBWeU6XAr6humrqS9p/z+v/3gxZd/67UXX/sXP2lvv2a+9e8+eti2r/yTtx7+uxtzKnU/LtkyljnVfdiVdiIyV+pxy3HqXHeF8a3nB9/93Iu//tmX2tuekjp33Db7EwDuw8XP4pd68RAlejxOlOpwC/LYyHQlbZe4evob/+b9TYnv6e7rUskS/e//0+ft7UuJ7f/qN589fH/ex9aye01yG//OP3yjvf1U6n5csmUsc6r7sCvtRGSu1OOW49S57grjW84Pv/f5h5/rq3/311785Z/9Rjtmb+rccdvsTwC4Dxc/i2958RAl+PPnz1+88cYbD98TV7JHQR5Lw8TyLUvefffdh+95++23X34F5pbHRqYraWuiEK/ftzZ/+++9/nA1+BEl9FJim7Og3vrYv/Pm2w/bHleKR6H+j//1ew//3lp2r03e/5bCP+c3s2TLWOZU92FX2onIXKnHLcepc90VxreauAo9CvT82b7z7c+04/ZmnLcIt222/Tnb9gDArbj4WXPtyToK8BgX5XkU5++///5DoliPr7/++uuLa6BH0R7fG+PgFuSxkelK2i5RRkepnCVzZiyX80r0yNf/9N2HYjjHRakdhfF4n0cmtiseN7alu/1UcpvjavTu6/FzjV8/V3Je185RjB2zZMtY5lT3YVfaichcqcctx6lz3RXGt5o3v/XpX/5cUaj/zc+/3I7bm3HeIty22fbnbNsDALfi4mfNNSfrn/zkJw9jogjvyvK82vzU7SlL9/fee+/lV2BeeWxkupJ2KbEUyfj98e9uXCaK53H81mJ7T+IDPOOxtlzhHYkr5+P7ovSvV7HnbUddlR6PF4/bPXaXnM8M963u7660E5G5Uo9bjlPnuiuMbzE//9EXPvFznXtZl8h4/xFu22z7c7btAYBbcfGz5mMn6/yg0EgU5qc8e/bsYUws+3JKlOwxJsbC7PJ5n+lK2qVkSR2JZVu6MTVxdXd+z1FFdCYL6XisLWu0R8Gf29hddT7eXm87V/KPDms+GDW3JcN9q/u7K+1EZK7U45bj1LnuCuNbS1x5Pi7pElemd+OemnHeIty22fbnbNsDALfi4mfNx07WeRX5Yyf0uMo8xy0V7rG0S4zxoaPMLp/Pma6kXcpYiq+94juv5t77mFuSj7X1avT4o0B8X6yL3t0+FulHXlW/9qr03JYM963u7660E5G5Uo9bjlPnuiuMby0/+O7nPvEz/dVPv9SOe2rGx4jAOXl+AcA+Fz9rPnayjuVa4vb4UNElsQZ63tfSFeexvnqMif+FmeXzOdOVtEvJq70ja9cLr+uqr1m6ZG9y+7asxz4W/ad+pnGJmiOL9Jyrx65Kz23JcN/q/u5KOxGZK/W45Th1rrvC+JyJUjuWXfnh9z7/4vtvffbhavHIH77+67+yLfG1vD3K8fie+N74ENHuviO/+PEXP3Ef8T3duHNkfJwInJPnFwDsc/Gz5tLJOj5MNG9/rEgPOTYSxXonl4rxoaPMbnw+R7qS9lTq+uhrl07JD/7MdGPOkSy7o0zvbu8yLgWztFTNWLYfWaTnHD+2bE5uS4b7Vvd3V9qJyFypxy3HqXPdFcZPSRTnUWZHGV4f6ymJpVu+8+3PPKx9Pl5xPhbyX//dT539A0bHjNsTAQDg+qYq0vNDRiPx34+J9dFzfJTwp+R66ktj4NryuZzpStpT2bM+epTt4+NtXXJlS3LZmfjf7vYu488UV4N3YyLjVfVHFumRLPaXPsg1tyWzZMtY5lT3YVfaichcqcctx6lz3RXGWxPFdlxtPq5TfnSiNP9f/8dPlvVxdXq3fefK+FgRAACu7+KvypZeDL799n8qxNYU6XHVeo5fWic911OP9ddhVvlcznQl7ansWR89xuX3REF8iWVdohzvbu+Sa6NHlorrWDs9xx1dpOc8Ly3vktuSWbJlLHOq+7Ar7URkrtTjluPUue4K47WJZVfWXHkeV43H1eRxpfo7f/6bD4X3UuKq8xgb3xOFeXefNf/zf/+ft9t4ztTHBADg+i7+qmzpxeBYjG8t0h8bH2uvR04tAQPXls/lTFfSnkoW1ZE166OP64rH9y4V1U/NuOzM2qI7xuX3bFlKZe2SNnuTy8ic+uDTyLg9kSVbxjKnug+70k5E5ko9bjlOneuuMH4sUXYvFdxxW6xxHkX7OZZaifuI+4r7XHrcKPVj27r7OEfq43Hb7E8AuA8XP4svvXg4skjPq92XrlyHa8rncqYrabuMRXVk6cryKJrHpVDiCusjr0SPxIeL5uN1t3cZt3HpCvv6s3djzpks+OOPD93tkXF7Iku2jGVOdR92pZ2IzJV63HKcOtddYXwqf/XTL528Aj2WdYmiO8Z033vOxBXr3TZkYpmZI9ZKr4/DbbM/AeA+XPwsvvTi4cgi/YMPPi7cYl11mFE+lzNdSdulro8eZe+YuPo8rqQel0CJcjpu6+7v3Bk/DLS7vcu4rEv8d2x7l/HDUuPf3X2dM2Nx390eydszS7aMZU51H3alnYjMlXrccpw6111h3CWWWqnfG4liPZZr6b7niERBPl6V/vv/7afaq9Sj2I+r2Lv72Jv6GNy22fbnbNsDALfi4mfNpZP1kUV6yA8n/fDDD19+BeaRz+VMV9J2Gdc670rnsWyOxBXi3f0clby6fG3RXT8Etf48Y8YlbZbWLT9n8vFO/SEib88s2TKWOdV92JV2IjJX6nHLcepcd4XxmCiuY43z+n1HL6NyKnHV+7gdeQX8qeVmznl1er1vbtts+3O27QGAW3Hxs+bSyfroIj2WdYmxscwLzCafy5mupO0yXr19qiSPcnr8QNJLlc6RKLzjMeN/u9trxqVgHvueHBfpiu34WvyhIf+YEMV73Gdcxb93SZulxxtvz3Df6v7uSjsRmSv1uOU4da67wjgTJXVc2T2Oj7L63Fd6r01sz7gtcZV8HRNXx9dtjj8EnKNMH+8zwm2bbX/Otj0AcCsuftZcOlkfXaTHB43G2PjQ0cdE6R73KXKp5HM505W0NfXq7cfK4bF0P/qDOTNbi/RxKZi4mr0bE4kiO8d1a5ZHgR4/7/jhqzE/eQV/3LbnQ1bzMdcW6d2+vnSeP3/+8PtSzp+6v7vSTkTmSj1uu2NbzpM6111hHOkK6bga/Ii1x9dmvDI+Cv1T2xJf/863P/OJbY+f5anrt4/3F+G2zbY/Z9seALgVr1SRHl5//eMi8THdi3+RS6YraWuiJM7xcdV1N2bM+CGel7oqfWuRPi5VM5bgNePPUgv3XMs87mv8eiaXhImr9Lvbl5KPubZIl1crXWknInOlO3blMukK4yjRxzFHrDe+NfUDRtcsK1O/56ll+nhfkVdJfLZVp85JptONi3S6cZFONy5TPXb7Nc28bQAws4ufNZdO1rHkSt5+RJH+3nsfLxnx7Nmzl185TZEu105X0taMpfPS1duZLLUjsxbp4zaeKqsjS1fXjx8K2pXx42PU2x5Lfp8iXbp0pZ2IzJXu2JXLpJbFXYn+1Cu5n5q//tknl5iJq827cV3qlfVP+XnyPk6l042LdLpxkU43LlN1YzLV++//p/934Zh4H9bpxkY63bhIpxsX6XTjMtVjt1/TzNsGADO7+Flz6WQdZXjefuoF1CivLo/EC7HHxPIGMTYK9cdY2kUunXwuZ7qStmbN+uhjrvHhnE8p0rvbI+OyLqfuN36+7or0WN4lv3fNVfw1+b23tLSLHJe6v7vSTkTmSj1u4zWkHJM612NRHFd5j7fNUKJHxmVaYpuiWO/GnUr8DLVM33ofkfz+U+l04yKdblyk043LVN2YTBVXnnfjFOkAwKwufkZfeiExvuBeU6Tn2MiHH3748qu9LeujwzWMz+dIV9KO2bo++niVdmRNkR6PEYXxnrXEM/E48XhrS+s1Rfp4Jf7SVetdxuVw9vwx4bHHzdszS7aMZU51H3alnYjMlXrccpw611kS16u+ZynRY0mZcXtjuZZu3GOp97PnA0jH7+/S6cZFOt24SKcbl6m6MZlON06RDgDM6uJn9MdeSOTtcbX5kijO144N77zzzsPYWD4GZpTP50xX0o7Zuj76OD7y2BXssVRMXPEe9x3ju6u7o2iPMafWIo9kkR7pbq8ZS/Lu9vEPCEuP2yX+2JA/z9or5MeMf4w49YeLvD2zZMtY5lT3YVfaichcqcctx6lznSXx+EGekRlK9Ci640NFc5tiG7txa1OXrYkPT+3Gncr4vV063bhIpxsX6XTjMlU3JtN57GIoAICZ9K9oDrT0Qirk8iuRuIr8lFzvPBL/9/rHvPHGx+WZF2vMKp/Pma6kHTMWzmvWRx8/nDPSXVGdV57/3nffeSjIoyyOcfk9dXyMi6/HkjH1tkwU9qe+v8tjxXv+3PGYj12FH4mfKbYh7jeXwtlzJXok52Lp581tzyzZMpY51X3YlXYiMlfqcctx6lxHQfzD733+E1/be9X3uRNF97hd5yj3v//WZz9xn2s+tDQzfl8EAIDru/irssdeDI5Xmsc65adk4R5LtSwV7iHX34syHWaVz/tMV9KO2bo++rhkSqQW6VEuR0kd5XQUxXmfWYTH443jI1/95rOH25auDB+vID+1HMqYpeJ+vG3NzxyJ74mfLZLbG3OxZltq4j7y+7vbI7l9mSVbxjKnug+70k5E5ko9bjlOneunfJDnkYnSfNzOrVePn0q9yj3+uxvXZdyeCAAA13fxV2VrXgzmB7jFki1dST6upb5Utqcs3deMhWvJ53SmK2kzY6EcWXNl9ngFe2QskqPsjvI8vhZXcI9LxeT3dVe9x/fEbbFsTL1tTJb+cQV7d3tNjh/XZo+fMb/+2OMtZVziZuv9ZBG/dEV73ndmyZaxzKnuw660E5G5Uo9bjlPnerxCe++HcB6RcamZKLu3rme+lPqhqrHkSzeuZvyeCJyT5xcA7HPxs+bak3WW33EVeRTnIUr1WOs8rkKP29YW4zF+zZXrcE15bGRqQRtFdlwJnWt8j4mCOW6L0jtK8fq9kXF970he0R3j4z67ojzK6xw/ltqRscw/9ZiZLOOXrlwfk1fBR3Ed/85yP772lBI9M16dX3+upWSRv3Q1e95vZsmWscyp7sOutBORuVKPW45T53pMLPHSFciXTiwtM25XfFBoN+4piSvv8/7XXpU+blMEzsnzCwD2ufhZc8vJOgr0Z88+vgI0E4V4lOyxXMsaUbbH98X3wMzG53mkFrRxNXcuUXIqj13xHQVwlsFxNXkWyqfWWF9aAz0eL24br14/laXlYU4lHjuveI/Etm4pvZeSP1dkbbmff4jo5mJM3m+G+1b3d1faichcqcctx6lznYmr0c951ffeXGqpmXic8edfc1X6OD4C5+T5BQD7XPyseemT9VtvfVwU5lXtMKs8NjJdSXuuxBXkUapHlq4mz6K9K5sfK+FrshQ/Vxm+lLhqPR7v1GONV9PHz9GNqYmfc83Pm/eb4b7V/d2VdiIyV+pxy3HqXGdmuRp9vFL86KVmxmVt3vzWp9sxY3JsBs7J8wsA9rn4WfOSJ+v84NJYax1ml8dGpitpL53clu5K97xt7Yd+5hXsa68Af0py205dAb/nivS8kv+xZWzyfjPct7q/u9JOROZKPW45Tp3rzAxXo8cSLuM2xRIv3bhzpT7eY6X9ODYC5+T5BQD7XPysecmTdX5oaayrDrPLYyPTlbSXTn64Zi3LxyJ6/PpSYr31vCp9zYejPiXxOJEo77vb82r6yNJ655n8gNI1pXveb4b7Vvd3V9qJyFypxy3HqXMdOWr5lC2JIj/WKs9tig8b7cadO+NjPlbc57gMnJPnFwDsc/Gz5iVP1nElejxWXJkOs8tjI9OVtJdO/dDPSJbK9etrkgX82uVg9iaXdonHq6X93qvR4/7W/AEg7zvDfav7uyvtRGSu1OOW49S5jqxZH/zo/OC7n/vENv3VT49b0mXMuLzLY39QGLcvAufk+QUA+1z8rHmpk/V7731cAMaHlcItyGMj05W010iUzVEkx4eKRnEeJXj8d2xjlNLd9ywlv/fotdLjjwC5HEs8ZlyFnv9eulq9JpekiXK+u70mxo5ZsmUsc6r7sCvtRGSu1OOW49S5jhy5DvmaRGk+bk+U6t24IzIu7xJrsndjMuM2RgAAuL6Lvyq71IvB58+fPzxOFOpwC/LYyHQl7QyJNcJzG/eU4fH9UWRHuX30Ei+RWLolyvBMFOxrHzd+vvg5t6zrnnOTWbJlLHOq+7Ar7URkrtTjluPUuX6sPL5EYhmX3J5YauWS67XHHxHG+Vh67HFcBACA67v4q7JLvBj86KOPHh7Dh4xyS/LYyHQl7aUSRXNcwd2V3VEqx/bF7ePXtyQK6ijTn3IfRyd+7iz8u9tPpe7HJVvGMqe6D7vSTkTmSj1uOU6d6ze/9em2NL5UYl3ycXviCvFu3JGJPybk4//ix19sx0TG7YwAAHB9F39VFleKR470wQcfX0UaHzYKt6K+YepK2kslruLO7Rg/jDPXTI+C+alLs2SZfvR66XsSJXouB7P26vVMzltmyZaxzKnuw660E5G5Uo9bjlPn+pLLqNTE1eBjiX2tDz2NPybkNiytF59jMgAAXN/FX5XF1eKRo0WZDrekvmHqStpLJZc0Ga/GjkI9iu9zlOiZWOZlzzrrR+cp21X345ItY5lT3YddaScic6UetxynzvUPv/f5tjS+RGIZlSjPYzuiUL/WWu1jkb40HzkmA+fk+QUA+zhrwiTqC9qupL1k4sM1ozTPDxqN/401xrdeof2qpe7HJVvGMqe6D7vSTkTmSj1uOU6d664wvnRiOZelK8FnSZ07OCfPLwDYx1kTJlFf0HYlrcyfuh+XbBnLnOo+7Eo7EZkr9bjlOHWuu8JY+tS5g3Py/AKAfZw1YRL1BW1X0sr8qfuR+1b3d1faichcqcctx6lz3RXG0qfOHZyT5xcA7OOsCZOoL2i7klbmT92P3Le6v7vSTkTmSj1uOU6d664wlj517uCcPL8AYB9nTZhEfUHblbQyf+p+5L7V/d2VdiIyV+pxy3HqXHeFsfSpcwfn5PkFAPs4a8Ik6gvarqSV+VP3I/et7u+utBORuVKPW45T57orjKVPnTs4J88vANjHWRMmUV/QdiWtzJ+6H5dsGcuc6j7sSjsRmSv1uOU4da67wlj61LkDAOD6vCqDSdQ3TF1JK/On7sclW8Yyp7oPu9JOROZKPW45Tp3rrjCWPnXuAAC4Pq/KYBL1DVNX0sr8qftxyZaxzKnuw660E5G5Uo9bjlPnuiuMpU+dOwAArs+rMphEfcPUlbQyf+p+XLJlLHOq+7Ar7URkrtTjluPUue4KY+lT5w4AgOvzqgwmUd8wdSWtzJ+6H5dsGcuc6j7sSjsRmSv1uOU4da67wlj61LkDAOD6vCqDSdQ3TF1JK/On7sclW8Yyp7oPu9JOROZKPW45Tp3rrjCWPnXu4Jw8vwBgH2dNmER9QduVtDJ/6n5csmUsc6r7sCvtRGSu1OOW49S57gpj6VPnDs7J8wsA9nHWhEnUF7RdSSvzp+5H7lvd311pJyJzpR63HKfOdVcYS586d3BOnl8AsI+zJkyivqDtSlqZP3U/ct/q/u5KOxGZK/W45Th1rmV/4Jw8vwBgH2dNmER9QduVtDJ/6n7kvtX93ZV2IjJX6nHLcepcy/7AOXl+AcA+zpowifqCtitpZf7U/ch9q/u7K+1EZK7U45bj1LmW/YFz8vwCgH2cNWES9QVtV9LK/Kn7ccmWscyp7sOutBORuVKPW45X51y2BQCAOXhlBpOob5q6klbmT92PS7aMZU51H3alnYjMlXrcAgAArOHdA0yivrHvSlqZP3U/LtkyljnVfdiVdiIyV+pxCwAAsIZ3DzCJ+sa+K2ll/tT9uGTLWOZU92FX2onIXKnHLQAAwBrePcAk6hv7rqSV+VP345ItY5lT3YddaScic6UetwAAAGt49wCTqG/su5JW5k/dj0u2jGVOdR92pZ2IzJV63AK8avweBIB9nDVhEvUFbVfSyvyp+3HJlrHMqe7DrrQTkblSj1uAV43fgwCwj7MmTKK+oJX7CPet7u+utBORuVKPW4BXjd+DALCPsyZMor6glfsI963u7660E5G5Uo9bgFeN34MAsI+zJkyivqCV2w/3r+7zrrQTkblSj1uAV43fgwCwj7MmTKS+qJXbDvev7vOutBORuVKPW4BXjd+DALCPsyYA7FTfiHalnYjMlXrcAgAArOHdA8CVKHNuX92HXWknInOlHrcAAABrePcAcCXKnNtX92FX2onIXKnHLQAAwBrePQBciTLn9tV92JV2IjJX6nELAACwhncPAFeizLl9dR92pZ2IzJV63AIAAKzh3QPAlShzbl/dh11pJyJzpR63AK8avwcBYB9nTYAr8Sbm9tV92JV2IjJX6nEL8KrxexAA9nHWBICd6hvRrrQTkblSj1uAV43fgwCwj7MmAOxU34h2pZ2IzJV63AK8avweBIB9nDUBYKf6RrQr7URkrtTjFuBV4/cgAOzjrAkAO9U3ol1pJyJzpR63AK8avwcBYB9nTQDYqb4R7Uo7EZkr9bgFAABYw7sHgCtR5ty+ug+70k5E5ko9bgEAANbw7gHgSpQ5t6/uw660E5G5Uo9bAACANbx7ALgSZc7tq/uwK+1EZK7U4xYAAGAN7x4ArkSZc/vqPuxKOxGZK/W4BQAAWMO7B+BJaiEhtx22qfPXlXYiMlfqcQvwqvF7EAD2cdYEdqsvwuU+wnp17rrSTkTmSj1uAV41fg8CwD7OmsBu9UW43EdYr85dV9qJyFypxy3Aq8bvQQDYx1kT2K2+CJf7COvVuetKOxGZK/W4BXjV+D0IAPs4awK71Rfhf/TvX8gNpu5H1qtz15V2IjJX6nEL8KrxexAA9nHWBHarL8K7klbmT92PrFfnrivtRGSu1OMW4FXj9yAA7OOsCexWX4R3Ja3Mn7ofWa/OXVfaichcqcctAADAGt49ALvVMqIraWX+1P3IenXuutJOROZKPW4BAADW8O4B2K2WEV1JK/On7kfWq3PXlXYiMlfqcQsAALCGdw/AbrWM6EpamT91P7JenbuutBORuVKPWwAAgDW8ewB2q2VEV9LK/Kn7kfXq3HWlnYjMlXrcAgAArOHdA7BbLSO6klbmT92PrFfnrivtRGSu1OMW4FXj9yAA7OOsCexWX4R3Ja3Mn7ofWa/OXVfaichcqcctwKvG70EA2MdZE9itvgjvSlqZP3U/sl6du660E5G5Uo9bjlXnW7YHzs1zDAD2cdYEdqsvwruSVuZP3Y+sV+euK+1EZK7U45bj1LmW/YFz8vwCgH2cNYHd6ovwrqSV+VP3I+vVuetKOxGZK/W45Th1rmV/4Jw8vwBgH2dNYLf6IrwraWX+1P3IenXuutJOROZKPW45Tp1r2R84J88vANjHWRPYrb4I70pamT91P7JenbuutBORuVKPW45T5/o//oe/JStT5w7OyfMLAPZx1gR2qy/Cu5JW5k/dj6xX564r7URkrtTjluPUue4KY+lT5w4AgOvzqgzYrb7J60pamT91P7JenbuutBORuVKPW45T57orjKVPnTsAAK7PqzJgt/omrytpZf7U/ch6de660k5E5ko9bjlOneuuMJY+de4AALg+r8qA3eqbvK6klflT9yPr1bnrSjsRmSv1uOU4da67wlj61LkDAOD6vCoDdqtv8rqSVuZP3Y+sV+euK+1EZK7U45bj1LnuCmPpU+cOzsnzCwD2cdYEdqsvwruSVuZP3Y+sV+euK+1EZK7U45bj1LnuCmPpU+cOzsnzCwD2cdYEdqsvwruSVuZP3Y+sV+euK+1EZK7U45bj1LnuCmPpU+cOzsnzCwD2cdYEdqsvwruSVuZP3Y+sV+euK+1EZK7U45bj1LnuCmPpU+cOzsnzCwD2cdYEdqsvwruSVuZP3Y+sV+euK+1EZK7U45bj1LnuCmPpU+cOzsnzCwD2cdYEdqsvwruSVuZP3Y+sV+euK+1EZK7U45bj1LnuCmPpU+cOzsnzCwD2cdYEdqsvwruSVuZP3Y+sV+euK+1EZK7U45bj1LnuCmPpU+cOzsnzCwD2cdYEdqsvwruSVuZP3Y+sV+euK+1EZK7U45bj1LnuCmPpU+cOAIDr86oM2K2+yetKWpk/dT+yXp27rrQTkblSj1uOU+e6K4ylT507AACuz6syYLf6Jq8raWX+1P3IenXuutJOROZKPW45Tp3rrjCWPnXuAAC4vqu8Kvvwww9f/texLvU48Kqqb/K6klbmT92PrFfnrivtRGSu1OOW49S57grje8zPf/SFF99/67Mv/ubnX25vX5M6dwAAXN/FX5VFuf3aa6+9eP/9919+5Rhvv/32w+Mo0+E49U1eV9LeW77+p++++Nt/7/UXf/AXH7a3XzN/5x++8eKr33z24lv/7qP29lOp+5H16tx1pZ2IzJV63HKcOtddYXxvifL8q3/31x5+3vjfKNW7cY+lzh0AANd38VdlUaDHi8Gf/OQnL79yjHfffffhcaJQB44xvsGLdCXtPSVK9C//1msvfv/fftDevpT4nq/9i5885B//6/faMU9NPEZsXxTqW8r0uh9Zr85dV9qJyFypxy3HqXPdFcb3lh9893Of+Jn/+mdfasc9lvE+InBOnl8AsM9NFOkfffTRw/dl4t+PiTFxRfrrr7/+8ivAudUX4V1J2+X3vvvOr3zvUqIc/so/eevF77z59mEl9GOJx41tiTK9u/1UotCOq8Tje/NniP+Or3Xjn5oo0+P+//4/fd7e3iXGj2G9OnddaScic6UetxynznVXGN9TfvHjL37i5/3h9z7fjluT8X4icE6eXwCwz9RF+gcffPDirbfeehgfhXj8d/xv/Pv58+ePLtsSY2Lse++99/IrwDnF8TWmK2m7RCkdhXJcOV3vIwrmvHI7EwV0lOk5JpZW+ca/eb+97yMSy7jE428tv6PUjm2NbR4L+PxDQvxs4/hzJe437j8ep7u9Juc1w3p17rrSTkTmSj1uOU6d664wvqf84eu//suf9eu/+6l2zNqM8xaBc/L8AoB9pi3SY2mWuKI88s4777z86sfi33EfcVuU7afkYz179uzlV4Bzyhffma6kfSx5tXbksauo65Xsl7o6PYv8LculxNj8Q0Et4OO2+Hrc5/j1cyYfe81a7jmfGdarc9eVdiIyV+pxy3HqXHeF8b0krj4ff9a4Or0btzbjfUXgnDy/AGCfKYv0KMejJI9xUah3cg30GLd0ZXpewb5mORhgmzi2xnQl7WMZrzRfs/Z4Xm0d2Vpu70lcSR6PtfXq8Sjfl7Yxf4aj/hgQV+zH/cd2dLePyW3JsF6du660E5G5Uo9bjlPnuiuM7yGxDnp+wGjk+299th23JeO8ReCcPL8AYJ8pi/RczuWNN954+ZVe3B7jYgmXU/Lq9XpVO/B0cWyN6UrapeR63pG1V2dnQZzZumb5lkQBnkX/lsJ+vHL+1PIqeftRy7tE8qr0x5bByW3JsF6du660E5G5Uo9bjlPnuiuMj05cGf6Xf/YbDx8C+ua3Pv2J5VeWEkuzxPgoxeNq87ifv/n5l9vHiHH5fVGonxq3JeO2ROCcPL8AYJ/pivS4Gj1P6I8t/5IleeTUVenx9bjdh47C+eXxl+lK2qWMhfOaK6cjtUg/sojOq9G3fHDnWL7H+ujdmEhu/1EfOhrJ7X9sbnNbMqxX564r7URkrtTjluPUue4K43MnCu8ozdcW5lsT9xv3n0u3/PxHX/jE7e/8+W/+yjbtyXifEQAArm+6Ij2+ni8YY+ySvK/I0hXnsUZ6jFlaTx3YLo+/TFfSLmVcH31tIZ7l8Nbv25O8onvL8iuxPbltS1fL55i1f0DYkyj183GW1krPMRnWq3PXlXYiMlfqcctx6lx3hfE5EkurRLk9Lq9yifzX/9Wvvfgv/4v/7Jf/jivTu+3bk/FxIgAAXN90RXou6xLZUqTH952S66kvLQEDbJfHX6YraZeSV25HHlt+JDOW75E166rvSRTPcf9rl5yJjFejL33fuKTNkUV6JO4/HufUEjOR3JYM69W560o7EZkr9bjlOHWuu8L4KYmrwr/z7c/8yuPURMEdRXtcLR7fE8V7d3+ZuD3GxfhY1mVcumUp/9//84X2/vak3jcAANc3XZGeHzIa2VKkx/ctidsjPnQUziePv0xX0p7KWCav/d4stzNHLouSy85sKbrHq+WXloOJK9xz3NFFel4hH1fXd7dHclsyrFfnrivtRGSu1OOW49S57grjPfmrn35psdyO9c3H5VfOlXjcKNaXlo2J7Ypx3fdvSb1fAACub7oifXzBuKVIjyx5++23H8bE1enAeYzHX6QraU9l6/rocbV3LrUSif/e8gGgW5NXvm9ZOmbcvqVlXX7nzY9/H229/z0Z15Tvbo/k7RnWq3PXlXYiMlfqcctx6lx3hfGWxId4RkFe7zcSy7rEbecosdfkv/tHn2q3IxPb8pQPHa33BwDA9b0yRXp+iOnSEjDANuPxF+lK2lMZl2iJYrkbk4kr0ceSOq72PrJEj8QHhcZjrV0fvV4tv7Qm+fizLC25co6M23Vq+Zy8PcN6de660k5E5ko9bjlOneuuMF6buLq8WwM9rj6PJVieUlpvTVyVPm7D//0n/VXqsb17r4qv9wXn5PkFAPtc/Kx5rSI9vPHGx+XVhx9++PIrwFOMx1+kK2lPZVwf/VRZHcVvlOw5Nq5cX7uW+lOT27b28cYr7KOEj+87lRy35f6fknysU6X9uD0R1qtz15V2IjJX6nHLcepcd4XxmnRXoWeB3o0/MrF++ljoxxrtedvPf/SFh+0atzMS2z/ex5rU+4Bz8vwCgH0uftbcUqTHVeRLthbp77zzcdEVy7wATzcef5GupO1Sr95+LHEF+lEfKtplLLu727vUD0Fdm+6+zp28uv7UMjJ1m1ivzl1X2onIXKnHLcepc90VxkuJq8y7DxONK8K78ZfIuDZ7FOrdlfB/+We/8StXz8fPseWq+fF7I3BOnl8AsM/Fz5rXvCI9Pmg0xr3++usvvwI8xXj8RbqStsv4oZyxzEm9PYrsGLN2zfFzZ0+RnmV1ZOkq8/zwz8iWDxqNPybsXQYmHice79SHs+b2ZFivzl1X2onIXKnHLcepc90VxqcSpXNdLiX+fak10LvEFefj9kRh3o2LxJXr3favLdPH74vAOXl+AcA+Fz9rXrNID8+fP38Y+9577738CrDXePxFupK2S5TC+T2PrY+eJXBk7XrlT82eIj3HP/Y948+zthjP8n1L8T4mH/PU9+f2ZFivzl1X2onIXKnH7Sxi6cF4bXtPqXPdFcZduhL9+299th17qcQ2jVeZx5Xp3bia2O7x51hbpo/fE4Fz8vwCgH0uftbMF9XXKtKjQI+xUagviQ8lHe9bRB5PV9J2Ga/efqwcj9tz7N4ieWu2Funj+O4K+0x8QGqOiyx9IGkmlrTJ8Zcq0mV/utJOROZKd+zKZdIVxjVdiX6NtdBr6jrtW66Mj+0fv3dNmT6Oj8A5eX4BwD6vXJG+dp10RbrI9nQlbU1dHz3K5W5cZiypI92Yc+cpRfqp5VMi45I2a0rxmJv4o0P+4UGRPn+60k5E5kp37Mpl0hXGNTOW6L/48Rc/sU171mjvyvRuXGYceypVNyZTdWMynW5cpNONi3S6cZFONy5TdWMyVTcm0+nGRTrduEinGxfpdOMyVTcmAwBsc/Gz57WL9FgfPcbG/312iSJdZHu6krbmsfXRa2L5ky3jz5GnFOmnPtAzMn4gaXxPN2ZMLIET33PppV1kf7rSTkTmSnfsymXSFcZj6jIo1/xQ0TFjuf/13/3UqqVZusTPM/58S8vVjONOperGZKpuTKbTjYt0unGRTjcu0unGZapuTKbqxmQ63bhIpxsX6XTjIp1uXKbqxmQAgG0ufvZ8rEgfC+wtRfobb7zx8qunffDBx0skxGM8JsbG/d9j4Fzy+Mt0JW3NlvXRI2P5vLdI3pojivTxSvw1fxCIPzh8+bdee7gq/VxFesx9d3tuV4b16tx1pZ2IzJV63HKcOtddYZypH+R57TXRM7X8jqvTu3FrU/9YED93N24ccypVNyZTdWMynW5cpNONi3S6cZFONy5TdWMyVTcm0+nGRTrduEinGxfpdOMyVTcmAwBsc/GzZxS5cdI+VaTHkit5Yo9lWJbEfeTYx9Y8D/lBo+++++7LrwBPkcdfpitpa7asjx4Zxz9WJEfpHGVxFNDxfadK7Si+Y9ypZWXG0nvNOuZjkX7qSvPxDwinxmTiMeNnyHFPLdLjvuL7T81HbleG9ercdaWdiMyVetxynDrXXWEcqR/kuWYN8Uvkr3/2pU9s13e+/Zl23JbUNeDj/rufNW9fStWNyVTdmEynGxfpdOMinW5cpNONy1TdmEzVjcl0unGRTjcu0unGRTrduEzVjckAANtc/Oz5WJGeHwa6NCaNpftj5fhHH3304rXXXntI/DfwdHn8ZbqSdszW9dHj9nH80vrjkbjSOwrreJws4OPK7joub1sqtPMxHyu9I+MHgnbjx5/7sZ8hEj/HWHo/tUjPx+7mYrw9w3p17rrSTkTmSj1uOU6d61oWZ57yQZ5H5s1vffqX23Sq8N6T+PnGnzd+/jpmvD0CAMD1TVekh1zH/LHlWuL2GBfl+GOiaI+xa65cB9aJY2pMV9KO2bo+epTS4/13V1TH1dbxv3HfUZBnOR/3H98Ta6yP48fSe/x6zanvP5W86rsrq/Nq9Bjz2B8PYrmbWpg/pUgff974725M3p5hvTp3XWknInOlHrccp851LYsjcdX3OGaWddHrUjN/+We/0Y7bm7pkTMzDePt4WwQAgOubskgfr0qPtco7eT+RNUu15Nrrp+4P2C6PwUxX0o4Z1ztfsz76Y0V6lNxRnsd/x/9m6T1eAR7/PX5PPG58/bFSOsvvNdsZyZ+tbuP4M5wqsjMxtivbn1Kkx/I5+fjd7ZG8PcN6de660k5E5ko9bjlOneuxKM6Ma4af86rvpyS2YVzSJa5M78Y9JfUx6prw+fUMAADXN2WRHuLK8RgXV53XpVji33k1+porzD/88ONSLa50B84njqsxtaCNEjtK4MhYokdy+ZJILbszUSjnld6RsdSOUjpuy6VU8n8jWZZ3y6jk/T12pXlePb/myvlIFubj+NzGyKllVTL5s44/R+YpRfrSXGTi9jGsV+euK+1EZK7U45bj1Lkei+JILZPPfdX33lxqqZmlq9LHr0cAALi+aYv0EGNyXfNYDz2+N/43/r32PkKupf7Yh5cC2+Sbu0wtaKP4rWO6LF31HQV0lt9ZSMf4pXI6x9fbxyvVH7s6PIrtHHuq6K+Jcj7GR2mdV7RHsf7YY0Xie07Nw1OK9FyiZqnIj9vHsF6du660E5G5Uo9bjlPneiyRI1Gc522zXI3+ix9/8RPbfORSM/UPCeNjjdsQAQDg+qYu0kNcfR4F+LNnzx6WZ4n/jX/HVeZr5ZrrPmQUzmt8gxfpStpzJErtKKmjbI4yOUrq7srtyLiUSV0iJW+Lon38+qnE48X4pRK6JrYrr7SPx+vGdMltXpu4/+5+xuQfDuLnrXMxpt4369W560o7EZkr9bjlOHWuxxI58oev//ovb6tLm1wr4zZ9/Xc/dXi5Py5tE4+XX8+vZQAAuL7pi/SnyvXWo4AHzmt8gxfpStpLJ6/e7pZkyduWljkZk8X72uVdnpIo4E8lryqP/82vrblKPq+Qf6x0jzFjWK/OXVfaichcqcctx6lzPRbI9UNGj1o+ZUvqUitxdXo37pypV8Dn8i7j1yIAAFzf3RfpUaDH40WhDpzX+AYv0pW0l06Wx90yKFlIP7Y++pj4ENP4niivu9svkVwiZ+vSLrntS1ejR2LMGNarc9eVdiIyV+pxy3HqXI8F8s9/9IVffj2WNxlvu0aiwB6XWfnOtz/Tjjsi4+PGvMTX8t8ZAACu766L9FjKJR7Lh4zCMcY3eJGupL10cm3zehV5rlkeWbNmeSYK9PiePeuTnyvjFend7V1iOZr4njVLwOS8ZFivzl1X2onIXKnHLcepcz2Wx+PV35csrU/lzW99+pfbc+n12uPnz8fOddLz3xkAAK7vrov0WEs9His+bBQ4v/ENXqQraa+RXNs8PrwzCuUowfPq7LXro4/J+9uy5vlTk9udJXom/h1fX/pjQPwxIX7Ox9ZGz4z3H2G9OnddaScic6UetxynzvVYHo/F9ZEf6Lkm49XxkfgQ1G7cURn/qBDzEl8btycCAMD13XWRnh8yuuWDSYH1xjd4ka6kvVaiaI4yOpZxiTI5r0hfuz76mPj+KOLXFtPnSKyBnuuhd1najvxZY1x3e824DyOsV+euK+1EZK7U45bj1Lkey+OxSL/EWuSnEleej0urZJF9yYzrpOcHjua/MwAAXN/dFukffPDBw+O89dZbL78CnNv4Bi/SlbSXTJTnsZRJLZnj31GCxzbuvao87jvuI64Iv1SZvidblnTJjPswwnp17rrSTkTmSj1uOU6d67E8Hr9+zSL9B9/93Ce25Rofelo/cDS+Nv47AgDA9V38VVkW3LHsypGeP//4isx333335VeAcxvf4EW6kvaSyeVb6lXneYX2U9c5zzI97q+7/dqJPxLEz7l1+3L/ZVivzl1X2onIXKnHLcepcz2Wx+PX44M+x9sumXjsvDr+WkvMKNIBAG7DVV6VPXv27OGDQI8UBXqU6Uc/DrzK6pu8rqS9ZLqrzvMK7XNdSR5lehT2sfRKd/s1E38oiKVsutuWMu7DCOvVuetKOxGZK/W45Th1rmuBPFPe+fPfvOgHjD6WOncAAFyfV2XAbvVNXlfSXjJRIsd2RGkeS5vkB3XGh47OvBzLtTPuwwjr1bnrSjsRmSv1uOU4da67wlj61LkDAOD6vCoDdqtv8rqS9tLJddIjcTX6jFeOz5a6H1mvzl1X2onIXKnHLcepc90VxtKnzh0AANfnVRmwW32T15W0Mn/qfmS9OnddaScic6UetxynznVXGEufOncAAFyfV2XAbvVNXlfSyvyp+5H16tx1pZ2IzJV63HKcOtddYSx96twBAHB9XpUBu9U3eV1JK/On7kfWq3PXlXYiMlfqcctx6lx3hbH0qXMHAMD1eVUG7Fbf5HUlrcyfuh9Zr85dV9qJyFypxy3HqXPdFcbSp84dAADX51UZsFt9k9eVtDJ/6n5kvTp3XWknInOlHrccp851VxhLnzp3AABcn1dlwG71TV5X0sr8qfuR9ercdaWdiMyVetxynDrXXWEsfercAQBwfV6VAbvVN3ldSSvzp+5H1qtz15V2IjJX6nHLcepcd4Wx9KlzBwDA9XlVBuxW3+R1Ja3Mn7ofWa/OXVfaichcqcctx6lz3RXG0qfOHQAA1+dVGbBbfZPXlbQyf+p+ZL06d11pJyJzpR63HKfOdVcYS586dwAAXJ9XZcBu9U1eV9LK/Kn7kfXq3HWlnYjMlXrccpw6111hLH3q3AEAcH1elQG71Td5XUkr86fuR9arc9eVdiIyV+pxy3HqXMv+AABwfV6VAbvVN3ldSSvzp+5H1qtz15V2IjJX6nHLcepcy/4AAHB9XpUBu9U3eV1JK/On7kfWq3PXlXYiMlfqcctx6lzL/gAAcH1elQG71Td5XUkr86fuR9arc9eVdiIyV+pxy3HqXMv+AABwfV6VAbvVN3ldSSvzp+5H1qtz15V2IjJX6nELAACwhncPwG61jOhKWpk/dT+yXp27rrQTkblSj1sAAIA1vHsAdqtlRFfSyvyp+5H16tx1pZ2IzJV63AIAAKzh3QOwWy0jupJW5k/dj6xX564r7URkrtTjFgAAYA3vHoDdahnRlbQyf+p+ZL06d11pJyJzpR63AAAAa3j3AOxWy4iupJX5U/cj69W560o7EZkr9bgFAABYw7sHYLdaRnQlrcyfuh9Zr85dV9qJyFypxy0AAMAa3j0Au9UyoitpZf7U/ch6de660k5E5ko9bgEAANbw7gHYrZYRch9hvTp3XWknInOlHrcAAABrePcA7FbLCLmPsF6du660E5G5Uo9bAACANbx7AHarZYTcR1ivzl1X2onIXKnHLQAAwBrePQBPUgsJue2wTZ2/rrQTkblSj1sAAIA1vHsAgJ1qIdeVdiIyV+pxCwAAsIZ3DwCwUy3kutJOROZKPW4BAADW8O4BAHaqhZyI3F4AAADW8O4BAHbqSjkRua0AAACs4d0DAOzUlXIiclsBAABYw7sHAHiCrpgTkdsIAADAWt5BAAAAAADAAkU6AAAAAAAsUKQDAAAAAMACRToAAAAAACxQpAMAAAAAwAJFOgAAAAAALFCkAwAAAADAAkU6AAAAAAAsUKQDAAAAAMACRToAAAAAACxQpAMAAAAAwAJFOgAAAAAALFCkAwAAAADAAkU6AAAAAAAsUKQDAAAAAMACRToAAAAAACxQpAMAAAAAwAJFOgAAAAAALFCkAwAAAADAAkU6AAAAAAAsUKQDAAAAAMACRToAAAAAACxQpAMAAAAAwAJFOgAAAAAALFCkAwAAAADAAkU6AAAAAAAsUKQDAAAAAMACRToAAAAAACxQpAMAAAAAwAJFOgAAAAAALFCkAwAAAADAAkU6AAAAAAAsUKQDAAAAAMACRToAAAAAACxQpAMAAAAAwAJFOgAAAAAALFCkAwAAAADAAkU6AAAAAAAsUKQDAAAAAMACRToAAAAAACxQpAMAAAAAwAJFOgAAAAAALFCkAwAAAADAAkU6AAAAAAAsUKQDAAAAAMACRToAAAAAACxQpAMAAAAAwEkvXvz/fdy1kBgcVQ4AAAAASUVORK5CYII=)"
      ],
      "metadata": {
        "id": "_31kXugcQoFT"
      }
    },
    {
      "cell_type": "code",
      "source": [
        "!pip install pennylane\n",
        "import pennylane as qml\n",
        "from pennylane import numpy as np\n",
        "from pennylane.templates import RandomLayers\n",
        "import tensorflow as tf\n",
        "from tensorflow import keras\n",
        "import matplotlib.pyplot as plt"
      ],
      "metadata": {
        "colab": {
          "base_uri": "https://localhost:8080/"
        },
        "id": "ByriAPm4QPhN",
        "outputId": "945cff35-88db-4bf3-b948-bde9d0861509"
      },
      "execution_count": 1,
      "outputs": [
        {
          "output_type": "stream",
          "name": "stdout",
          "text": [
            "Collecting pennylane\n",
            "  Downloading PennyLane-0.40.0-py3-none-any.whl.metadata (10 kB)\n",
            "Requirement already satisfied: numpy<2.1 in /usr/local/lib/python3.11/dist-packages (from pennylane) (2.0.2)\n",
            "Requirement already satisfied: scipy in /usr/local/lib/python3.11/dist-packages (from pennylane) (1.14.1)\n",
            "Requirement already satisfied: networkx in /usr/local/lib/python3.11/dist-packages (from pennylane) (3.4.2)\n",
            "Collecting rustworkx>=0.14.0 (from pennylane)\n",
            "  Downloading rustworkx-0.16.0-cp39-abi3-manylinux_2_17_x86_64.manylinux2014_x86_64.whl.metadata (10 kB)\n",
            "Requirement already satisfied: autograd in /usr/local/lib/python3.11/dist-packages (from pennylane) (1.7.0)\n",
            "Collecting tomlkit (from pennylane)\n",
            "  Downloading tomlkit-0.13.2-py3-none-any.whl.metadata (2.7 kB)\n",
            "Collecting appdirs (from pennylane)\n",
            "  Downloading appdirs-1.4.4-py2.py3-none-any.whl.metadata (9.0 kB)\n",
            "Collecting autoray>=0.6.11 (from pennylane)\n",
            "  Downloading autoray-0.7.1-py3-none-any.whl.metadata (5.8 kB)\n",
            "Requirement already satisfied: cachetools in /usr/local/lib/python3.11/dist-packages (from pennylane) (5.5.2)\n",
            "Collecting pennylane-lightning>=0.40 (from pennylane)\n",
            "  Downloading PennyLane_Lightning-0.40.0-cp311-cp311-manylinux_2_28_x86_64.whl.metadata (27 kB)\n",
            "Requirement already satisfied: requests in /usr/local/lib/python3.11/dist-packages (from pennylane) (2.32.3)\n",
            "Requirement already satisfied: typing-extensions in /usr/local/lib/python3.11/dist-packages (from pennylane) (4.12.2)\n",
            "Requirement already satisfied: packaging in /usr/local/lib/python3.11/dist-packages (from pennylane) (24.2)\n",
            "Collecting diastatic-malt (from pennylane)\n",
            "  Downloading diastatic_malt-2.15.2-py3-none-any.whl.metadata (2.6 kB)\n",
            "Collecting scipy-openblas32>=0.3.26 (from pennylane-lightning>=0.40->pennylane)\n",
            "  Downloading scipy_openblas32-0.3.29.0.0-py3-none-manylinux_2_17_x86_64.manylinux2014_x86_64.whl.metadata (56 kB)\n",
            "\u001b[2K     \u001b[90m━━━━━━━━━━━━━━━━━━━━━━━━━━━━━━━━━━━━━━━━\u001b[0m \u001b[32m56.1/56.1 kB\u001b[0m \u001b[31m2.1 MB/s\u001b[0m eta \u001b[36m0:00:00\u001b[0m\n",
            "\u001b[?25hRequirement already satisfied: astunparse in /usr/local/lib/python3.11/dist-packages (from diastatic-malt->pennylane) (1.6.3)\n",
            "Requirement already satisfied: gast in /usr/local/lib/python3.11/dist-packages (from diastatic-malt->pennylane) (0.6.0)\n",
            "Requirement already satisfied: termcolor in /usr/local/lib/python3.11/dist-packages (from diastatic-malt->pennylane) (2.5.0)\n",
            "Requirement already satisfied: charset-normalizer<4,>=2 in /usr/local/lib/python3.11/dist-packages (from requests->pennylane) (3.4.1)\n",
            "Requirement already satisfied: idna<4,>=2.5 in /usr/local/lib/python3.11/dist-packages (from requests->pennylane) (3.10)\n",
            "Requirement already satisfied: urllib3<3,>=1.21.1 in /usr/local/lib/python3.11/dist-packages (from requests->pennylane) (2.3.0)\n",
            "Requirement already satisfied: certifi>=2017.4.17 in /usr/local/lib/python3.11/dist-packages (from requests->pennylane) (2025.1.31)\n",
            "Requirement already satisfied: wheel<1.0,>=0.23.0 in /usr/local/lib/python3.11/dist-packages (from astunparse->diastatic-malt->pennylane) (0.45.1)\n",
            "Requirement already satisfied: six<2.0,>=1.6.1 in /usr/local/lib/python3.11/dist-packages (from astunparse->diastatic-malt->pennylane) (1.17.0)\n",
            "Downloading PennyLane-0.40.0-py3-none-any.whl (2.0 MB)\n",
            "\u001b[2K   \u001b[90m━━━━━━━━━━━━━━━━━━━━━━━━━━━━━━━━━━━━━━━━\u001b[0m \u001b[32m2.0/2.0 MB\u001b[0m \u001b[31m13.9 MB/s\u001b[0m eta \u001b[36m0:00:00\u001b[0m\n",
            "\u001b[?25hDownloading autoray-0.7.1-py3-none-any.whl (930 kB)\n",
            "\u001b[2K   \u001b[90m━━━━━━━━━━━━━━━━━━━━━━━━━━━━━━━━━━━━━━━━\u001b[0m \u001b[32m930.8/930.8 kB\u001b[0m \u001b[31m20.7 MB/s\u001b[0m eta \u001b[36m0:00:00\u001b[0m\n",
            "\u001b[?25hDownloading PennyLane_Lightning-0.40.0-cp311-cp311-manylinux_2_28_x86_64.whl (2.4 MB)\n",
            "\u001b[2K   \u001b[90m━━━━━━━━━━━━━━━━━━━━━━━━━━━━━━━━━━━━━━━━\u001b[0m \u001b[32m2.4/2.4 MB\u001b[0m \u001b[31m25.8 MB/s\u001b[0m eta \u001b[36m0:00:00\u001b[0m\n",
            "\u001b[?25hDownloading rustworkx-0.16.0-cp39-abi3-manylinux_2_17_x86_64.manylinux2014_x86_64.whl (2.1 MB)\n",
            "\u001b[2K   \u001b[90m━━━━━━━━━━━━━━━━━━━━━━━━━━━━━━━━━━━━━━━━\u001b[0m \u001b[32m2.1/2.1 MB\u001b[0m \u001b[31m25.3 MB/s\u001b[0m eta \u001b[36m0:00:00\u001b[0m\n",
            "\u001b[?25hDownloading appdirs-1.4.4-py2.py3-none-any.whl (9.6 kB)\n",
            "Downloading diastatic_malt-2.15.2-py3-none-any.whl (167 kB)\n",
            "\u001b[2K   \u001b[90m━━━━━━━━━━━━━━━━━━━━━━━━━━━━━━━━━━━━━━━━\u001b[0m \u001b[32m167.9/167.9 kB\u001b[0m \u001b[31m6.6 MB/s\u001b[0m eta \u001b[36m0:00:00\u001b[0m\n",
            "\u001b[?25hDownloading tomlkit-0.13.2-py3-none-any.whl (37 kB)\n",
            "Downloading scipy_openblas32-0.3.29.0.0-py3-none-manylinux_2_17_x86_64.manylinux2014_x86_64.whl (8.6 MB)\n",
            "\u001b[2K   \u001b[90m━━━━━━━━━━━━━━━━━━━━━━━━━━━━━━━━━━━━━━━━\u001b[0m \u001b[32m8.6/8.6 MB\u001b[0m \u001b[31m27.3 MB/s\u001b[0m eta \u001b[36m0:00:00\u001b[0m\n",
            "\u001b[?25hInstalling collected packages: appdirs, tomlkit, scipy-openblas32, rustworkx, autoray, diastatic-malt, pennylane-lightning, pennylane\n",
            "Successfully installed appdirs-1.4.4 autoray-0.7.1 diastatic-malt-2.15.2 pennylane-0.40.0 pennylane-lightning-0.40.0 rustworkx-0.16.0 scipy-openblas32-0.3.29.0.0 tomlkit-0.13.2\n"
          ]
        }
      ]
    },
    {
      "cell_type": "code",
      "source": [
        "n_epochs = 60   # Number of optimization epochs\n",
        "n_layers = 1    # Number of random layers\n",
        "n_train = 50    # Size of the train dataset\n",
        "n_test = 30     # Size of the test dataset\n",
        "\n",
        "SAVE_PATH = \"../_static/demonstration_assets/quanvolution/\"  # Data saving folder\n",
        "PREPROCESS = True\n",
        "np.random.seed(0)\n",
        "tf.random.set_seed(0)"
      ],
      "metadata": {
        "id": "8c0l2qksSy-D"
      },
      "execution_count": 13,
      "outputs": []
    },
    {
      "cell_type": "code",
      "source": [
        "mnist_dataset = keras.datasets.mnist\n",
        "(train_images, train_labels), (test_images, test_labels) = mnist_dataset.load_data()\n",
        "\n",
        "# Reduce dataset size\n",
        "train_images = train_images[:n_train]\n",
        "train_labels = train_labels[:n_train]\n",
        "test_images = test_images[:n_test]\n",
        "test_labels = test_labels[:n_test]\n",
        "\n",
        "# Normalize pixel values within 0 and 1\n",
        "train_images = train_images / 255\n",
        "test_images = test_images / 255\n",
        "\n",
        "# Add extra dimension for convolution channels\n",
        "train_images = np.array(train_images[..., tf.newaxis], requires_grad=False)\n",
        "test_images = np.array(test_images[..., tf.newaxis], requires_grad=False)"
      ],
      "metadata": {
        "colab": {
          "base_uri": "https://localhost:8080/"
        },
        "id": "n7pn-C-7TNkR",
        "outputId": "bf682c02-d9fa-4889-d774-403e46e3f08c"
      },
      "execution_count": 3,
      "outputs": [
        {
          "output_type": "stream",
          "name": "stdout",
          "text": [
            "Downloading data from https://storage.googleapis.com/tensorflow/tf-keras-datasets/mnist.npz\n",
            "\u001b[1m11490434/11490434\u001b[0m \u001b[32m━━━━━━━━━━━━━━━━━━━━\u001b[0m\u001b[37m\u001b[0m \u001b[1m1s\u001b[0m 0us/step\n"
          ]
        }
      ]
    },
    {
      "cell_type": "code",
      "source": [
        "dev = qml.device(\"default.qubit\", wires=4)\n",
        "\n",
        "rand_params = np.random.uniform(high=2 * np.pi, size=(n_layers, 4))\n",
        "\n",
        "@qml.qnode(dev)\n",
        "def circuit(phi):\n",
        "    # Encoding of 4 classical input values\n",
        "    for j in range(4):\n",
        "        qml.RY(np.pi * phi[j], wires=j)\n",
        "\n",
        "    # Random quantum circuit\n",
        "    RandomLayers(rand_params, wires=list(range(4)))\n",
        "\n",
        "    # Measurement producing 4 classical output values\n",
        "    return [qml.expval(qml.PauliZ(j)) for j in range(4)]"
      ],
      "metadata": {
        "id": "-on8kftwVZTt"
      },
      "execution_count": 4,
      "outputs": []
    },
    {
      "cell_type": "code",
      "source": [
        "np.shape(train_images[0])"
      ],
      "metadata": {
        "colab": {
          "base_uri": "https://localhost:8080/"
        },
        "id": "hSGSAXv8UkXi",
        "outputId": "88797dda-1863-4652-d094-9b24616ccf7c"
      },
      "execution_count": 5,
      "outputs": [
        {
          "output_type": "execute_result",
          "data": {
            "text/plain": [
              "(28, 28, 1)"
            ]
          },
          "metadata": {},
          "execution_count": 5
        }
      ]
    },
    {
      "cell_type": "code",
      "source": [
        "def quanv(image):\n",
        "    \"\"\"Convolves the input image with many applications of the same quantum circuit.\"\"\"\n",
        "    out = np.zeros((14, 14, 4))\n",
        "\n",
        "    for j in range(0, 28, 2):\n",
        "        for k in range(0, 28, 2):\n",
        "            q_results = circuit(\n",
        "                [\n",
        "                    image[j, k, 0],\n",
        "                    image[j, k + 1, 0],\n",
        "                    image[j + 1, k, 0],\n",
        "                    image[j + 1, k + 1, 0]\n",
        "                ]\n",
        "            )\n",
        "            # Assign expectation values to different channels of the output pixel (j/2, k/2)\n",
        "            for c in range(4):\n",
        "                out[j // 2, k // 2, c] = q_results[c]\n",
        "    return out"
      ],
      "metadata": {
        "id": "yuz11Fi2UoZx"
      },
      "execution_count": 6,
      "outputs": []
    },
    {
      "cell_type": "code",
      "source": [
        "PREPROCESS=True"
      ],
      "metadata": {
        "id": "qlz7qvpRcxqs"
      },
      "execution_count": 7,
      "outputs": []
    },
    {
      "source": [
        "if PREPROCESS == True:\n",
        "    q_train_images = []\n",
        "    print(\"Quantum pre-processing of train images:\")\n",
        "    for idx, img in enumerate(train_images):\n",
        "        print(\"{}/{}        \".format(idx + 1, n_train), end=\"\\r\")\n",
        "        q_train_images.append(quanv(img))\n",
        "    q_train_images = np.asarray(q_train_images)\n",
        "\n",
        "    q_test_images = []\n",
        "    print(\"\\nQuantum pre-processing of test images:\")\n",
        "    for idx, img in enumerate(test_images):\n",
        "        print(\"{}/{}        \".format(idx + 1, n_test), end=\"\\r\")\n",
        "        q_test_images.append(quanv(img))\n",
        "    q_test_images = np.asarray(q_test_images)\n",
        "\n",
        "    # Create the directory if it doesn't exist\n",
        "    import os\n",
        "    os.makedirs(SAVE_PATH, exist_ok=True)\n",
        "\n",
        "    # Save pre-processed images\n",
        "    np.save(os.path.join(SAVE_PATH, \"q_train_images.npy\"), q_train_images)\n",
        "    np.save(os.path.join(SAVE_PATH, \"q_test_images.npy\"), q_test_images)\n",
        "\n",
        "\n",
        "# Load pre-processed images\n",
        "q_train_images = np.load(os.path.join(SAVE_PATH, \"q_train_images.npy\"))\n",
        "q_test_images = np.load(os.path.join(SAVE_PATH, \"q_test_images.npy\"))"
      ],
      "cell_type": "code",
      "metadata": {
        "colab": {
          "base_uri": "https://localhost:8080/"
        },
        "id": "RK-D5d3VddIz",
        "outputId": "bfedee86-16e8-45c5-f158-789f64e9ff03"
      },
      "execution_count": 8,
      "outputs": [
        {
          "output_type": "stream",
          "name": "stdout",
          "text": [
            "Quantum pre-processing of train images:\n",
            "\n",
            "Quantum pre-processing of test images:\n"
          ]
        }
      ]
    },
    {
      "cell_type": "code",
      "source": [
        "n_samples = 4\n",
        "n_channels = 4\n",
        "fig, axes = plt.subplots(1 + n_channels, n_samples, figsize=(10, 10))\n",
        "for k in range(n_samples):\n",
        "    axes[0, 0].set_ylabel(\"Input\")\n",
        "    axes[0, k].imshow(train_images[k, :, :, 0], cmap=\"gray\")\n",
        "\n",
        "    # Plot all output channels\n",
        "    for c in range(n_channels):\n",
        "        axes[c + 1, 0].set_ylabel(\"Output [ch. {}]\".format(c))\n",
        "        axes[c + 1, k].imshow(q_train_images[k, :, :, c], cmap=\"gray\")\n",
        "\n",
        "plt.tight_layout()\n",
        "plt.show()"
      ],
      "metadata": {
        "colab": {
          "base_uri": "https://localhost:8080/",
          "height": 1000
        },
        "id": "Bf5cY_U7ed3c",
        "outputId": "72f6d89a-7b5c-4790-d025-fbfc4ed40505"
      },
      "execution_count": 9,
      "outputs": [
        {
          "output_type": "display_data",
          "data": {
            "text/plain": [
              "<Figure size 1000x1000 with 20 Axes>"
            ],
            "image/png": "[encoded data removed]"
          },
          "metadata": {}
        }
      ]
    },
    {
      "cell_type": "code",
      "source": [
        "def model():\n",
        "  model=keras.models.Sequential([\n",
        "      keras.layers.Flatten(),\n",
        "      keras.layers.Dense(20, activation=\"softmax\")\n",
        "  ])\n",
        "\n",
        "  model.compile(\n",
        "      optimizer='adam',\n",
        "      loss=\"sparse_categorical_crossentropy\",\n",
        "      metrics=[\"accuracy\"],\n",
        "  )\n",
        "\n",
        "  return model"
      ],
      "metadata": {
        "id": "6wE1MpaPfXVU"
      },
      "execution_count": 14,
      "outputs": []
    },
    {
      "cell_type": "code",
      "source": [
        "q_model = model()\n",
        "\n",
        "q_history = q_model.fit(\n",
        "    q_train_images,\n",
        "    train_labels,\n",
        "    validation_data=(q_test_images, test_labels),\n",
        "    batch_size=4,\n",
        "    epochs=n_epochs,\n",
        "    verbose=2,\n",
        ")\n"
      ],
      "metadata": {
        "colab": {
          "base_uri": "https://localhost:8080/"
        },
        "id": "u6XTxy5GgvKB",
        "outputId": "5107a1c6-8eff-49fb-bc6d-4bba9ffcbdd2"
      },
      "execution_count": 18,
      "outputs": [
        {
          "output_type": "stream",
          "name": "stdout",
          "text": [
            "Epoch 1/60\n",
            "13/13 - 1s - 72ms/step - accuracy: 0.1000 - loss: 3.1111 - val_accuracy: 0.2000 - val_loss: 2.2767\n",
            "Epoch 2/60\n",
            "13/13 - 0s - 33ms/step - accuracy: 0.3800 - loss: 1.9568 - val_accuracy: 0.2333 - val_loss: 2.1186\n",
            "Epoch 3/60\n",
            "13/13 - 0s - 26ms/step - accuracy: 0.5600 - loss: 1.6548 - val_accuracy: 0.3667 - val_loss: 1.9460\n",
            "Epoch 4/60\n",
            "13/13 - 0s - 15ms/step - accuracy: 0.5800 - loss: 1.3744 - val_accuracy: 0.4667 - val_loss: 1.7935\n",
            "Epoch 5/60\n",
            "13/13 - 0s - 22ms/step - accuracy: 0.7600 - loss: 1.1381 - val_accuracy: 0.5000 - val_loss: 1.6816\n",
            "Epoch 6/60\n",
            "13/13 - 0s - 23ms/step - accuracy: 0.8400 - loss: 0.9560 - val_accuracy: 0.5333 - val_loss: 1.5921\n",
            "Epoch 7/60\n",
            "13/13 - 0s - 21ms/step - accuracy: 0.8800 - loss: 0.8066 - val_accuracy: 0.5667 - val_loss: 1.5161\n",
            "Epoch 8/60\n",
            "13/13 - 0s - 24ms/step - accuracy: 0.9400 - loss: 0.6865 - val_accuracy: 0.5667 - val_loss: 1.4508\n",
            "Epoch 9/60\n",
            "13/13 - 0s - 22ms/step - accuracy: 0.9600 - loss: 0.5884 - val_accuracy: 0.5667 - val_loss: 1.3967\n",
            "Epoch 10/60\n",
            "13/13 - 0s - 18ms/step - accuracy: 0.9800 - loss: 0.5083 - val_accuracy: 0.6000 - val_loss: 1.3507\n",
            "Epoch 11/60\n",
            "13/13 - 0s - 11ms/step - accuracy: 1.0000 - loss: 0.4426 - val_accuracy: 0.6000 - val_loss: 1.3110\n",
            "Epoch 12/60\n",
            "13/13 - 0s - 21ms/step - accuracy: 1.0000 - loss: 0.3881 - val_accuracy: 0.6000 - val_loss: 1.2770\n",
            "Epoch 13/60\n",
            "13/13 - 0s - 10ms/step - accuracy: 1.0000 - loss: 0.3426 - val_accuracy: 0.6333 - val_loss: 1.2478\n",
            "Epoch 14/60\n",
            "13/13 - 0s - 13ms/step - accuracy: 1.0000 - loss: 0.3045 - val_accuracy: 0.6333 - val_loss: 1.2225\n",
            "Epoch 15/60\n",
            "13/13 - 0s - 21ms/step - accuracy: 1.0000 - loss: 0.2723 - val_accuracy: 0.6667 - val_loss: 1.2006\n",
            "Epoch 16/60\n",
            "13/13 - 0s - 9ms/step - accuracy: 1.0000 - loss: 0.2449 - val_accuracy: 0.7000 - val_loss: 1.1815\n",
            "Epoch 17/60\n",
            "13/13 - 0s - 11ms/step - accuracy: 1.0000 - loss: 0.2215 - val_accuracy: 0.7000 - val_loss: 1.1648\n",
            "Epoch 18/60\n",
            "13/13 - 0s - 9ms/step - accuracy: 1.0000 - loss: 0.2014 - val_accuracy: 0.7000 - val_loss: 1.1500\n",
            "Epoch 19/60\n",
            "13/13 - 0s - 11ms/step - accuracy: 1.0000 - loss: 0.1839 - val_accuracy: 0.7333 - val_loss: 1.1368\n",
            "Epoch 20/60\n",
            "13/13 - 0s - 10ms/step - accuracy: 1.0000 - loss: 0.1687 - val_accuracy: 0.7333 - val_loss: 1.1251\n",
            "Epoch 21/60\n",
            "13/13 - 0s - 12ms/step - accuracy: 1.0000 - loss: 0.1554 - val_accuracy: 0.7333 - val_loss: 1.1145\n",
            "Epoch 22/60\n",
            "13/13 - 0s - 9ms/step - accuracy: 1.0000 - loss: 0.1436 - val_accuracy: 0.7333 - val_loss: 1.1049\n",
            "Epoch 23/60\n",
            "13/13 - 0s - 11ms/step - accuracy: 1.0000 - loss: 0.1333 - val_accuracy: 0.7333 - val_loss: 1.0962\n",
            "Epoch 24/60\n",
            "13/13 - 0s - 14ms/step - accuracy: 1.0000 - loss: 0.1240 - val_accuracy: 0.7333 - val_loss: 1.0883\n",
            "Epoch 25/60\n",
            "13/13 - 0s - 20ms/step - accuracy: 1.0000 - loss: 0.1157 - val_accuracy: 0.7333 - val_loss: 1.0811\n",
            "Epoch 26/60\n",
            "13/13 - 0s - 13ms/step - accuracy: 1.0000 - loss: 0.1083 - val_accuracy: 0.7333 - val_loss: 1.0744\n",
            "Epoch 27/60\n",
            "13/13 - 0s - 20ms/step - accuracy: 1.0000 - loss: 0.1016 - val_accuracy: 0.7333 - val_loss: 1.0683\n",
            "Epoch 28/60\n",
            "13/13 - 0s - 9ms/step - accuracy: 1.0000 - loss: 0.0956 - val_accuracy: 0.7333 - val_loss: 1.0626\n",
            "Epoch 29/60\n",
            "13/13 - 0s - 13ms/step - accuracy: 1.0000 - loss: 0.0901 - val_accuracy: 0.7333 - val_loss: 1.0573\n",
            "Epoch 30/60\n",
            "13/13 - 0s - 21ms/step - accuracy: 1.0000 - loss: 0.0851 - val_accuracy: 0.7333 - val_loss: 1.0524\n",
            "Epoch 31/60\n",
            "13/13 - 0s - 11ms/step - accuracy: 1.0000 - loss: 0.0805 - val_accuracy: 0.7333 - val_loss: 1.0479\n",
            "Epoch 32/60\n",
            "13/13 - 0s - 11ms/step - accuracy: 1.0000 - loss: 0.0764 - val_accuracy: 0.7333 - val_loss: 1.0436\n",
            "Epoch 33/60\n",
            "13/13 - 0s - 10ms/step - accuracy: 1.0000 - loss: 0.0725 - val_accuracy: 0.7333 - val_loss: 1.0397\n",
            "Epoch 34/60\n",
            "13/13 - 0s - 13ms/step - accuracy: 1.0000 - loss: 0.0690 - val_accuracy: 0.7000 - val_loss: 1.0359\n",
            "Epoch 35/60\n",
            "13/13 - 0s - 20ms/step - accuracy: 1.0000 - loss: 0.0657 - val_accuracy: 0.7000 - val_loss: 1.0324\n",
            "Epoch 36/60\n",
            "13/13 - 0s - 11ms/step - accuracy: 1.0000 - loss: 0.0627 - val_accuracy: 0.7000 - val_loss: 1.0291\n",
            "Epoch 37/60\n",
            "13/13 - 0s - 23ms/step - accuracy: 1.0000 - loss: 0.0599 - val_accuracy: 0.7000 - val_loss: 1.0260\n",
            "Epoch 38/60\n",
            "13/13 - 0s - 9ms/step - accuracy: 1.0000 - loss: 0.0572 - val_accuracy: 0.7000 - val_loss: 1.0231\n",
            "Epoch 39/60\n",
            "13/13 - 0s - 9ms/step - accuracy: 1.0000 - loss: 0.0548 - val_accuracy: 0.7000 - val_loss: 1.0204\n",
            "Epoch 40/60\n",
            "13/13 - 0s - 11ms/step - accuracy: 1.0000 - loss: 0.0525 - val_accuracy: 0.7000 - val_loss: 1.0177\n",
            "Epoch 41/60\n",
            "13/13 - 0s - 10ms/step - accuracy: 1.0000 - loss: 0.0504 - val_accuracy: 0.7000 - val_loss: 1.0153\n",
            "Epoch 42/60\n",
            "13/13 - 0s - 9ms/step - accuracy: 1.0000 - loss: 0.0484 - val_accuracy: 0.7000 - val_loss: 1.0129\n",
            "Epoch 43/60\n",
            "13/13 - 0s - 11ms/step - accuracy: 1.0000 - loss: 0.0465 - val_accuracy: 0.7000 - val_loss: 1.0107\n",
            "Epoch 44/60\n",
            "13/13 - 0s - 11ms/step - accuracy: 1.0000 - loss: 0.0448 - val_accuracy: 0.7000 - val_loss: 1.0086\n",
            "Epoch 45/60\n",
            "13/13 - 0s - 10ms/step - accuracy: 1.0000 - loss: 0.0431 - val_accuracy: 0.7000 - val_loss: 1.0066\n",
            "Epoch 46/60\n",
            "13/13 - 0s - 11ms/step - accuracy: 1.0000 - loss: 0.0416 - val_accuracy: 0.7000 - val_loss: 1.0047\n",
            "Epoch 47/60\n",
            "13/13 - 0s - 11ms/step - accuracy: 1.0000 - loss: 0.0401 - val_accuracy: 0.7000 - val_loss: 1.0029\n",
            "Epoch 48/60\n",
            "13/13 - 0s - 12ms/step - accuracy: 1.0000 - loss: 0.0387 - val_accuracy: 0.7000 - val_loss: 1.0011\n",
            "Epoch 49/60\n",
            "13/13 - 0s - 20ms/step - accuracy: 1.0000 - loss: 0.0374 - val_accuracy: 0.7000 - val_loss: 0.9995\n",
            "Epoch 50/60\n",
            "13/13 - 0s - 11ms/step - accuracy: 1.0000 - loss: 0.0362 - val_accuracy: 0.7000 - val_loss: 0.9979\n",
            "Epoch 51/60\n",
            "13/13 - 0s - 10ms/step - accuracy: 1.0000 - loss: 0.0350 - val_accuracy: 0.7000 - val_loss: 0.9964\n",
            "Epoch 52/60\n",
            "13/13 - 0s - 9ms/step - accuracy: 1.0000 - loss: 0.0339 - val_accuracy: 0.7000 - val_loss: 0.9950\n",
            "Epoch 53/60\n",
            "13/13 - 0s - 11ms/step - accuracy: 1.0000 - loss: 0.0328 - val_accuracy: 0.7000 - val_loss: 0.9936\n",
            "Epoch 54/60\n",
            "13/13 - 0s - 11ms/step - accuracy: 1.0000 - loss: 0.0318 - val_accuracy: 0.7000 - val_loss: 0.9923\n",
            "Epoch 55/60\n",
            "13/13 - 0s - 20ms/step - accuracy: 1.0000 - loss: 0.0308 - val_accuracy: 0.7000 - val_loss: 0.9911\n",
            "Epoch 56/60\n",
            "13/13 - 0s - 9ms/step - accuracy: 1.0000 - loss: 0.0299 - val_accuracy: 0.7000 - val_loss: 0.9898\n",
            "Epoch 57/60\n",
            "13/13 - 0s - 11ms/step - accuracy: 1.0000 - loss: 0.0290 - val_accuracy: 0.7000 - val_loss: 0.9887\n",
            "Epoch 58/60\n",
            "13/13 - 0s - 12ms/step - accuracy: 1.0000 - loss: 0.0282 - val_accuracy: 0.7000 - val_loss: 0.9876\n",
            "Epoch 59/60\n",
            "13/13 - 0s - 12ms/step - accuracy: 1.0000 - loss: 0.0274 - val_accuracy: 0.7000 - val_loss: 0.9865\n",
            "Epoch 60/60\n",
            "13/13 - 0s - 13ms/step - accuracy: 1.0000 - loss: 0.0266 - val_accuracy: 0.7000 - val_loss: 0.9855\n"
          ]
        }
      ]
    },
    {
      "cell_type": "code",
      "source": [
        "c_model = model()\n",
        "\n",
        "c_history = c_model.fit(\n",
        "    train_images,\n",
        "    train_labels,\n",
        "    validation_data=(test_images, test_labels),\n",
        "    batch_size=4,\n",
        "    epochs=n_epochs,\n",
        "    verbose=2,\n",
        ")"
      ],
      "metadata": {
        "colab": {
          "base_uri": "https://localhost:8080/"
        },
        "id": "QUbSIuM_WAfu",
        "outputId": "b1d1f289-ad22-49d4-c665-369943e12872"
      },
      "execution_count": 20,
      "outputs": [
        {
          "output_type": "stream",
          "name": "stdout",
          "text": [
            "Epoch 1/60\n",
            "13/13 - 3s - 247ms/step - accuracy: 0.0800 - loss: 2.9257 - val_accuracy: 0.0667 - val_loss: 2.7489\n",
            "Epoch 2/60\n",
            "13/13 - 0s - 22ms/step - accuracy: 0.4000 - loss: 2.2378 - val_accuracy: 0.2667 - val_loss: 2.3868\n",
            "Epoch 3/60\n",
            "13/13 - 1s - 51ms/step - accuracy: 0.6200 - loss: 1.8230 - val_accuracy: 0.4000 - val_loss: 2.1426\n",
            "Epoch 4/60\n",
            "13/13 - 0s - 11ms/step - accuracy: 0.7800 - loss: 1.5233 - val_accuracy: 0.5667 - val_loss: 1.9598\n",
            "Epoch 5/60\n",
            "13/13 - 0s - 9ms/step - accuracy: 0.8800 - loss: 1.2895 - val_accuracy: 0.6333 - val_loss: 1.8183\n",
            "Epoch 6/60\n",
            "13/13 - 0s - 11ms/step - accuracy: 0.8800 - loss: 1.1020 - val_accuracy: 0.6667 - val_loss: 1.7071\n",
            "Epoch 7/60\n",
            "13/13 - 0s - 12ms/step - accuracy: 0.9200 - loss: 0.9500 - val_accuracy: 0.7333 - val_loss: 1.6178\n",
            "Epoch 8/60\n",
            "13/13 - 0s - 11ms/step - accuracy: 0.9200 - loss: 0.8257 - val_accuracy: 0.7333 - val_loss: 1.5446\n",
            "Epoch 9/60\n",
            "13/13 - 0s - 11ms/step - accuracy: 0.9600 - loss: 0.7231 - val_accuracy: 0.7000 - val_loss: 1.4835\n",
            "Epoch 10/60\n",
            "13/13 - 0s - 9ms/step - accuracy: 0.9600 - loss: 0.6378 - val_accuracy: 0.7000 - val_loss: 1.4316\n",
            "Epoch 11/60\n",
            "13/13 - 0s - 10ms/step - accuracy: 0.9800 - loss: 0.5662 - val_accuracy: 0.7000 - val_loss: 1.3873\n",
            "Epoch 12/60\n",
            "13/13 - 0s - 10ms/step - accuracy: 1.0000 - loss: 0.5056 - val_accuracy: 0.6667 - val_loss: 1.3491\n",
            "Epoch 13/60\n",
            "13/13 - 0s - 9ms/step - accuracy: 1.0000 - loss: 0.4540 - val_accuracy: 0.6333 - val_loss: 1.3160\n",
            "Epoch 14/60\n",
            "13/13 - 0s - 11ms/step - accuracy: 1.0000 - loss: 0.4097 - val_accuracy: 0.6333 - val_loss: 1.2872\n",
            "Epoch 15/60\n",
            "13/13 - 0s - 9ms/step - accuracy: 1.0000 - loss: 0.3715 - val_accuracy: 0.6333 - val_loss: 1.2619\n",
            "Epoch 16/60\n",
            "13/13 - 0s - 9ms/step - accuracy: 1.0000 - loss: 0.3382 - val_accuracy: 0.6333 - val_loss: 1.2396\n",
            "Epoch 17/60\n",
            "13/13 - 0s - 10ms/step - accuracy: 1.0000 - loss: 0.3092 - val_accuracy: 0.6333 - val_loss: 1.2198\n",
            "Epoch 18/60\n",
            "13/13 - 0s - 11ms/step - accuracy: 1.0000 - loss: 0.2838 - val_accuracy: 0.6333 - val_loss: 1.2023\n",
            "Epoch 19/60\n",
            "13/13 - 0s - 12ms/step - accuracy: 1.0000 - loss: 0.2613 - val_accuracy: 0.6333 - val_loss: 1.1866\n",
            "Epoch 20/60\n",
            "13/13 - 0s - 9ms/step - accuracy: 1.0000 - loss: 0.2414 - val_accuracy: 0.6667 - val_loss: 1.1725\n",
            "Epoch 21/60\n",
            "13/13 - 0s - 11ms/step - accuracy: 1.0000 - loss: 0.2238 - val_accuracy: 0.6667 - val_loss: 1.1598\n",
            "Epoch 22/60\n",
            "13/13 - 0s - 9ms/step - accuracy: 1.0000 - loss: 0.2080 - val_accuracy: 0.7000 - val_loss: 1.1484\n",
            "Epoch 23/60\n",
            "13/13 - 0s - 11ms/step - accuracy: 1.0000 - loss: 0.1938 - val_accuracy: 0.7000 - val_loss: 1.1379\n",
            "Epoch 24/60\n",
            "13/13 - 0s - 9ms/step - accuracy: 1.0000 - loss: 0.1811 - val_accuracy: 0.7000 - val_loss: 1.1284\n",
            "Epoch 25/60\n",
            "13/13 - 0s - 10ms/step - accuracy: 1.0000 - loss: 0.1696 - val_accuracy: 0.7000 - val_loss: 1.1198\n",
            "Epoch 26/60\n",
            "13/13 - 0s - 9ms/step - accuracy: 1.0000 - loss: 0.1592 - val_accuracy: 0.7000 - val_loss: 1.1118\n",
            "Epoch 27/60\n",
            "13/13 - 0s - 10ms/step - accuracy: 1.0000 - loss: 0.1497 - val_accuracy: 0.7000 - val_loss: 1.1045\n",
            "Epoch 28/60\n",
            "13/13 - 0s - 9ms/step - accuracy: 1.0000 - loss: 0.1411 - val_accuracy: 0.7000 - val_loss: 1.0978\n",
            "Epoch 29/60\n",
            "13/13 - 0s - 9ms/step - accuracy: 1.0000 - loss: 0.1333 - val_accuracy: 0.7000 - val_loss: 1.0916\n",
            "Epoch 30/60\n",
            "13/13 - 0s - 9ms/step - accuracy: 1.0000 - loss: 0.1261 - val_accuracy: 0.7000 - val_loss: 1.0859\n",
            "Epoch 31/60\n",
            "13/13 - 0s - 11ms/step - accuracy: 1.0000 - loss: 0.1195 - val_accuracy: 0.7000 - val_loss: 1.0806\n",
            "Epoch 32/60\n",
            "13/13 - 0s - 10ms/step - accuracy: 1.0000 - loss: 0.1134 - val_accuracy: 0.7000 - val_loss: 1.0756\n",
            "Epoch 33/60\n",
            "13/13 - 0s - 11ms/step - accuracy: 1.0000 - loss: 0.1078 - val_accuracy: 0.7000 - val_loss: 1.0710\n",
            "Epoch 34/60\n",
            "13/13 - 0s - 23ms/step - accuracy: 1.0000 - loss: 0.1026 - val_accuracy: 0.7000 - val_loss: 1.0667\n",
            "Epoch 35/60\n",
            "13/13 - 0s - 12ms/step - accuracy: 1.0000 - loss: 0.0978 - val_accuracy: 0.7000 - val_loss: 1.0627\n",
            "Epoch 36/60\n",
            "13/13 - 0s - 12ms/step - accuracy: 1.0000 - loss: 0.0934 - val_accuracy: 0.7000 - val_loss: 1.0590\n",
            "Epoch 37/60\n",
            "13/13 - 0s - 13ms/step - accuracy: 1.0000 - loss: 0.0893 - val_accuracy: 0.7000 - val_loss: 1.0555\n",
            "Epoch 38/60\n",
            "13/13 - 0s - 11ms/step - accuracy: 1.0000 - loss: 0.0854 - val_accuracy: 0.7000 - val_loss: 1.0522\n",
            "Epoch 39/60\n",
            "13/13 - 0s - 11ms/step - accuracy: 1.0000 - loss: 0.0818 - val_accuracy: 0.7000 - val_loss: 1.0491\n",
            "Epoch 40/60\n",
            "13/13 - 0s - 12ms/step - accuracy: 1.0000 - loss: 0.0784 - val_accuracy: 0.7000 - val_loss: 1.0462\n",
            "Epoch 41/60\n",
            "13/13 - 0s - 10ms/step - accuracy: 1.0000 - loss: 0.0753 - val_accuracy: 0.7000 - val_loss: 1.0435\n",
            "Epoch 42/60\n",
            "13/13 - 0s - 9ms/step - accuracy: 1.0000 - loss: 0.0723 - val_accuracy: 0.7000 - val_loss: 1.0409\n",
            "Epoch 43/60\n",
            "13/13 - 0s - 9ms/step - accuracy: 1.0000 - loss: 0.0696 - val_accuracy: 0.7000 - val_loss: 1.0385\n",
            "Epoch 44/60\n",
            "13/13 - 0s - 9ms/step - accuracy: 1.0000 - loss: 0.0670 - val_accuracy: 0.7000 - val_loss: 1.0362\n",
            "Epoch 45/60\n",
            "13/13 - 0s - 9ms/step - accuracy: 1.0000 - loss: 0.0645 - val_accuracy: 0.7000 - val_loss: 1.0340\n",
            "Epoch 46/60\n",
            "13/13 - 0s - 10ms/step - accuracy: 1.0000 - loss: 0.0622 - val_accuracy: 0.7000 - val_loss: 1.0320\n",
            "Epoch 47/60\n",
            "13/13 - 0s - 9ms/step - accuracy: 1.0000 - loss: 0.0600 - val_accuracy: 0.7000 - val_loss: 1.0300\n",
            "Epoch 48/60\n",
            "13/13 - 0s - 11ms/step - accuracy: 1.0000 - loss: 0.0579 - val_accuracy: 0.7000 - val_loss: 1.0282\n",
            "Epoch 49/60\n",
            "13/13 - 0s - 10ms/step - accuracy: 1.0000 - loss: 0.0560 - val_accuracy: 0.7000 - val_loss: 1.0265\n",
            "Epoch 50/60\n",
            "13/13 - 0s - 9ms/step - accuracy: 1.0000 - loss: 0.0541 - val_accuracy: 0.7000 - val_loss: 1.0248\n",
            "Epoch 51/60\n",
            "13/13 - 0s - 9ms/step - accuracy: 1.0000 - loss: 0.0523 - val_accuracy: 0.7000 - val_loss: 1.0233\n",
            "Epoch 52/60\n",
            "13/13 - 0s - 10ms/step - accuracy: 1.0000 - loss: 0.0507 - val_accuracy: 0.7000 - val_loss: 1.0218\n",
            "Epoch 53/60\n",
            "13/13 - 0s - 9ms/step - accuracy: 1.0000 - loss: 0.0491 - val_accuracy: 0.7000 - val_loss: 1.0204\n",
            "Epoch 54/60\n",
            "13/13 - 0s - 9ms/step - accuracy: 1.0000 - loss: 0.0476 - val_accuracy: 0.7000 - val_loss: 1.0190\n",
            "Epoch 55/60\n",
            "13/13 - 0s - 9ms/step - accuracy: 1.0000 - loss: 0.0461 - val_accuracy: 0.7000 - val_loss: 1.0178\n",
            "Epoch 56/60\n",
            "13/13 - 0s - 10ms/step - accuracy: 1.0000 - loss: 0.0448 - val_accuracy: 0.7000 - val_loss: 1.0165\n",
            "Epoch 57/60\n",
            "13/13 - 0s - 10ms/step - accuracy: 1.0000 - loss: 0.0434 - val_accuracy: 0.7000 - val_loss: 1.0154\n",
            "Epoch 58/60\n",
            "13/13 - 0s - 9ms/step - accuracy: 1.0000 - loss: 0.0422 - val_accuracy: 0.7000 - val_loss: 1.0143\n",
            "Epoch 59/60\n",
            "13/13 - 0s - 11ms/step - accuracy: 1.0000 - loss: 0.0410 - val_accuracy: 0.7000 - val_loss: 1.0133\n",
            "Epoch 60/60\n",
            "13/13 - 0s - 10ms/step - accuracy: 1.0000 - loss: 0.0399 - val_accuracy: 0.7000 - val_loss: 1.0123\n"
          ]
        }
      ]
    },
    {
      "cell_type": "code",
      "source": [
        "import matplotlib.pyplot as plt\n",
        "\n",
        "fig, (ax1, ax2) = plt.subplots(2, 1, figsize=(6, 9))\n",
        "\n",
        "ax1.plot(q_history.history[\"val_accuracy\"], \"-ob\", label=\"With quantum layer\")\n",
        "ax1.plot(c_history.history[\"val_accuracy\"], \"-og\", label=\"Without quantum layer\")\n",
        "ax1.set_ylabel(\"Accuracy\")\n",
        "ax1.set_ylim([0, 1])\n",
        "ax1.set_xlabel(\"Epoch\")\n",
        "ax1.legend()\n",
        "\n",
        "ax2.plot(q_history.history[\"val_loss\"], \"-ob\", label=\"With quantum layer\")\n",
        "ax2.plot(c_history.history[\"val_loss\"], \"-og\", label=\"Without quantum layer\")\n",
        "ax2.set_ylabel(\"Loss\")\n",
        "ax2.set_ylim(top=2.5)\n",
        "ax2.set_xlabel(\"Epoch\")\n",
        "ax2.legend()\n",
        "plt.tight_layout()\n",
        "plt.show()"
      ],
      "metadata": {
        "colab": {
          "base_uri": "https://localhost:8080/",
          "height": 906
        },
        "id": "hQDsYbXpWZhx",
        "outputId": "a36f4ea9-f564-4607-a6fe-c40961638257"
      },
      "execution_count": 21,
      "outputs": [
        {
          "output_type": "display_data",
          "data": {
            "text/plain": [
              "<Figure size 600x900 with 2 Axes>"
            ],
            "image/png": "[encoded data removed]"
          },
          "metadata": {}
        }
      ]
    },
    {
      "cell_type": "code",
      "source": [
        "import matplotlib.pyplot as plt\n",
        "\n",
        "# Fit the model and store the training history\n",
        "history = q_model.fit(\n",
        "    q_train_images,\n",
        "    train_labels,\n",
        "    validation_data=(q_test_images, test_labels),\n",
        "    batch_size=4,\n",
        "    epochs=n_epochs,\n",
        "    verbose=2,\n",
        ")\n",
        "\n",
        "# Plot the loss\n",
        "plt.figure(figsize=(8, 6))\n",
        "plt.plot(history.history['loss'], label='Training Loss')\n",
        "plt.plot(history.history['val_loss'], label='Validation Loss')\n",
        "plt.title('Training and Validation Loss')\n",
        "plt.xlabel('Epochs')\n",
        "plt.ylabel('Loss')\n",
        "plt.legend()\n",
        "plt.grid(True)\n",
        "plt.show()\n"
      ],
      "metadata": {
        "colab": {
          "base_uri": "https://localhost:8080/",
          "height": 1000
        },
        "id": "AULV-sGyhPB8",
        "outputId": "88371bfc-f8aa-4838-fefc-13937ea4b076"
      },
      "execution_count": 16,
      "outputs": [
        {
          "output_type": "stream",
          "name": "stdout",
          "text": [
            "Epoch 1/60\n",
            "13/13 - 0s - 16ms/step - accuracy: 1.0000 - loss: 0.0249 - val_accuracy: 0.6333 - val_loss: 1.0524\n",
            "Epoch 2/60\n",
            "13/13 - 0s - 18ms/step - accuracy: 1.0000 - loss: 0.0243 - val_accuracy: 0.6333 - val_loss: 1.0514\n",
            "Epoch 3/60\n",
            "13/13 - 0s - 9ms/step - accuracy: 1.0000 - loss: 0.0236 - val_accuracy: 0.6333 - val_loss: 1.0505\n",
            "Epoch 4/60\n",
            "13/13 - 0s - 10ms/step - accuracy: 1.0000 - loss: 0.0230 - val_accuracy: 0.6333 - val_loss: 1.0495\n",
            "Epoch 5/60\n",
            "13/13 - 0s - 11ms/step - accuracy: 1.0000 - loss: 0.0224 - val_accuracy: 0.6333 - val_loss: 1.0486\n",
            "Epoch 6/60\n",
            "13/13 - 0s - 11ms/step - accuracy: 1.0000 - loss: 0.0219 - val_accuracy: 0.6333 - val_loss: 1.0478\n",
            "Epoch 7/60\n",
            "13/13 - 0s - 11ms/step - accuracy: 1.0000 - loss: 0.0213 - val_accuracy: 0.6333 - val_loss: 1.0469\n",
            "Epoch 8/60\n",
            "13/13 - 0s - 12ms/step - accuracy: 1.0000 - loss: 0.0208 - val_accuracy: 0.6333 - val_loss: 1.0461\n",
            "Epoch 9/60\n",
            "13/13 - 0s - 24ms/step - accuracy: 1.0000 - loss: 0.0203 - val_accuracy: 0.6333 - val_loss: 1.0454\n",
            "Epoch 10/60\n",
            "13/13 - 0s - 23ms/step - accuracy: 1.0000 - loss: 0.0198 - val_accuracy: 0.6333 - val_loss: 1.0446\n",
            "Epoch 11/60\n",
            "13/13 - 0s - 19ms/step - accuracy: 1.0000 - loss: 0.0193 - val_accuracy: 0.6333 - val_loss: 1.0439\n",
            "Epoch 12/60\n",
            "13/13 - 0s - 11ms/step - accuracy: 1.0000 - loss: 0.0189 - val_accuracy: 0.6333 - val_loss: 1.0432\n",
            "Epoch 13/60\n",
            "13/13 - 0s - 9ms/step - accuracy: 1.0000 - loss: 0.0185 - val_accuracy: 0.6333 - val_loss: 1.0425\n",
            "Epoch 14/60\n",
            "13/13 - 0s - 9ms/step - accuracy: 1.0000 - loss: 0.0180 - val_accuracy: 0.6333 - val_loss: 1.0419\n",
            "Epoch 15/60\n",
            "13/13 - 0s - 13ms/step - accuracy: 1.0000 - loss: 0.0176 - val_accuracy: 0.6333 - val_loss: 1.0413\n",
            "Epoch 16/60\n",
            "13/13 - 0s - 23ms/step - accuracy: 1.0000 - loss: 0.0173 - val_accuracy: 0.6333 - val_loss: 1.0407\n",
            "Epoch 17/60\n",
            "13/13 - 0s - 24ms/step - accuracy: 1.0000 - loss: 0.0169 - val_accuracy: 0.6333 - val_loss: 1.0401\n",
            "Epoch 18/60\n",
            "13/13 - 0s - 13ms/step - accuracy: 1.0000 - loss: 0.0165 - val_accuracy: 0.6333 - val_loss: 1.0396\n",
            "Epoch 19/60\n",
            "13/13 - 0s - 11ms/step - accuracy: 1.0000 - loss: 0.0162 - val_accuracy: 0.6667 - val_loss: 1.0390\n",
            "Epoch 20/60\n",
            "13/13 - 0s - 25ms/step - accuracy: 1.0000 - loss: 0.0158 - val_accuracy: 0.6667 - val_loss: 1.0385\n",
            "Epoch 21/60\n",
            "13/13 - 0s - 24ms/step - accuracy: 1.0000 - loss: 0.0155 - val_accuracy: 0.6667 - val_loss: 1.0380\n",
            "Epoch 22/60\n",
            "13/13 - 0s - 21ms/step - accuracy: 1.0000 - loss: 0.0152 - val_accuracy: 0.6667 - val_loss: 1.0375\n",
            "Epoch 23/60\n",
            "13/13 - 0s - 12ms/step - accuracy: 1.0000 - loss: 0.0149 - val_accuracy: 0.6667 - val_loss: 1.0370\n",
            "Epoch 24/60\n",
            "13/13 - 0s - 24ms/step - accuracy: 1.0000 - loss: 0.0146 - val_accuracy: 0.6667 - val_loss: 1.0366\n",
            "Epoch 25/60\n",
            "13/13 - 0s - 23ms/step - accuracy: 1.0000 - loss: 0.0143 - val_accuracy: 0.6667 - val_loss: 1.0362\n",
            "Epoch 26/60\n",
            "13/13 - 0s - 15ms/step - accuracy: 1.0000 - loss: 0.0140 - val_accuracy: 0.6667 - val_loss: 1.0357\n",
            "Epoch 27/60\n",
            "13/13 - 0s - 14ms/step - accuracy: 1.0000 - loss: 0.0137 - val_accuracy: 0.6667 - val_loss: 1.0353\n",
            "Epoch 28/60\n",
            "13/13 - 0s - 24ms/step - accuracy: 1.0000 - loss: 0.0135 - val_accuracy: 0.6667 - val_loss: 1.0349\n",
            "Epoch 29/60\n",
            "13/13 - 0s - 10ms/step - accuracy: 1.0000 - loss: 0.0132 - val_accuracy: 0.6667 - val_loss: 1.0346\n",
            "Epoch 30/60\n",
            "13/13 - 0s - 12ms/step - accuracy: 1.0000 - loss: 0.0129 - val_accuracy: 0.6667 - val_loss: 1.0342\n",
            "Epoch 31/60\n",
            "13/13 - 0s - 10ms/step - accuracy: 1.0000 - loss: 0.0127 - val_accuracy: 0.6667 - val_loss: 1.0338\n",
            "Epoch 32/60\n",
            "13/13 - 0s - 10ms/step - accuracy: 1.0000 - loss: 0.0125 - val_accuracy: 0.6667 - val_loss: 1.0335\n",
            "Epoch 33/60\n",
            "13/13 - 0s - 11ms/step - accuracy: 1.0000 - loss: 0.0122 - val_accuracy: 0.6667 - val_loss: 1.0332\n",
            "Epoch 34/60\n",
            "13/13 - 0s - 10ms/step - accuracy: 1.0000 - loss: 0.0120 - val_accuracy: 0.6667 - val_loss: 1.0328\n",
            "Epoch 35/60\n",
            "13/13 - 0s - 9ms/step - accuracy: 1.0000 - loss: 0.0118 - val_accuracy: 0.6667 - val_loss: 1.0325\n",
            "Epoch 36/60\n",
            "13/13 - 0s - 11ms/step - accuracy: 1.0000 - loss: 0.0116 - val_accuracy: 0.6667 - val_loss: 1.0322\n",
            "Epoch 37/60\n",
            "13/13 - 0s - 12ms/step - accuracy: 1.0000 - loss: 0.0114 - val_accuracy: 0.6667 - val_loss: 1.0320\n",
            "Epoch 38/60\n",
            "13/13 - 0s - 22ms/step - accuracy: 1.0000 - loss: 0.0112 - val_accuracy: 0.6667 - val_loss: 1.0317\n",
            "Epoch 39/60\n",
            "13/13 - 0s - 11ms/step - accuracy: 1.0000 - loss: 0.0110 - val_accuracy: 0.6667 - val_loss: 1.0314\n",
            "Epoch 40/60\n",
            "13/13 - 0s - 11ms/step - accuracy: 1.0000 - loss: 0.0108 - val_accuracy: 0.6667 - val_loss: 1.0312\n",
            "Epoch 41/60\n",
            "13/13 - 0s - 24ms/step - accuracy: 1.0000 - loss: 0.0106 - val_accuracy: 0.6667 - val_loss: 1.0309\n",
            "Epoch 42/60\n",
            "13/13 - 0s - 11ms/step - accuracy: 1.0000 - loss: 0.0104 - val_accuracy: 0.6667 - val_loss: 1.0307\n",
            "Epoch 43/60\n",
            "13/13 - 0s - 23ms/step - accuracy: 1.0000 - loss: 0.0102 - val_accuracy: 0.6667 - val_loss: 1.0304\n",
            "Epoch 44/60\n",
            "13/13 - 0s - 11ms/step - accuracy: 1.0000 - loss: 0.0101 - val_accuracy: 0.6667 - val_loss: 1.0302\n",
            "Epoch 45/60\n",
            "13/13 - 0s - 23ms/step - accuracy: 1.0000 - loss: 0.0099 - val_accuracy: 0.6667 - val_loss: 1.0300\n",
            "Epoch 46/60\n",
            "13/13 - 0s - 11ms/step - accuracy: 1.0000 - loss: 0.0097 - val_accuracy: 0.6667 - val_loss: 1.0298\n",
            "Epoch 47/60\n",
            "13/13 - 0s - 13ms/step - accuracy: 1.0000 - loss: 0.0096 - val_accuracy: 0.6667 - val_loss: 1.0296\n",
            "Epoch 48/60\n",
            "13/13 - 0s - 21ms/step - accuracy: 1.0000 - loss: 0.0094 - val_accuracy: 0.6667 - val_loss: 1.0294\n",
            "Epoch 49/60\n",
            "13/13 - 0s - 11ms/step - accuracy: 1.0000 - loss: 0.0093 - val_accuracy: 0.6667 - val_loss: 1.0292\n",
            "Epoch 50/60\n",
            "13/13 - 0s - 11ms/step - accuracy: 1.0000 - loss: 0.0091 - val_accuracy: 0.6667 - val_loss: 1.0290\n",
            "Epoch 51/60\n",
            "13/13 - 0s - 22ms/step - accuracy: 1.0000 - loss: 0.0090 - val_accuracy: 0.6667 - val_loss: 1.0289\n",
            "Epoch 52/60\n",
            "13/13 - 0s - 13ms/step - accuracy: 1.0000 - loss: 0.0088 - val_accuracy: 0.6667 - val_loss: 1.0287\n",
            "Epoch 53/60\n",
            "13/13 - 0s - 9ms/step - accuracy: 1.0000 - loss: 0.0087 - val_accuracy: 0.6667 - val_loss: 1.0286\n",
            "Epoch 54/60\n",
            "13/13 - 0s - 9ms/step - accuracy: 1.0000 - loss: 0.0086 - val_accuracy: 0.6667 - val_loss: 1.0284\n",
            "Epoch 55/60\n",
            "13/13 - 0s - 10ms/step - accuracy: 1.0000 - loss: 0.0084 - val_accuracy: 0.6667 - val_loss: 1.0283\n",
            "Epoch 56/60\n",
            "13/13 - 0s - 9ms/step - accuracy: 1.0000 - loss: 0.0083 - val_accuracy: 0.6667 - val_loss: 1.0281\n",
            "Epoch 57/60\n",
            "13/13 - 0s - 10ms/step - accuracy: 1.0000 - loss: 0.0082 - val_accuracy: 0.6667 - val_loss: 1.0280\n",
            "Epoch 58/60\n",
            "13/13 - 0s - 11ms/step - accuracy: 1.0000 - loss: 0.0081 - val_accuracy: 0.6667 - val_loss: 1.0279\n",
            "Epoch 59/60\n",
            "13/13 - 0s - 10ms/step - accuracy: 1.0000 - loss: 0.0079 - val_accuracy: 0.6667 - val_loss: 1.0278\n",
            "Epoch 60/60\n",
            "13/13 - 0s - 10ms/step - accuracy: 1.0000 - loss: 0.0078 - val_accuracy: 0.6667 - val_loss: 1.0276\n"
          ]
        },
        {
          "output_type": "display_data",
          "data": {
            "text/plain": [
              "<Figure size 800x600 with 1 Axes>"
            ],
            "image/png": "[encoded data removed]"
          },
          "metadata": {}
        }
      ]
    },
    {
      "cell_type": "markdown",
      "source": [
        "# 3. **SineKAN**\n"
      ],
      "metadata": {
        "id": "onc-sl7IiDby"
      }
    },
    {
      "cell_type": "code",
      "source": [
        "import torch\n",
        "import torch.nn.functional as F\n",
        "import math\n",
        "from typing import *\n",
        "import numpy as np\n",
        "import torch.nn as nn\n",
        "import torch.optim as optim\n",
        "import torchvision\n",
        "import torchvision.transforms as transforms\n",
        "from torch.utils.data import DataLoader\n",
        "from tqdm import tqdm\n",
        "\n",
        "def forward_step(i_n, grid_size, A, K, C):\n",
        "    ratio = A * grid_size**(-K) + C\n",
        "    i_n1 = ratio * i_n\n",
        "    return i_n1\n",
        "\n",
        "class SineKANLayer(torch.nn.Module):\n",
        "    def __init__(self, input_dim, output_dim, device='cuda', grid_size=5, is_first=False, add_bias=True, norm_freq=True):\n",
        "        super(SineKANLayer,self).__init__()\n",
        "        self.grid_size = grid_size\n",
        "        self.device = device\n",
        "        self.is_first = is_first\n",
        "        self.add_bias = add_bias\n",
        "        self.input_dim = input_dim\n",
        "        self.output_dim = output_dim\n",
        "        self.A, self.K, self.C = 0.9724108095811765, 0.9884401790754128, 0.999449553483052\n",
        "\n",
        "        self.grid_norm_factor = (torch.arange(grid_size) + 1)\n",
        "        self.grid_norm_factor = self.grid_norm_factor.reshape(1, 1, grid_size)\n",
        "\n",
        "        if is_first:\n",
        "            self.amplitudes = torch.nn.Parameter(torch.empty(output_dim, input_dim, 1).normal_(0, .4) / output_dim  / self.grid_norm_factor)\n",
        "        else:\n",
        "            self.amplitudes = torch.nn.Parameter(torch.empty(output_dim, input_dim, 1).uniform_(-1, 1) / output_dim  / self.grid_norm_factor)\n",
        "\n",
        "        grid_phase = torch.arange(1, grid_size + 1).reshape(1, 1, 1, grid_size) / (grid_size + 1)\n",
        "        self.input_phase = torch.linspace(0, math.pi, input_dim).reshape(1, 1, input_dim, 1).to(device)\n",
        "        phase = grid_phase.to(device) + self.input_phase\n",
        "\n",
        "        if norm_freq:\n",
        "            self.freq = torch.nn.Parameter(torch.arange(1, grid_size + 1).float().reshape(1, 1, 1, grid_size) / (grid_size + 1)**(1 - is_first))\n",
        "        else:\n",
        "            self.freq = torch.nn.Parameter(torch.arange(1, grid_size + 1).float().reshape(1, 1, 1, grid_size))\n",
        "\n",
        "        for i in range(1, self.grid_size):\n",
        "            phase = forward_step(phase, i, self.A, self.K, self.C)\n",
        "        self.register_buffer('phase', phase)\n",
        "\n",
        "        if self.add_bias:\n",
        "            self.bias  = torch.nn.Parameter(torch.ones(1, output_dim) / output_dim)\n",
        "\n",
        "    def forward(self, x):\n",
        "        x_shape = x.shape\n",
        "        output_shape = x_shape[0:-1] + (self.output_dim,)\n",
        "        x = torch.reshape(x, (-1, self.input_dim))\n",
        "        x_reshaped = torch.reshape(x, (x.shape[0], 1, x.shape[1], 1))\n",
        "        s = torch.sin(x_reshaped * self.freq + self.phase)\n",
        "        y = torch.einsum('ijkl,jkl->ij', s, self.amplitudes)\n",
        "        if self.add_bias:\n",
        "            y += self.bias\n",
        "        y = torch.reshape(y, output_shape)\n",
        "        return y\n",
        "\n",
        "class SineKAN(torch.nn.Module):\n",
        "    def __init__(\n",
        "        self,\n",
        "        layers_hidden: List[int],\n",
        "        grid_size: int = 8,\n",
        "        device: str = 'cuda',\n",
        "    ) -> None:\n",
        "        super().__init__()\n",
        "\n",
        "        self.layers = torch.nn.ModuleList([\n",
        "            SineKANLayer(\n",
        "                in_dim, out_dim, device, grid_size=grid_size, is_first=True\n",
        "            ) if i == 0 else SineKANLayer(\n",
        "                in_dim, out_dim, device, grid_size=grid_size,\n",
        "            ) for i, (in_dim, out_dim) in enumerate(zip(layers_hidden[:-1], layers_hidden[1:]))\n",
        "        ])\n",
        "\n",
        "    def forward(self, x):\n",
        "        for layer in self.layers:\n",
        "            x = layer(x)\n",
        "        return x"
      ],
      "metadata": {
        "id": "MamR52AQlIhS"
      },
      "execution_count": 4,
      "outputs": []
    },
    {
      "cell_type": "code",
      "source": [
        "transform = transforms.Compose(\n",
        "    [transforms.ToTensor(), transforms.Normalize((0.1307,), (0.3081,))]\n",
        ")\n",
        "trainset = torchvision.datasets.MNIST(\n",
        "    root=\"./data\", train=True, download=True, transform=transform\n",
        ")\n",
        "valset = torchvision.datasets.MNIST(\n",
        "    root=\"./data\", train=False, download=True, transform=transform\n",
        ")\n",
        "train_loader = DataLoader(trainset, batch_size=64, num_workers=2, shuffle=True)\n",
        "val_loader = DataLoader(valset, batch_size=64, num_workers=2, shuffle=False)"
      ],
      "metadata": {
        "id": "ldnboPXUo4y7"
      },
      "execution_count": 6,
      "outputs": []
    },
    {
      "cell_type": "code",
      "source": [
        "epochs = 5\n",
        "lrs = [2e-4, 3e-3, 4e-2]\n",
        "gammas = [0.8, 0.9]\n",
        "hdims = [64, 128, 256]\n",
        "best_accs = []\n",
        "for lr in lrs:\n",
        "    for gamma in gammas:\n",
        "        for hdim in hdims:\n",
        "            torch.manual_seed(42)\n",
        "            best_acc = 0\n",
        "            # Define model\n",
        "            model = SineKAN(layers_hidden=[28 * 28, hdim, 10], grid_size=8)\n",
        "            device = torch.device(\"cuda\" if torch.cuda.is_available() else \"cpu\")\n",
        "            model.to(device)\n",
        "            # Define optimizer\n",
        "            optimizer = optim.AdamW(model.parameters(), lr=lr)\n",
        "            # Define learning rate scheduler\n",
        "            scheduler = optim.lr_scheduler.ExponentialLR(optimizer, gamma=gamma)\n",
        "\n",
        "            # Define loss\n",
        "            criterion = nn.CrossEntropyLoss()\n",
        "            for epoch in range(epochs):    # Train\n",
        "                model.train()\n",
        "                with tqdm(train_loader) as pbar:\n",
        "                    for i, (images, labels) in enumerate(pbar):\n",
        "                        images = images.view(-1, 28 * 28).to(device)\n",
        "                        optimizer.zero_grad()\n",
        "                        output = model(images)\n",
        "                        loss = criterion(output, labels.to(device))\n",
        "                        loss.backward()\n",
        "                        optimizer.step()\n",
        "                        accuracy = (output.argmax(dim=1) == labels.to(device)).float().mean()\n",
        "                        pbar.set_postfix(loss=loss.item(), accuracy=accuracy.item(), lr=optimizer.param_groups[0]['lr'])\n",
        "\n",
        "                # Validation\n",
        "                model.eval()\n",
        "                val_loss = 0\n",
        "                val_accuracy = 0\n",
        "                with torch.no_grad():\n",
        "                    for images, labels in val_loader:\n",
        "                        images = images.view(-1, 28 * 28).to(device)\n",
        "                        output = model(images)\n",
        "                        val_loss += criterion(output, labels.to(device)).item()\n",
        "                        val_accuracy += (\n",
        "                            (output.argmax(dim=1) == labels.to(device)).float().mean().item()\n",
        "                        )\n",
        "                val_loss /= len(val_loader)\n",
        "                val_accuracy /= len(val_loader)\n",
        "                if val_accuracy > best_acc:\n",
        "                    best_acc = val_accuracy\n",
        "\n",
        "                # Update learning rate\n",
        "                scheduler.step()\n",
        "\n",
        "                print(\n",
        "                    f\"Epoch {epoch + 1}, Val Loss: {val_loss}, Val Accuracy: {val_accuracy}\"\n",
        "                )\n",
        "            best_accs.append(best_acc)\n",
        "            print(f\"LR: {lr} Gamma: {gamma} Hdim: {hdim} Best Accuracy: {best_acc}\")"
      ],
      "metadata": {
        "colab": {
          "base_uri": "https://localhost:8080/"
        },
        "id": "-r1Y638LpIsa",
        "outputId": "19d8e307-7a6d-470a-ca96-76b28006290d"
      },
      "execution_count": 3,
      "outputs": [
        {
          "output_type": "stream",
          "name": "stderr",
          "text": [
            "100%|██████████| 938/938 [00:20<00:00, 44.68it/s, accuracy=0.938, loss=0.136, lr=0.0002]\n"
          ]
        },
        {
          "output_type": "stream",
          "name": "stdout",
          "text": [
            "Epoch 1, Val Loss: 0.25346964880064793, Val Accuracy: 0.9266520700636943\n"
          ]
        },
        {
          "output_type": "stream",
          "name": "stderr",
          "text": [
            "100%|██████████| 938/938 [00:15<00:00, 62.50it/s, accuracy=0.938, loss=0.297, lr=0.00016]\n"
          ]
        },
        {
          "output_type": "stream",
          "name": "stdout",
          "text": [
            "Epoch 2, Val Loss: 0.19701114199628497, Val Accuracy: 0.942078025477707\n"
          ]
        },
        {
          "output_type": "stream",
          "name": "stderr",
          "text": [
            "100%|██████████| 938/938 [00:15<00:00, 61.28it/s, accuracy=0.938, loss=0.2, lr=0.000128]\n"
          ]
        },
        {
          "output_type": "stream",
          "name": "stdout",
          "text": [
            "Epoch 3, Val Loss: 0.14599578013750397, Val Accuracy: 0.9561106687898089\n"
          ]
        },
        {
          "output_type": "stream",
          "name": "stderr",
          "text": [
            "100%|██████████| 938/938 [00:19<00:00, 46.92it/s, accuracy=1, loss=0.0342, lr=0.000102]\n"
          ]
        },
        {
          "output_type": "stream",
          "name": "stdout",
          "text": [
            "Epoch 4, Val Loss: 0.13135418584748249, Val Accuracy: 0.9593949044585988\n"
          ]
        },
        {
          "output_type": "stream",
          "name": "stderr",
          "text": [
            "100%|██████████| 938/938 [00:15<00:00, 60.96it/s, accuracy=1, loss=0.0731, lr=8.19e-5]\n"
          ]
        },
        {
          "output_type": "stream",
          "name": "stdout",
          "text": [
            "Epoch 5, Val Loss: 0.11268040606200364, Val Accuracy: 0.9650676751592356\n",
            "LR: 0.0002 Gamma: 0.8 Hdim: 64 Best Accuracy: 0.9650676751592356\n"
          ]
        },
        {
          "output_type": "stream",
          "name": "stderr",
          "text": [
            "100%|██████████| 938/938 [00:15<00:00, 59.54it/s, accuracy=0.875, loss=0.274, lr=0.0002]\n"
          ]
        },
        {
          "output_type": "stream",
          "name": "stdout",
          "text": [
            "Epoch 1, Val Loss: 0.20217574968530683, Val Accuracy: 0.9417794585987261\n"
          ]
        },
        {
          "output_type": "stream",
          "name": "stderr",
          "text": [
            "100%|██████████| 938/938 [00:14<00:00, 63.32it/s, accuracy=1, loss=0.0719, lr=0.00016]\n"
          ]
        },
        {
          "output_type": "stream",
          "name": "stdout",
          "text": [
            "Epoch 2, Val Loss: 0.1455211911148801, Val Accuracy: 0.9586982484076433\n"
          ]
        },
        {
          "output_type": "stream",
          "name": "stderr",
          "text": [
            "100%|██████████| 938/938 [00:16<00:00, 58.51it/s, accuracy=0.938, loss=0.12, lr=0.000128]\n"
          ]
        },
        {
          "output_type": "stream",
          "name": "stdout",
          "text": [
            "Epoch 3, Val Loss: 0.11302672866079364, Val Accuracy: 0.9665605095541401\n"
          ]
        },
        {
          "output_type": "stream",
          "name": "stderr",
          "text": [
            "100%|██████████| 938/938 [00:15<00:00, 60.74it/s, accuracy=1, loss=0.0345, lr=0.000102]\n"
          ]
        },
        {
          "output_type": "stream",
          "name": "stdout",
          "text": [
            "Epoch 4, Val Loss: 0.1042141501315733, Val Accuracy: 0.9677547770700637\n"
          ]
        },
        {
          "output_type": "stream",
          "name": "stderr",
          "text": [
            "100%|██████████| 938/938 [00:14<00:00, 63.16it/s, accuracy=0.969, loss=0.047, lr=8.19e-5]\n"
          ]
        },
        {
          "output_type": "stream",
          "name": "stdout",
          "text": [
            "Epoch 5, Val Loss: 0.09780232257515216, Val Accuracy: 0.9707404458598726\n",
            "LR: 0.0002 Gamma: 0.8 Hdim: 128 Best Accuracy: 0.9707404458598726\n"
          ]
        },
        {
          "output_type": "stream",
          "name": "stderr",
          "text": [
            "100%|██████████| 938/938 [00:15<00:00, 62.32it/s, accuracy=1, loss=0.0408, lr=0.0002]\n"
          ]
        },
        {
          "output_type": "stream",
          "name": "stdout",
          "text": [
            "Epoch 1, Val Loss: 0.18200375050140224, Val Accuracy: 0.948546974522293\n"
          ]
        },
        {
          "output_type": "stream",
          "name": "stderr",
          "text": [
            "100%|██████████| 938/938 [00:15<00:00, 58.76it/s, accuracy=0.875, loss=0.367, lr=0.00016]\n"
          ]
        },
        {
          "output_type": "stream",
          "name": "stdout",
          "text": [
            "Epoch 2, Val Loss: 0.12366194087733176, Val Accuracy: 0.9625796178343949\n"
          ]
        },
        {
          "output_type": "stream",
          "name": "stderr",
          "text": [
            "100%|██████████| 938/938 [00:15<00:00, 62.17it/s, accuracy=1, loss=0.0248, lr=0.000128]\n"
          ]
        },
        {
          "output_type": "stream",
          "name": "stdout",
          "text": [
            "Epoch 3, Val Loss: 0.09775582525232558, Val Accuracy: 0.9709394904458599\n"
          ]
        },
        {
          "output_type": "stream",
          "name": "stderr",
          "text": [
            "100%|██████████| 938/938 [00:15<00:00, 62.40it/s, accuracy=0.969, loss=0.0793, lr=0.000102]\n"
          ]
        },
        {
          "output_type": "stream",
          "name": "stdout",
          "text": [
            "Epoch 4, Val Loss: 0.08831097605077633, Val Accuracy: 0.971437101910828\n"
          ]
        },
        {
          "output_type": "stream",
          "name": "stderr",
          "text": [
            "100%|██████████| 938/938 [00:16<00:00, 58.47it/s, accuracy=1, loss=0.00568, lr=8.19e-5]\n"
          ]
        },
        {
          "output_type": "stream",
          "name": "stdout",
          "text": [
            "Epoch 5, Val Loss: 0.08067609585642185, Val Accuracy: 0.9739251592356688\n",
            "LR: 0.0002 Gamma: 0.8 Hdim: 256 Best Accuracy: 0.9739251592356688\n"
          ]
        },
        {
          "output_type": "stream",
          "name": "stderr",
          "text": [
            "100%|██████████| 938/938 [00:14<00:00, 62.57it/s, accuracy=0.938, loss=0.136, lr=0.0002]\n"
          ]
        },
        {
          "output_type": "stream",
          "name": "stdout",
          "text": [
            "Epoch 1, Val Loss: 0.25346964880064793, Val Accuracy: 0.9266520700636943\n"
          ]
        },
        {
          "output_type": "stream",
          "name": "stderr",
          "text": [
            "100%|██████████| 938/938 [00:15<00:00, 62.05it/s, accuracy=0.938, loss=0.289, lr=0.00018]\n"
          ]
        },
        {
          "output_type": "stream",
          "name": "stdout",
          "text": [
            "Epoch 2, Val Loss: 0.19540891957700632, Val Accuracy: 0.9423765923566879\n"
          ]
        },
        {
          "output_type": "stream",
          "name": "stderr",
          "text": [
            "100%|██████████| 938/938 [00:15<00:00, 60.78it/s, accuracy=0.938, loss=0.194, lr=0.000162]\n"
          ]
        },
        {
          "output_type": "stream",
          "name": "stdout",
          "text": [
            "Epoch 3, Val Loss: 0.14697432232676608, Val Accuracy: 0.9563097133757962\n"
          ]
        },
        {
          "output_type": "stream",
          "name": "stderr",
          "text": [
            "100%|██████████| 938/938 [00:15<00:00, 61.94it/s, accuracy=1, loss=0.023, lr=0.000146]\n"
          ]
        },
        {
          "output_type": "stream",
          "name": "stdout",
          "text": [
            "Epoch 4, Val Loss: 0.12716912634368202, Val Accuracy: 0.9598925159235668\n"
          ]
        },
        {
          "output_type": "stream",
          "name": "stderr",
          "text": [
            "100%|██████████| 938/938 [00:15<00:00, 61.06it/s, accuracy=1, loss=0.0529, lr=0.000131]\n"
          ]
        },
        {
          "output_type": "stream",
          "name": "stdout",
          "text": [
            "Epoch 5, Val Loss: 0.1096566090935687, Val Accuracy: 0.9651671974522293\n",
            "LR: 0.0002 Gamma: 0.9 Hdim: 64 Best Accuracy: 0.9651671974522293\n"
          ]
        },
        {
          "output_type": "stream",
          "name": "stderr",
          "text": [
            "100%|██████████| 938/938 [00:15<00:00, 61.85it/s, accuracy=0.875, loss=0.274, lr=0.0002]\n"
          ]
        },
        {
          "output_type": "stream",
          "name": "stdout",
          "text": [
            "Epoch 1, Val Loss: 0.20217574968530683, Val Accuracy: 0.9417794585987261\n"
          ]
        },
        {
          "output_type": "stream",
          "name": "stderr",
          "text": [
            "100%|██████████| 938/938 [00:15<00:00, 61.10it/s, accuracy=1, loss=0.0781, lr=0.00018]\n"
          ]
        },
        {
          "output_type": "stream",
          "name": "stdout",
          "text": [
            "Epoch 2, Val Loss: 0.14685676535472844, Val Accuracy: 0.9575039808917197\n"
          ]
        },
        {
          "output_type": "stream",
          "name": "stderr",
          "text": [
            "100%|██████████| 938/938 [00:15<00:00, 59.49it/s, accuracy=0.938, loss=0.116, lr=0.000162]\n"
          ]
        },
        {
          "output_type": "stream",
          "name": "stdout",
          "text": [
            "Epoch 3, Val Loss: 0.1151969745498637, Val Accuracy: 0.9655652866242038\n"
          ]
        },
        {
          "output_type": "stream",
          "name": "stderr",
          "text": [
            "100%|██████████| 938/938 [00:15<00:00, 61.70it/s, accuracy=0.969, loss=0.0552, lr=0.000146]\n"
          ]
        },
        {
          "output_type": "stream",
          "name": "stdout",
          "text": [
            "Epoch 4, Val Loss: 0.1159010350772411, Val Accuracy: 0.9637738853503185\n"
          ]
        },
        {
          "output_type": "stream",
          "name": "stderr",
          "text": [
            "100%|██████████| 938/938 [00:15<00:00, 62.39it/s, accuracy=1, loss=0.0434, lr=0.000131]\n"
          ]
        },
        {
          "output_type": "stream",
          "name": "stdout",
          "text": [
            "Epoch 5, Val Loss: 0.10195070593232278, Val Accuracy: 0.9694466560509554\n",
            "LR: 0.0002 Gamma: 0.9 Hdim: 128 Best Accuracy: 0.9694466560509554\n"
          ]
        },
        {
          "output_type": "stream",
          "name": "stderr",
          "text": [
            "100%|██████████| 938/938 [00:16<00:00, 58.39it/s, accuracy=1, loss=0.0408, lr=0.0002]\n"
          ]
        },
        {
          "output_type": "stream",
          "name": "stdout",
          "text": [
            "Epoch 1, Val Loss: 0.18200375050140224, Val Accuracy: 0.948546974522293\n"
          ]
        },
        {
          "output_type": "stream",
          "name": "stderr",
          "text": [
            "100%|██████████| 938/938 [00:15<00:00, 61.56it/s, accuracy=0.906, loss=0.349, lr=0.00018]\n"
          ]
        },
        {
          "output_type": "stream",
          "name": "stdout",
          "text": [
            "Epoch 2, Val Loss: 0.12164672105691758, Val Accuracy: 0.9635748407643312\n"
          ]
        },
        {
          "output_type": "stream",
          "name": "stderr",
          "text": [
            "100%|██████████| 938/938 [00:15<00:00, 61.63it/s, accuracy=1, loss=0.0326, lr=0.000162]\n"
          ]
        },
        {
          "output_type": "stream",
          "name": "stdout",
          "text": [
            "Epoch 3, Val Loss: 0.10366961976459879, Val Accuracy: 0.9679538216560509\n"
          ]
        },
        {
          "output_type": "stream",
          "name": "stderr",
          "text": [
            "100%|██████████| 938/938 [00:15<00:00, 58.99it/s, accuracy=0.969, loss=0.0759, lr=0.000146]\n"
          ]
        },
        {
          "output_type": "stream",
          "name": "stdout",
          "text": [
            "Epoch 4, Val Loss: 0.092157949357602, Val Accuracy: 0.9709394904458599\n"
          ]
        },
        {
          "output_type": "stream",
          "name": "stderr",
          "text": [
            "100%|██████████| 938/938 [00:15<00:00, 61.49it/s, accuracy=1, loss=0.00604, lr=0.000131]\n"
          ]
        },
        {
          "output_type": "stream",
          "name": "stdout",
          "text": [
            "Epoch 5, Val Loss: 0.08397242509734752, Val Accuracy: 0.972531847133758\n",
            "LR: 0.0002 Gamma: 0.9 Hdim: 256 Best Accuracy: 0.972531847133758\n"
          ]
        },
        {
          "output_type": "stream",
          "name": "stderr",
          "text": [
            "100%|██████████| 938/938 [00:15<00:00, 60.21it/s, accuracy=1, loss=0.0863, lr=0.003]\n"
          ]
        },
        {
          "output_type": "stream",
          "name": "stdout",
          "text": [
            "Epoch 1, Val Loss: 0.250932510082082, Val Accuracy: 0.9235668789808917\n"
          ]
        },
        {
          "output_type": "stream",
          "name": "stderr",
          "text": [
            "100%|██████████| 938/938 [00:15<00:00, 60.74it/s, accuracy=0.938, loss=0.344, lr=0.0024]\n"
          ]
        },
        {
          "output_type": "stream",
          "name": "stdout",
          "text": [
            "Epoch 2, Val Loss: 0.18477196381338368, Val Accuracy: 0.944765127388535\n"
          ]
        },
        {
          "output_type": "stream",
          "name": "stderr",
          "text": [
            "100%|██████████| 938/938 [00:23<00:00, 40.05it/s, accuracy=0.969, loss=0.129, lr=0.00192]\n"
          ]
        },
        {
          "output_type": "stream",
          "name": "stdout",
          "text": [
            "Epoch 3, Val Loss: 0.18973525783201312, Val Accuracy: 0.9456608280254777\n"
          ]
        },
        {
          "output_type": "stream",
          "name": "stderr",
          "text": [
            "100%|██████████| 938/938 [00:15<00:00, 60.70it/s, accuracy=1, loss=0.0239, lr=0.00154]\n"
          ]
        },
        {
          "output_type": "stream",
          "name": "stdout",
          "text": [
            "Epoch 4, Val Loss: 0.15911573947149263, Val Accuracy: 0.9528264331210191\n"
          ]
        },
        {
          "output_type": "stream",
          "name": "stderr",
          "text": [
            "100%|██████████| 938/938 [00:17<00:00, 54.44it/s, accuracy=0.969, loss=0.0875, lr=0.00123]\n"
          ]
        },
        {
          "output_type": "stream",
          "name": "stdout",
          "text": [
            "Epoch 5, Val Loss: 0.1465117485080045, Val Accuracy: 0.9559116242038217\n",
            "LR: 0.003 Gamma: 0.8 Hdim: 64 Best Accuracy: 0.9559116242038217\n"
          ]
        },
        {
          "output_type": "stream",
          "name": "stderr",
          "text": [
            "100%|██████████| 938/938 [00:15<00:00, 61.32it/s, accuracy=0.875, loss=0.489, lr=0.003]\n"
          ]
        },
        {
          "output_type": "stream",
          "name": "stdout",
          "text": [
            "Epoch 1, Val Loss: 0.3396604891605438, Val Accuracy: 0.8953025477707006\n"
          ]
        },
        {
          "output_type": "stream",
          "name": "stderr",
          "text": [
            "100%|██████████| 938/938 [00:15<00:00, 59.19it/s, accuracy=0.906, loss=0.305, lr=0.0024]\n"
          ]
        },
        {
          "output_type": "stream",
          "name": "stdout",
          "text": [
            "Epoch 2, Val Loss: 0.2590426906978913, Val Accuracy: 0.9213773885350318\n"
          ]
        },
        {
          "output_type": "stream",
          "name": "stderr",
          "text": [
            "100%|██████████| 938/938 [00:15<00:00, 60.96it/s, accuracy=0.875, loss=0.334, lr=0.00192]\n"
          ]
        },
        {
          "output_type": "stream",
          "name": "stdout",
          "text": [
            "Epoch 3, Val Loss: 0.22404395827465945, Val Accuracy: 0.9317277070063694\n"
          ]
        },
        {
          "output_type": "stream",
          "name": "stderr",
          "text": [
            "100%|██████████| 938/938 [00:15<00:00, 60.13it/s, accuracy=1, loss=0.0396, lr=0.00154]\n"
          ]
        },
        {
          "output_type": "stream",
          "name": "stdout",
          "text": [
            "Epoch 4, Val Loss: 0.1954145299235157, Val Accuracy: 0.9405851910828026\n"
          ]
        },
        {
          "output_type": "stream",
          "name": "stderr",
          "text": [
            "100%|██████████| 938/938 [00:15<00:00, 62.16it/s, accuracy=0.969, loss=0.0987, lr=0.00123]\n"
          ]
        },
        {
          "output_type": "stream",
          "name": "stdout",
          "text": [
            "Epoch 5, Val Loss: 0.1686970511878467, Val Accuracy: 0.9489450636942676\n",
            "LR: 0.003 Gamma: 0.8 Hdim: 128 Best Accuracy: 0.9489450636942676\n"
          ]
        },
        {
          "output_type": "stream",
          "name": "stderr",
          "text": [
            "100%|██████████| 938/938 [00:15<00:00, 61.23it/s, accuracy=0.906, loss=0.326, lr=0.003]\n"
          ]
        },
        {
          "output_type": "stream",
          "name": "stdout",
          "text": [
            "Epoch 1, Val Loss: 0.4024600749894692, Val Accuracy: 0.8821656050955414\n"
          ]
        },
        {
          "output_type": "stream",
          "name": "stderr",
          "text": [
            "100%|██████████| 938/938 [00:16<00:00, 57.78it/s, accuracy=0.875, loss=0.74, lr=0.0024]\n"
          ]
        },
        {
          "output_type": "stream",
          "name": "stdout",
          "text": [
            "Epoch 2, Val Loss: 0.30768914171346246, Val Accuracy: 0.9091361464968153\n"
          ]
        },
        {
          "output_type": "stream",
          "name": "stderr",
          "text": [
            "100%|██████████| 938/938 [00:15<00:00, 61.57it/s, accuracy=0.938, loss=0.184, lr=0.00192]\n"
          ]
        },
        {
          "output_type": "stream",
          "name": "stdout",
          "text": [
            "Epoch 3, Val Loss: 0.2709379071491373, Val Accuracy: 0.923765923566879\n"
          ]
        },
        {
          "output_type": "stream",
          "name": "stderr",
          "text": [
            "100%|██████████| 938/938 [00:15<00:00, 59.93it/s, accuracy=0.938, loss=0.124, lr=0.00154]\n"
          ]
        },
        {
          "output_type": "stream",
          "name": "stdout",
          "text": [
            "Epoch 4, Val Loss: 0.22873374791281997, Val Accuracy: 0.9326234076433121\n"
          ]
        },
        {
          "output_type": "stream",
          "name": "stderr",
          "text": [
            "100%|██████████| 938/938 [00:15<00:00, 58.83it/s, accuracy=0.938, loss=0.472, lr=0.00123]\n"
          ]
        },
        {
          "output_type": "stream",
          "name": "stdout",
          "text": [
            "Epoch 5, Val Loss: 0.19372019018817715, Val Accuracy: 0.9441679936305732\n",
            "LR: 0.003 Gamma: 0.8 Hdim: 256 Best Accuracy: 0.9441679936305732\n"
          ]
        },
        {
          "output_type": "stream",
          "name": "stderr",
          "text": [
            "100%|██████████| 938/938 [00:15<00:00, 60.76it/s, accuracy=1, loss=0.0863, lr=0.003]\n"
          ]
        },
        {
          "output_type": "stream",
          "name": "stdout",
          "text": [
            "Epoch 1, Val Loss: 0.250932510082082, Val Accuracy: 0.9235668789808917\n"
          ]
        },
        {
          "output_type": "stream",
          "name": "stderr",
          "text": [
            "100%|██████████| 938/938 [00:16<00:00, 57.61it/s, accuracy=0.969, loss=0.307, lr=0.0027]\n"
          ]
        },
        {
          "output_type": "stream",
          "name": "stdout",
          "text": [
            "Epoch 2, Val Loss: 0.22512260490767422, Val Accuracy: 0.9295382165605095\n"
          ]
        },
        {
          "output_type": "stream",
          "name": "stderr",
          "text": [
            "100%|██████████| 938/938 [00:15<00:00, 59.87it/s, accuracy=0.906, loss=0.266, lr=0.00243]\n"
          ]
        },
        {
          "output_type": "stream",
          "name": "stdout",
          "text": [
            "Epoch 3, Val Loss: 0.20331814524029518, Val Accuracy: 0.9372014331210191\n"
          ]
        },
        {
          "output_type": "stream",
          "name": "stderr",
          "text": [
            "100%|██████████| 938/938 [00:15<00:00, 59.08it/s, accuracy=1, loss=0.0395, lr=0.00219]\n"
          ]
        },
        {
          "output_type": "stream",
          "name": "stdout",
          "text": [
            "Epoch 4, Val Loss: 0.1911287253342901, Val Accuracy: 0.9429737261146497\n"
          ]
        },
        {
          "output_type": "stream",
          "name": "stderr",
          "text": [
            "100%|██████████| 938/938 [00:16<00:00, 58.58it/s, accuracy=0.906, loss=0.205, lr=0.00197]\n"
          ]
        },
        {
          "output_type": "stream",
          "name": "stdout",
          "text": [
            "Epoch 5, Val Loss: 0.15555397829761622, Val Accuracy: 0.9563097133757962\n",
            "LR: 0.003 Gamma: 0.9 Hdim: 64 Best Accuracy: 0.9563097133757962\n"
          ]
        },
        {
          "output_type": "stream",
          "name": "stderr",
          "text": [
            "100%|██████████| 938/938 [00:15<00:00, 59.10it/s, accuracy=0.875, loss=0.489, lr=0.003]\n"
          ]
        },
        {
          "output_type": "stream",
          "name": "stdout",
          "text": [
            "Epoch 1, Val Loss: 0.3396604891605438, Val Accuracy: 0.8953025477707006\n"
          ]
        },
        {
          "output_type": "stream",
          "name": "stderr",
          "text": [
            "100%|██████████| 938/938 [00:16<00:00, 56.69it/s, accuracy=0.938, loss=0.234, lr=0.0027]\n"
          ]
        },
        {
          "output_type": "stream",
          "name": "stdout",
          "text": [
            "Epoch 2, Val Loss: 0.2899666372567985, Val Accuracy: 0.913515127388535\n"
          ]
        },
        {
          "output_type": "stream",
          "name": "stderr",
          "text": [
            "100%|██████████| 938/938 [00:15<00:00, 60.70it/s, accuracy=0.812, loss=0.408, lr=0.00243]\n"
          ]
        },
        {
          "output_type": "stream",
          "name": "stdout",
          "text": [
            "Epoch 3, Val Loss: 0.2457494229066429, Val Accuracy: 0.9289410828025477\n"
          ]
        },
        {
          "output_type": "stream",
          "name": "stderr",
          "text": [
            "100%|██████████| 938/938 [00:15<00:00, 60.03it/s, accuracy=0.938, loss=0.25, lr=0.00219]\n"
          ]
        },
        {
          "output_type": "stream",
          "name": "stdout",
          "text": [
            "Epoch 4, Val Loss: 0.2514370954506526, Val Accuracy: 0.9226711783439491\n"
          ]
        },
        {
          "output_type": "stream",
          "name": "stderr",
          "text": [
            "100%|██████████| 938/938 [00:16<00:00, 58.59it/s, accuracy=0.969, loss=0.111, lr=0.00197]\n"
          ]
        },
        {
          "output_type": "stream",
          "name": "stdout",
          "text": [
            "Epoch 5, Val Loss: 0.2009156067873452, Val Accuracy: 0.9421775477707006\n",
            "LR: 0.003 Gamma: 0.9 Hdim: 128 Best Accuracy: 0.9421775477707006\n"
          ]
        },
        {
          "output_type": "stream",
          "name": "stderr",
          "text": [
            "100%|██████████| 938/938 [00:15<00:00, 59.97it/s, accuracy=0.906, loss=0.326, lr=0.003]\n"
          ]
        },
        {
          "output_type": "stream",
          "name": "stdout",
          "text": [
            "Epoch 1, Val Loss: 0.4024600749894692, Val Accuracy: 0.8821656050955414\n"
          ]
        },
        {
          "output_type": "stream",
          "name": "stderr",
          "text": [
            "100%|██████████| 938/938 [00:16<00:00, 58.19it/s, accuracy=0.781, loss=0.837, lr=0.0027]\n"
          ]
        },
        {
          "output_type": "stream",
          "name": "stdout",
          "text": [
            "Epoch 2, Val Loss: 0.3483821563778599, Val Accuracy: 0.8984872611464968\n"
          ]
        },
        {
          "output_type": "stream",
          "name": "stderr",
          "text": [
            "100%|██████████| 938/938 [00:15<00:00, 60.36it/s, accuracy=0.969, loss=0.0744, lr=0.00243]\n"
          ]
        },
        {
          "output_type": "stream",
          "name": "stdout",
          "text": [
            "Epoch 3, Val Loss: 0.29498890975407166, Val Accuracy: 0.915406050955414\n"
          ]
        },
        {
          "output_type": "stream",
          "name": "stderr",
          "text": [
            "100%|██████████| 938/938 [00:15<00:00, 60.14it/s, accuracy=0.906, loss=0.201, lr=0.00219]\n"
          ]
        },
        {
          "output_type": "stream",
          "name": "stdout",
          "text": [
            "Epoch 4, Val Loss: 0.2758571915031903, Val Accuracy: 0.9171974522292994\n"
          ]
        },
        {
          "output_type": "stream",
          "name": "stderr",
          "text": [
            "100%|██████████| 938/938 [00:16<00:00, 57.75it/s, accuracy=0.938, loss=0.0972, lr=0.00197]\n"
          ]
        },
        {
          "output_type": "stream",
          "name": "stdout",
          "text": [
            "Epoch 5, Val Loss: 0.2522831334699847, Val Accuracy: 0.9257563694267515\n",
            "LR: 0.003 Gamma: 0.9 Hdim: 256 Best Accuracy: 0.9257563694267515\n"
          ]
        },
        {
          "output_type": "stream",
          "name": "stderr",
          "text": [
            "100%|██████████| 938/938 [00:15<00:00, 60.73it/s, accuracy=0.0938, loss=4.5, lr=0.04]\n"
          ]
        },
        {
          "output_type": "stream",
          "name": "stdout",
          "text": [
            "Epoch 1, Val Loss: 4.3142813588403595, Val Accuracy: 0.0986265923566879\n"
          ]
        },
        {
          "output_type": "stream",
          "name": "stderr",
          "text": [
            "100%|██████████| 938/938 [00:15<00:00, 59.98it/s, accuracy=0.0625, loss=4.02, lr=0.032]\n"
          ]
        },
        {
          "output_type": "stream",
          "name": "stdout",
          "text": [
            "Epoch 2, Val Loss: 3.7763939404943185, Val Accuracy: 0.10021894904458599\n"
          ]
        },
        {
          "output_type": "stream",
          "name": "stderr",
          "text": [
            "100%|██████████| 938/938 [00:15<00:00, 60.73it/s, accuracy=0.0625, loss=4.12, lr=0.0256]\n"
          ]
        },
        {
          "output_type": "stream",
          "name": "stdout",
          "text": [
            "Epoch 3, Val Loss: 3.543735844314478, Val Accuracy: 0.09454617834394904\n"
          ]
        },
        {
          "output_type": "stream",
          "name": "stderr",
          "text": [
            "100%|██████████| 938/938 [00:15<00:00, 59.99it/s, accuracy=0.0625, loss=3.06, lr=0.0205]\n"
          ]
        },
        {
          "output_type": "stream",
          "name": "stdout",
          "text": [
            "Epoch 4, Val Loss: 3.0999352795303246, Val Accuracy: 0.09783041401273886\n"
          ]
        },
        {
          "output_type": "stream",
          "name": "stderr",
          "text": [
            "100%|██████████| 938/938 [00:16<00:00, 57.24it/s, accuracy=0.0625, loss=3.33, lr=0.0164]\n"
          ]
        },
        {
          "output_type": "stream",
          "name": "stdout",
          "text": [
            "Epoch 5, Val Loss: 2.8347772337069177, Val Accuracy: 0.10857882165605096\n",
            "LR: 0.04 Gamma: 0.8 Hdim: 64 Best Accuracy: 0.10857882165605096\n"
          ]
        },
        {
          "output_type": "stream",
          "name": "stderr",
          "text": [
            "100%|██████████| 938/938 [00:15<00:00, 59.96it/s, accuracy=0.156, loss=5.72, lr=0.04]\n"
          ]
        },
        {
          "output_type": "stream",
          "name": "stdout",
          "text": [
            "Epoch 1, Val Loss: 7.295922540555335, Val Accuracy: 0.10519506369426751\n"
          ]
        },
        {
          "output_type": "stream",
          "name": "stderr",
          "text": [
            "100%|██████████| 938/938 [00:15<00:00, 60.76it/s, accuracy=0.0938, loss=6.2, lr=0.032]\n"
          ]
        },
        {
          "output_type": "stream",
          "name": "stdout",
          "text": [
            "Epoch 2, Val Loss: 5.943969550406098, Val Accuracy: 0.09952229299363058\n"
          ]
        },
        {
          "output_type": "stream",
          "name": "stderr",
          "text": [
            "100%|██████████| 938/938 [00:15<00:00, 58.63it/s, accuracy=0.188, loss=4.77, lr=0.0256]\n"
          ]
        },
        {
          "output_type": "stream",
          "name": "stdout",
          "text": [
            "Epoch 3, Val Loss: 5.012116647829675, Val Accuracy: 0.09783041401273886\n"
          ]
        },
        {
          "output_type": "stream",
          "name": "stderr",
          "text": [
            "100%|██████████| 938/938 [00:15<00:00, 58.77it/s, accuracy=0.125, loss=4.89, lr=0.0205]\n"
          ]
        },
        {
          "output_type": "stream",
          "name": "stdout",
          "text": [
            "Epoch 4, Val Loss: 4.359212158591884, Val Accuracy: 0.10191082802547771\n"
          ]
        },
        {
          "output_type": "stream",
          "name": "stderr",
          "text": [
            "100%|██████████| 938/938 [00:15<00:00, 58.80it/s, accuracy=0.0625, loss=3.6, lr=0.0164]\n"
          ]
        },
        {
          "output_type": "stream",
          "name": "stdout",
          "text": [
            "Epoch 5, Val Loss: 3.768753032016147, Val Accuracy: 0.10310509554140128\n",
            "LR: 0.04 Gamma: 0.8 Hdim: 128 Best Accuracy: 0.10519506369426751\n"
          ]
        },
        {
          "output_type": "stream",
          "name": "stderr",
          "text": [
            "100%|██████████| 938/938 [00:15<00:00, 60.06it/s, accuracy=0.0312, loss=16.9, lr=0.04]\n"
          ]
        },
        {
          "output_type": "stream",
          "name": "stdout",
          "text": [
            "Epoch 1, Val Loss: 14.297850639197478, Val Accuracy: 0.09375\n"
          ]
        },
        {
          "output_type": "stream",
          "name": "stderr",
          "text": [
            "100%|██████████| 938/938 [00:15<00:00, 60.23it/s, accuracy=0.125, loss=9.48, lr=0.032]\n"
          ]
        },
        {
          "output_type": "stream",
          "name": "stdout",
          "text": [
            "Epoch 2, Val Loss: 11.862100807724484, Val Accuracy: 0.09564092356687898\n"
          ]
        },
        {
          "output_type": "stream",
          "name": "stderr",
          "text": [
            "100%|██████████| 938/938 [00:16<00:00, 58.00it/s, accuracy=0.125, loss=8.06, lr=0.0256]\n"
          ]
        },
        {
          "output_type": "stream",
          "name": "stdout",
          "text": [
            "Epoch 3, Val Loss: 9.078603121885068, Val Accuracy: 0.10201035031847133\n"
          ]
        },
        {
          "output_type": "stream",
          "name": "stderr",
          "text": [
            "100%|██████████| 938/938 [00:15<00:00, 59.52it/s, accuracy=0.125, loss=6.61, lr=0.0205]\n"
          ]
        },
        {
          "output_type": "stream",
          "name": "stdout",
          "text": [
            "Epoch 4, Val Loss: 7.464066915451341, Val Accuracy: 0.10001990445859872\n"
          ]
        },
        {
          "output_type": "stream",
          "name": "stderr",
          "text": [
            "100%|██████████| 938/938 [00:15<00:00, 58.91it/s, accuracy=0.125, loss=6.06, lr=0.0164]\n"
          ]
        },
        {
          "output_type": "stream",
          "name": "stdout",
          "text": [
            "Epoch 5, Val Loss: 6.327809916939705, Val Accuracy: 0.0973328025477707\n",
            "LR: 0.04 Gamma: 0.8 Hdim: 256 Best Accuracy: 0.10201035031847133\n"
          ]
        },
        {
          "output_type": "stream",
          "name": "stderr",
          "text": [
            "100%|██████████| 938/938 [00:15<00:00, 60.50it/s, accuracy=0.0938, loss=4.5, lr=0.04]\n"
          ]
        },
        {
          "output_type": "stream",
          "name": "stdout",
          "text": [
            "Epoch 1, Val Loss: 4.3142813588403595, Val Accuracy: 0.0986265923566879\n"
          ]
        },
        {
          "output_type": "stream",
          "name": "stderr",
          "text": [
            "100%|██████████| 938/938 [00:15<00:00, 60.16it/s, accuracy=0.156, loss=3.25, lr=0.036]\n"
          ]
        },
        {
          "output_type": "stream",
          "name": "stdout",
          "text": [
            "Epoch 2, Val Loss: 4.077454279942118, Val Accuracy: 0.09872611464968153\n"
          ]
        },
        {
          "output_type": "stream",
          "name": "stderr",
          "text": [
            "100%|██████████| 938/938 [00:16<00:00, 57.28it/s, accuracy=0.0938, loss=4.36, lr=0.0324]\n"
          ]
        },
        {
          "output_type": "stream",
          "name": "stdout",
          "text": [
            "Epoch 3, Val Loss: 3.7377662051255536, Val Accuracy: 0.10340366242038217\n"
          ]
        },
        {
          "output_type": "stream",
          "name": "stderr",
          "text": [
            "100%|██████████| 938/938 [00:15<00:00, 60.05it/s, accuracy=0.0312, loss=3.68, lr=0.0292]\n"
          ]
        },
        {
          "output_type": "stream",
          "name": "stdout",
          "text": [
            "Epoch 4, Val Loss: 3.8075769190575666, Val Accuracy: 0.09802945859872611\n"
          ]
        },
        {
          "output_type": "stream",
          "name": "stderr",
          "text": [
            "100%|██████████| 938/938 [00:15<00:00, 60.10it/s, accuracy=0.0625, loss=3.64, lr=0.0262]\n"
          ]
        },
        {
          "output_type": "stream",
          "name": "stdout",
          "text": [
            "Epoch 5, Val Loss: 3.5155455595368794, Val Accuracy: 0.09832802547770701\n",
            "LR: 0.04 Gamma: 0.9 Hdim: 64 Best Accuracy: 0.10340366242038217\n"
          ]
        },
        {
          "output_type": "stream",
          "name": "stderr",
          "text": [
            "100%|██████████| 938/938 [00:15<00:00, 58.64it/s, accuracy=0.156, loss=5.72, lr=0.04]\n"
          ]
        },
        {
          "output_type": "stream",
          "name": "stdout",
          "text": [
            "Epoch 1, Val Loss: 7.295922540555335, Val Accuracy: 0.10519506369426751\n"
          ]
        },
        {
          "output_type": "stream",
          "name": "stderr",
          "text": [
            "100%|██████████| 938/938 [00:15<00:00, 60.42it/s, accuracy=0.156, loss=5.83, lr=0.036]\n"
          ]
        },
        {
          "output_type": "stream",
          "name": "stdout",
          "text": [
            "Epoch 2, Val Loss: 6.798417765623445, Val Accuracy: 0.09514331210191083\n"
          ]
        },
        {
          "output_type": "stream",
          "name": "stderr",
          "text": [
            "100%|██████████| 938/938 [00:15<00:00, 59.12it/s, accuracy=0.0625, loss=6.6, lr=0.0324]\n"
          ]
        },
        {
          "output_type": "stream",
          "name": "stdout",
          "text": [
            "Epoch 3, Val Loss: 6.103587065532708, Val Accuracy: 0.10240843949044585\n"
          ]
        },
        {
          "output_type": "stream",
          "name": "stderr",
          "text": [
            "100%|██████████| 938/938 [00:15<00:00, 60.80it/s, accuracy=0.0625, loss=6.08, lr=0.0292]\n"
          ]
        },
        {
          "output_type": "stream",
          "name": "stdout",
          "text": [
            "Epoch 4, Val Loss: 5.626253179683807, Val Accuracy: 0.09912420382165606\n"
          ]
        },
        {
          "output_type": "stream",
          "name": "stderr",
          "text": [
            "100%|██████████| 938/938 [00:15<00:00, 60.24it/s, accuracy=0.188, loss=5.16, lr=0.0262]\n"
          ]
        },
        {
          "output_type": "stream",
          "name": "stdout",
          "text": [
            "Epoch 5, Val Loss: 5.228168372136013, Val Accuracy: 0.10101512738853503\n",
            "LR: 0.04 Gamma: 0.9 Hdim: 128 Best Accuracy: 0.10519506369426751\n"
          ]
        },
        {
          "output_type": "stream",
          "name": "stderr",
          "text": [
            "100%|██████████| 938/938 [00:16<00:00, 56.19it/s, accuracy=0.0312, loss=16.9, lr=0.04]\n"
          ]
        },
        {
          "output_type": "stream",
          "name": "stdout",
          "text": [
            "Epoch 1, Val Loss: 14.297850639197478, Val Accuracy: 0.09375\n"
          ]
        },
        {
          "output_type": "stream",
          "name": "stderr",
          "text": [
            "100%|██████████| 938/938 [00:15<00:00, 60.42it/s, accuracy=0.0938, loss=11, lr=0.036]\n"
          ]
        },
        {
          "output_type": "stream",
          "name": "stdout",
          "text": [
            "Epoch 2, Val Loss: 13.85064922016897, Val Accuracy: 0.09345143312101911\n"
          ]
        },
        {
          "output_type": "stream",
          "name": "stderr",
          "text": [
            "100%|██████████| 938/938 [00:15<00:00, 59.72it/s, accuracy=0.156, loss=11.7, lr=0.0324]\n"
          ]
        },
        {
          "output_type": "stream",
          "name": "stdout",
          "text": [
            "Epoch 3, Val Loss: 11.771716263643496, Val Accuracy: 0.09643710191082802\n"
          ]
        },
        {
          "output_type": "stream",
          "name": "stderr",
          "text": [
            "100%|██████████| 938/938 [00:15<00:00, 59.90it/s, accuracy=0.0625, loss=11.6, lr=0.0292]\n"
          ]
        },
        {
          "output_type": "stream",
          "name": "stdout",
          "text": [
            "Epoch 4, Val Loss: 10.897317430775637, Val Accuracy: 0.09882563694267515\n"
          ]
        },
        {
          "output_type": "stream",
          "name": "stderr",
          "text": [
            "100%|██████████| 938/938 [00:15<00:00, 59.82it/s, accuracy=0.0625, loss=11.1, lr=0.0262]\n"
          ]
        },
        {
          "output_type": "stream",
          "name": "stdout",
          "text": [
            "Epoch 5, Val Loss: 9.63285962487482, Val Accuracy: 0.10390127388535032\n",
            "LR: 0.04 Gamma: 0.9 Hdim: 256 Best Accuracy: 0.10390127388535032\n"
          ]
        }
      ]
    },
    {
      "cell_type": "code",
      "source": [
        "import matplotlib.pyplot as plt\n",
        "\n",
        "epochs = 20\n",
        "lrs = [4e-2]\n",
        "gammas = [0.8]\n",
        "hdims = [128]\n",
        "best_accs = []\n",
        "\n",
        "for lr in lrs:\n",
        "    for gamma in gammas:\n",
        "        for hdim in hdims:\n",
        "            torch.manual_seed(42)\n",
        "            best_acc = 0\n",
        "\n",
        "            # Define model\n",
        "            model = SineKAN(layers_hidden=[28 * 28, hdim, 10], grid_size=8)\n",
        "            device = torch.device(\"cuda\" if torch.cuda.is_available() else \"cpu\")\n",
        "            model.to(device)\n",
        "\n",
        "            # Define optimizer\n",
        "            optimizer = optim.AdamW(model.parameters(), lr=lr)\n",
        "\n",
        "            # Define learning rate scheduler\n",
        "            scheduler = optim.lr_scheduler.ExponentialLR(optimizer, gamma=gamma)\n",
        "\n",
        "            # Define loss function\n",
        "            criterion = nn.CrossEntropyLoss()\n",
        "\n",
        "            # Lists to store validation loss and accuracy\n",
        "            val_losses = []\n",
        "            val_accuracies = []\n",
        "\n",
        "            for epoch in range(epochs):\n",
        "                model.train()\n",
        "                with tqdm(train_loader) as pbar:\n",
        "                    for i, (images, labels) in enumerate(pbar):\n",
        "                        images = images.view(-1, 28 * 28).to(device)\n",
        "                        optimizer.zero_grad()\n",
        "                        output = model(images)\n",
        "                        loss = criterion(output, labels.to(device))\n",
        "                        loss.backward()\n",
        "                        optimizer.step()\n",
        "                        accuracy = (output.argmax(dim=1) == labels.to(device)).float().mean()\n",
        "                        pbar.set_postfix(loss=loss.item(), accuracy=accuracy.item(), lr=optimizer.param_groups[0]['lr'])\n",
        "\n",
        "                # Validation\n",
        "                model.eval()\n",
        "                val_loss = 0\n",
        "                val_accuracy = 0\n",
        "                with torch.no_grad():\n",
        "                    for images, labels in val_loader:\n",
        "                        images = images.view(-1, 28 * 28).to(device)\n",
        "                        output = model(images)\n",
        "                        val_loss += criterion(output, labels.to(device)).item()\n",
        "                        val_accuracy += (\n",
        "                            (output.argmax(dim=1) == labels.to(device)).float().mean().item()\n",
        "                        )\n",
        "                val_loss /= len(val_loader)\n",
        "                val_accuracy /= len(val_loader)\n",
        "\n",
        "                # Append values to lists\n",
        "                val_losses.append(val_loss)\n",
        "                val_accuracies.append(val_accuracy)\n",
        "\n",
        "                if val_accuracy > best_acc:\n",
        "                    best_acc = val_accuracy\n",
        "\n",
        "                # Update learning rate\n",
        "                scheduler.step()\n",
        "\n",
        "                print(f\"Epoch {epoch + 1}, Val Loss: {val_loss:.4f}, Val Accuracy: {val_accuracy:.4f}\")\n",
        "\n",
        "            best_accs.append(best_acc)\n",
        "            print(f\"LR: {lr} Gamma: {gamma} Hdim: {hdim} Best Accuracy: {best_acc:.4f}\")\n",
        "\n",
        "            # Plot Validation Loss and Accuracy\n",
        "            plt.figure(figsize=(12, 5))\n",
        "\n",
        "            # Plot Loss\n",
        "            plt.subplot(1, 2, 1)\n",
        "            plt.plot(range(1, epochs + 1), val_losses, marker='o', label='Validation Loss', color='blue')\n",
        "            plt.xlabel('Epoch')\n",
        "            plt.ylabel('Loss')\n",
        "            plt.title('Validation Loss Over Epochs')\n",
        "            plt.legend()\n",
        "            plt.grid()\n",
        "\n",
        "            # Plot Accuracy\n",
        "            plt.subplot(1, 2, 2)\n",
        "            plt.plot(range(1, epochs + 1), val_accuracies, marker='o', label='Validation Accuracy', color='green')\n",
        "            plt.xlabel('Epoch')\n",
        "            plt.ylabel('Accuracy')\n",
        "            plt.title('Validation Accuracy Over Epochs')\n",
        "            plt.legend()\n",
        "            plt.grid()\n",
        "\n",
        "            plt.show()\n"
      ],
      "metadata": {
        "colab": {
          "base_uri": "https://localhost:8080/",
          "height": 1000
        },
        "id": "_Ywy25IkNYzs",
        "outputId": "8b0a75bf-392f-4187-fe43-df0ab2cb0fbb"
      },
      "execution_count": 9,
      "outputs": [
        {
          "output_type": "stream",
          "name": "stderr",
          "text": [
            "100%|██████████| 938/938 [00:15<00:00, 60.41it/s, accuracy=0.156, loss=5.72, lr=0.04]\n"
          ]
        },
        {
          "output_type": "stream",
          "name": "stdout",
          "text": [
            "Epoch 1, Val Loss: 7.2959, Val Accuracy: 0.1052\n"
          ]
        },
        {
          "output_type": "stream",
          "name": "stderr",
          "text": [
            "100%|██████████| 938/938 [00:16<00:00, 55.40it/s, accuracy=0.0938, loss=6.2, lr=0.032]\n"
          ]
        },
        {
          "output_type": "stream",
          "name": "stdout",
          "text": [
            "Epoch 2, Val Loss: 5.9440, Val Accuracy: 0.0995\n"
          ]
        },
        {
          "output_type": "stream",
          "name": "stderr",
          "text": [
            "100%|██████████| 938/938 [00:15<00:00, 59.27it/s, accuracy=0.188, loss=4.77, lr=0.0256]\n"
          ]
        },
        {
          "output_type": "stream",
          "name": "stdout",
          "text": [
            "Epoch 3, Val Loss: 5.0121, Val Accuracy: 0.0978\n"
          ]
        },
        {
          "output_type": "stream",
          "name": "stderr",
          "text": [
            "100%|██████████| 938/938 [00:15<00:00, 59.23it/s, accuracy=0.125, loss=4.89, lr=0.0205]\n"
          ]
        },
        {
          "output_type": "stream",
          "name": "stdout",
          "text": [
            "Epoch 4, Val Loss: 4.3592, Val Accuracy: 0.1019\n"
          ]
        },
        {
          "output_type": "stream",
          "name": "stderr",
          "text": [
            "100%|██████████| 938/938 [00:15<00:00, 59.04it/s, accuracy=0.0625, loss=3.6, lr=0.0164]\n"
          ]
        },
        {
          "output_type": "stream",
          "name": "stdout",
          "text": [
            "Epoch 5, Val Loss: 3.7688, Val Accuracy: 0.1031\n"
          ]
        },
        {
          "output_type": "stream",
          "name": "stderr",
          "text": [
            "100%|██████████| 938/938 [00:16<00:00, 57.79it/s, accuracy=0.0625, loss=4.06, lr=0.0131]\n"
          ]
        },
        {
          "output_type": "stream",
          "name": "stdout",
          "text": [
            "Epoch 6, Val Loss: 3.4369, Val Accuracy: 0.0991\n"
          ]
        },
        {
          "output_type": "stream",
          "name": "stderr",
          "text": [
            "100%|██████████| 938/938 [00:16<00:00, 57.13it/s, accuracy=0.0625, loss=3.15, lr=0.0105]\n"
          ]
        },
        {
          "output_type": "stream",
          "name": "stdout",
          "text": [
            "Epoch 7, Val Loss: 3.2133, Val Accuracy: 0.0980\n"
          ]
        },
        {
          "output_type": "stream",
          "name": "stderr",
          "text": [
            "100%|██████████| 938/938 [00:16<00:00, 58.50it/s, accuracy=0.0938, loss=2.68, lr=0.00839]\n"
          ]
        },
        {
          "output_type": "stream",
          "name": "stdout",
          "text": [
            "Epoch 8, Val Loss: 2.8744, Val Accuracy: 0.1208\n"
          ]
        },
        {
          "output_type": "stream",
          "name": "stderr",
          "text": [
            "100%|██████████| 938/938 [00:16<00:00, 55.47it/s, accuracy=0.562, loss=1.42, lr=0.00671]\n"
          ]
        },
        {
          "output_type": "stream",
          "name": "stdout",
          "text": [
            "Epoch 9, Val Loss: 1.6969, Val Accuracy: 0.4583\n"
          ]
        },
        {
          "output_type": "stream",
          "name": "stderr",
          "text": [
            "100%|██████████| 938/938 [00:15<00:00, 59.72it/s, accuracy=0.719, loss=0.58, lr=0.00537]\n"
          ]
        },
        {
          "output_type": "stream",
          "name": "stdout",
          "text": [
            "Epoch 10, Val Loss: 0.6985, Val Accuracy: 0.7732\n"
          ]
        },
        {
          "output_type": "stream",
          "name": "stderr",
          "text": [
            "100%|██████████| 938/938 [00:16<00:00, 58.37it/s, accuracy=0.875, loss=0.426, lr=0.00429]\n"
          ]
        },
        {
          "output_type": "stream",
          "name": "stdout",
          "text": [
            "Epoch 11, Val Loss: 0.6025, Val Accuracy: 0.8149\n"
          ]
        },
        {
          "output_type": "stream",
          "name": "stderr",
          "text": [
            "100%|██████████| 938/938 [00:16<00:00, 58.08it/s, accuracy=0.812, loss=0.774, lr=0.00344]\n"
          ]
        },
        {
          "output_type": "stream",
          "name": "stdout",
          "text": [
            "Epoch 12, Val Loss: 0.6071, Val Accuracy: 0.8071\n"
          ]
        },
        {
          "output_type": "stream",
          "name": "stderr",
          "text": [
            "100%|██████████| 938/938 [00:16<00:00, 58.58it/s, accuracy=0.875, loss=0.301, lr=0.00275]\n"
          ]
        },
        {
          "output_type": "stream",
          "name": "stdout",
          "text": [
            "Epoch 13, Val Loss: 0.3812, Val Accuracy: 0.8836\n"
          ]
        },
        {
          "output_type": "stream",
          "name": "stderr",
          "text": [
            "100%|██████████| 938/938 [00:16<00:00, 58.14it/s, accuracy=0.844, loss=0.497, lr=0.0022]\n"
          ]
        },
        {
          "output_type": "stream",
          "name": "stdout",
          "text": [
            "Epoch 14, Val Loss: 0.3400, Val Accuracy: 0.8977\n"
          ]
        },
        {
          "output_type": "stream",
          "name": "stderr",
          "text": [
            "100%|██████████| 938/938 [00:15<00:00, 59.13it/s, accuracy=0.906, loss=0.185, lr=0.00176]\n"
          ]
        },
        {
          "output_type": "stream",
          "name": "stdout",
          "text": [
            "Epoch 15, Val Loss: 0.3791, Val Accuracy: 0.8848\n"
          ]
        },
        {
          "output_type": "stream",
          "name": "stderr",
          "text": [
            "100%|██████████| 938/938 [00:16<00:00, 56.28it/s, accuracy=1, loss=0.0994, lr=0.00141]\n"
          ]
        },
        {
          "output_type": "stream",
          "name": "stdout",
          "text": [
            "Epoch 16, Val Loss: 0.2947, Val Accuracy: 0.9120\n"
          ]
        },
        {
          "output_type": "stream",
          "name": "stderr",
          "text": [
            "100%|██████████| 938/938 [00:15<00:00, 59.52it/s, accuracy=0.938, loss=0.114, lr=0.00113]\n"
          ]
        },
        {
          "output_type": "stream",
          "name": "stdout",
          "text": [
            "Epoch 17, Val Loss: 0.2624, Val Accuracy: 0.9225\n"
          ]
        },
        {
          "output_type": "stream",
          "name": "stderr",
          "text": [
            "100%|██████████| 938/938 [00:16<00:00, 55.89it/s, accuracy=0.875, loss=0.334, lr=0.000901]\n"
          ]
        },
        {
          "output_type": "stream",
          "name": "stdout",
          "text": [
            "Epoch 18, Val Loss: 0.2577, Val Accuracy: 0.9237\n"
          ]
        },
        {
          "output_type": "stream",
          "name": "stderr",
          "text": [
            "100%|██████████| 938/938 [00:16<00:00, 58.60it/s, accuracy=0.969, loss=0.107, lr=0.000721]\n"
          ]
        },
        {
          "output_type": "stream",
          "name": "stdout",
          "text": [
            "Epoch 19, Val Loss: 0.2503, Val Accuracy: 0.9231\n"
          ]
        },
        {
          "output_type": "stream",
          "name": "stderr",
          "text": [
            "100%|██████████| 938/938 [00:15<00:00, 59.19it/s, accuracy=0.875, loss=0.321, lr=0.000576]\n"
          ]
        },
        {
          "output_type": "stream",
          "name": "stdout",
          "text": [
            "Epoch 20, Val Loss: 0.2342, Val Accuracy: 0.9306\n",
            "LR: 0.04 Gamma: 0.8 Hdim: 128 Best Accuracy: 0.9306\n"
          ]
        },
        {
          "output_type": "display_data",
          "data": {
            "text/plain": [
              "<Figure size 1200x500 with 2 Axes>"
            ],
            "image/png": "[encoded data removed]"
          },
          "metadata": {}
        }
      ]
    },
    {
      "cell_type": "code",
      "source": [
        " #Weight Decay Regularization\n",
        "\n",
        "epochs = 5\n",
        "wds = [0.01, 0.1, 0.25, 0.5, 0.75, 1.]\n",
        "wd_accs = np.empty((6, epochs))\n",
        "for h, wd in enumerate(wds):\n",
        "    torch.manual_seed(42)\n",
        "    best_acc = 0\n",
        "    # Define model\n",
        "    model = SineKAN(layers_hidden=[28 * 28, hdim, 10], grid_size=8)\n",
        "    device = torch.device(\"cuda\" if torch.cuda.is_available() else \"cpu\")\n",
        "    model.to(device)\n",
        "    # Define optimizer\n",
        "    optimizer = optim.AdamW(model.parameters(), lr=4e-4, weight_decay=wd)\n",
        "    # Define learning rate scheduler\n",
        "    scheduler = optim.lr_scheduler.ExponentialLR(optimizer, gamma=gamma)\n",
        "\n",
        "    # Define loss\n",
        "    criterion = nn.CrossEntropyLoss()\n",
        "    for epoch in range(epochs):\n",
        "        # Train\n",
        "        model.train()\n",
        "        with tqdm(train_loader) as pbar:\n",
        "            for i, (images, labels) in enumerate(pbar):\n",
        "                images = images.view(-1, 28 * 28).to(device)\n",
        "                optimizer.zero_grad()\n",
        "                output = model(images)\n",
        "                loss = criterion(output, labels.to(device))\n",
        "                loss.backward()\n",
        "                optimizer.step()\n",
        "                accuracy = (output.argmax(dim=1) == labels.to(device)).float().mean()\n",
        "                pbar.set_postfix(loss=loss.item(), accuracy=accuracy.item(), lr=optimizer.param_groups[0]['lr'])\n",
        "\n",
        "        # Validation\n",
        "        model.eval()\n",
        "        val_loss = 0\n",
        "        val_accuracy = 0\n",
        "        with torch.no_grad():\n",
        "            for images, labels in val_loader:\n",
        "                images = images.view(-1, 28 * 28).to(device)\n",
        "                output = model(images)\n",
        "                val_loss += criterion(output, labels.to(device)).item()\n",
        "                val_accuracy += (\n",
        "                    (output.argmax(dim=1) == labels.to(device)).float().mean().item()\n",
        "                )\n",
        "\n",
        "        val_loss /= len(val_loader)\n",
        "        val_accuracy /= len(val_loader)\n",
        "        wd_accs[h, epoch] = val_accuracy\n",
        "\n",
        "        # Update learning rate\n",
        "        scheduler.step()\n",
        "\n",
        "        print(\n",
        "            f\"Epoch {epoch + 1}, Val Loss: {val_loss}, Val Accuracy: {val_accuracy}\"\n",
        "        )"
      ],
      "metadata": {
        "id": "ieJSOu0o41q5"
      },
      "execution_count": 4,
      "outputs": []
    },
    {
      "cell_type": "code",
      "source": [
        "# Checking best dims\n",
        "\n",
        "epochs = 5\n",
        "hdims = [16, 32, 64, 128, 256, 512]\n",
        "hdim_accs = np.empty((6, epochs))\n",
        "for h, hdim in enumerate(hdims):\n",
        "    torch.manual_seed(42)\n",
        "    # Define model\n",
        "    model = SineKAN(layers_hidden=[28 * 28, hdim, 10], grid_size=8)\n",
        "    device = torch.device(\"cuda\" if torch.cuda.is_available() else \"cpu\")\n",
        "    model.to(device)\n",
        "    # Define optimizer\n",
        "    optimizer = optim.AdamW(model.parameters(), lr=4e-4, weight_decay=.5)\n",
        "    # Define learning rate scheduler\n",
        "    scheduler = optim.lr_scheduler.ExponentialLR(optimizer, gamma=0.9)\n",
        "\n",
        "    # Define loss\n",
        "    criterion = nn.CrossEntropyLoss()\n",
        "    for epoch in range(epochs):\n",
        "        # Train\n",
        "        model.train()\n",
        "        with tqdm(train_loader) as pbar:\n",
        "            for i, (images, labels) in enumerate(pbar):\n",
        "                images = images.view(-1, 28 * 28).to(device)\n",
        "                optimizer.zero_grad()\n",
        "                output = model(images)\n",
        "                loss = criterion(output, labels.to(device))\n",
        "                loss.backward()\n",
        "                optimizer.step()\n",
        "                accuracy = (output.argmax(dim=1) == labels.to(device)).float().mean()\n",
        "                pbar.set_postfix(loss=loss.item(), accuracy=accuracy.item(), lr=optimizer.param_groups[0]['lr'])\n",
        "\n",
        "        # Validation\n",
        "        model.eval()\n",
        "        val_loss = 0\n",
        "        val_accuracy = 0\n",
        "        with torch.no_grad():\n",
        "            for images, labels in val_loader:\n",
        "                images = images.view(-1, 28 * 28).to(device)\n",
        "                output = model(images)\n",
        "                val_loss += criterion(output, labels.to(device)).item()\n",
        "                val_accuracy += (\n",
        "                    (output.argmax(dim=1) == labels.to(device)).float().mean().item()\n",
        "                )\n",
        "        val_loss /= len(val_loader)\n",
        "        val_accuracy /= len(val_loader)\n",
        "        hdim_accs[h, epoch] = val_accuracy\n",
        "\n",
        "        # Update learning rate\n",
        "        scheduler.step()\n",
        "\n",
        "        print(\n",
        "            f\"Epoch {epoch + 1}, Val Loss: {val_loss}, Val Accuracy: {val_accuracy}\"\n",
        "        )\n",
        ""
      ],
      "metadata": {
        "id": "TlV--9UF5zFK"
      },
      "execution_count": null,
      "outputs": []
    },
    {
      "cell_type": "code",
      "source": [
        "# Checking best hidden layers\n",
        "\n",
        "epochs = 5\n",
        "n_layers = [1, 2, 3, 4]\n",
        "layer_accs = np.empty((4, epochs))\n",
        "for h, n_layer in enumerate(n_layers):\n",
        "    torch.manual_seed(42)\n",
        "    # Define model\n",
        "    model = SineKAN(layers_hidden=[28 * 28] + [128]*n_layer + [10], grid_size=8)\n",
        "    device = torch.device(\"cuda\" if torch.cuda.is_available() else \"cpu\")\n",
        "    model.to(device)\n",
        "    # Define optimizer\n",
        "    optimizer = optim.AdamW(model.parameters(), lr=4e-4, weight_decay=.5)\n",
        "    # Define learning rate scheduler\n",
        "    scheduler = optim.lr_scheduler.ExponentialLR(optimizer, gamma=0.9)\n",
        "\n",
        "    # Define loss\n",
        "    criterion = nn.CrossEntropyLoss()\n",
        "    for epoch in range(epochs):\n",
        "        # Train\n",
        "        model.train()\n",
        "        with tqdm(train_loader) as pbar:\n",
        "            for i, (images, labels) in enumerate(pbar):\n",
        "                images = images.view(-1, 28 * 28).to(device)\n",
        "                optimizer.zero_grad()\n",
        "                output = model(images)\n",
        "                loss = criterion(output, labels.to(device))\n",
        "                loss.backward()\n",
        "                optimizer.step()\n",
        "                accuracy = (output.argmax(dim=1) == labels.to(device)).float().mean()\n",
        "                pbar.set_postfix(loss=loss.item(), accuracy=accuracy.item(), lr=optimizer.param_groups[0]['lr'])\n",
        "\n",
        "        # Validation\n",
        "        model.eval()\n",
        "        val_loss = 0\n",
        "        val_accuracy = 0\n",
        "        with torch.no_grad():\n",
        "            for images, labels in val_loader:\n",
        "                images = images.view(-1, 28 * 28).to(device)\n",
        "                output = model(images)\n",
        "                val_loss += criterion(output, labels.to(device)).item()\n",
        "                val_accuracy += (\n",
        "                    (output.argmax(dim=1) == labels.to(device)).float().mean().item()\n",
        "                )\n",
        "        val_loss /= len(val_loader)\n",
        "        val_accuracy /= len(val_loader)\n",
        "        layer_accs[h, epoch] = val_accuracy\n",
        "\n",
        "        # Update learning rate\n",
        "        scheduler.step()\n",
        "\n",
        "        print(\n",
        "            f\"Epoch {epoch + 1}, Val Loss: {val_loss}, Val Accuracy: {val_accuracy}\"\n",
        "        )\n",
        ""
      ],
      "metadata": {
        "id": "8c2WpG7m53Hd"
      },
      "execution_count": null,
      "outputs": []
    },
    {
      "cell_type": "markdown",
      "source": [
        "# 4. **Convolutional Neural Network**"
      ],
      "metadata": {
        "id": "4JGcurDJDQwV"
      }
    },
    {
      "cell_type": "code",
      "source": [
        "import torch\n",
        "import torch.nn as nn\n",
        "import torch.optim as optim\n",
        "import torchvision\n",
        "import torchvision.transforms as transforms\n",
        "from torch.utils.data import DataLoader\n",
        "\n",
        "# Define device\n",
        "device = torch.device(\"cuda\" if torch.cuda.is_available() else \"cpu\")\n",
        "\n",
        "# Transformations\n",
        "transform = transforms.Compose([\n",
        "    transforms.ToTensor(),\n",
        "    transforms.Normalize((0.1307,), (0.3081,))  # Normalization for MNIST\n",
        "])\n",
        "\n",
        "# Datasets\n",
        "train_dataset = torchvision.datasets.MNIST(root=\"./data\", train=True, download=True, transform=transform)\n",
        "test_dataset = torchvision.datasets.MNIST(root=\"./data\", train=False, download=True, transform=transform)\n",
        "\n",
        "# Dataloaders\n",
        "train_loader= DataLoader(dataset= train_dataset, batch_size=64, shuffle=True)\n",
        "test_loader= DataLoader(dataset= test_dataset, batch_size=64, shuffle=False)\n",
        "\n",
        "# CNN Module\n",
        "class CNN(nn.Module):\n",
        "  def __init__(self):\n",
        "    super(CNN, self).__init__()\n",
        "    self.conv1= nn.Conv2d(in_channels=1, out_channels=32, kernel_size=2, stride=1, padding=1)\n",
        "    self.conv2= nn.Conv2d(in_channels=32, out_channels=64, kernel_size=2, stride=1, padding=1)\n",
        "    self.pool= nn.MaxPool2d(kernel_size=2, stride=2)\n",
        "    self.fc1= nn.Linear(in_features=64*7*7, out_features=128)\n",
        "    self.fc2 = nn.Linear(in_features=128, out_features=10)\n",
        "    self.relu = nn.ReLU()\n",
        "    self.dropout = nn.Dropout(p=0.4)\n",
        "\n",
        "\n",
        "  def forward(self, x):\n",
        "      x= self.pool(self.relu(self.conv1(x)))\n",
        "      x= self.pool(self.relu(self.conv2(x)))\n",
        "      x= x.view(-1, 64*7*7)\n",
        "      x=self.relu(self.fc1(x))\n",
        "      x= self.dropout(x)\n",
        "      x= self.fc2(x)\n",
        "      return x\n",
        "\n",
        "model= CNN().to(device)\n",
        "criterion = nn.CrossEntropyLoss()\n",
        "optimizer = optim.Adam(model.parameters(), lr=0.001)"
      ],
      "metadata": {
        "colab": {
          "base_uri": "https://localhost:8080/"
        },
        "id": "V1lx8h08DQHO",
        "outputId": "e49a3129-eda1-4cbc-8401-25ab3686b6f0"
      },
      "execution_count": 1,
      "outputs": [
        {
          "output_type": "stream",
          "name": "stderr",
          "text": [
            "100%|██████████| 9.91M/9.91M [00:00<00:00, 16.3MB/s]\n",
            "100%|██████████| 28.9k/28.9k [00:00<00:00, 482kB/s]\n",
            "100%|██████████| 1.65M/1.65M [00:00<00:00, 4.43MB/s]\n",
            "100%|██████████| 4.54k/4.54k [00:00<00:00, 8.64MB/s]\n"
          ]
        }
      ]
    },
    {
      "cell_type": "code",
      "source": [
        "#Training Loop & Testing Loop\n",
        "epochs= 10\n",
        "train_losses= []\n",
        "train_accuracies= []\n",
        "\n",
        "for epoch in range(epochs):\n",
        "    train_correct=0\n",
        "    model.train()\n",
        "    train_loss = 0.0\n",
        "    train_correct = 0\n",
        "    total_train_samples = 0\n",
        "\n",
        "    for images, labels in train_loader:\n",
        "        images, labels = images.to(device), labels.to(device)\n",
        "        optimizer.zero_grad()\n",
        "        outputs = model(images)\n",
        "        loss = criterion(outputs, labels)\n",
        "        loss.backward()\n",
        "        optimizer.step()\n",
        "\n",
        "        # Track loss\n",
        "        train_loss += loss.item()\n",
        "        train_losses.append(loss.item())\n",
        "\n",
        "        # Track accuracy\n",
        "        _, predicted = torch.max(outputs.data, 1)\n",
        "        train_correct += (predicted == labels).sum().item()\n",
        "        total_train_samples += labels.size(0)\n",
        "\n",
        "    # Compute average loss and accuracy for the epoch\n",
        "    train_loss /= len(train_loader)\n",
        "    train_accuracy = 100 * train_correct / total_train_samples\n",
        "    train_accuracies.append(train_accuracy)\n",
        "\n",
        "    print(f\"Epoch [{epoch+1}/{epochs}], Loss: {train_loss:.4f}, Accuracy: {train_accuracy:.2f}%\")\n",
        "\n",
        "\n",
        "# Testing Loop\n",
        "\n",
        "\n",
        "model.eval()\n",
        "correct = 0\n",
        "total = 0\n",
        "with torch.no_grad():\n",
        "    for images, labels in test_loader:\n",
        "        images, labels = images.to(device), labels.to(device)\n",
        "        outputs = model(images)\n",
        "        _, predicted = outputs.max(1)\n",
        "        total += labels.size(0)\n",
        "        correct += predicted.eq(labels).sum().item()\n",
        "\n",
        "print(f\"Test Accuracy: {100 * correct / total:.2f}%\")"
      ],
      "metadata": {
        "colab": {
          "base_uri": "https://localhost:8080/"
        },
        "id": "b2aGO4PzG-tr",
        "outputId": "c4a36c53-2c73-4814-f4df-5b5895c4e40b"
      },
      "execution_count": 2,
      "outputs": [
        {
          "output_type": "stream",
          "name": "stdout",
          "text": [
            "Epoch [1/10], Loss: 0.2299, Accuracy: 92.93%\n",
            "Epoch [2/10], Loss: 0.0857, Accuracy: 97.42%\n",
            "Epoch [3/10], Loss: 0.0644, Accuracy: 98.05%\n",
            "Epoch [4/10], Loss: 0.0534, Accuracy: 98.35%\n",
            "Epoch [5/10], Loss: 0.0467, Accuracy: 98.52%\n",
            "Epoch [6/10], Loss: 0.0388, Accuracy: 98.77%\n",
            "Epoch [7/10], Loss: 0.0344, Accuracy: 98.86%\n",
            "Epoch [8/10], Loss: 0.0310, Accuracy: 99.05%\n",
            "Epoch [9/10], Loss: 0.0277, Accuracy: 99.06%\n",
            "Epoch [10/10], Loss: 0.0269, Accuracy: 99.07%\n",
            "Test Accuracy: 99.02%\n"
          ]
        }
      ]
    },
    {
      "cell_type": "code",
      "source": [
        "import matplotlib.pyplot as plt\n",
        "\n",
        "plt.plot(train_losses, label='Training Loss')\n",
        "plt.xlabel('Iterations')\n",
        "plt.ylabel('Loss')\n",
        "plt.title('Training Loss Over Iterations (Batch-Wise)')\n",
        "plt.legend()\n",
        "plt.show()"
      ],
      "metadata": {
        "colab": {
          "base_uri": "https://localhost:8080/",
          "height": 472
        },
        "id": "jUteW6SFOFcA",
        "outputId": "c8459a4b-6b38-4045-f56f-1ebd8f9b56c7"
      },
      "execution_count": 11,
      "outputs": [
        {
          "output_type": "display_data",
          "data": {
            "text/plain": [
              "<Figure size 640x480 with 1 Axes>"
            ],
            "image/png": "[encoded data removed]"
          },
          "metadata": {}
        }
      ]
    },
    {
      "cell_type": "markdown",
      "source": [
        "# 5. **Quantum KAN:**\n",
        "\n",
        "(Explained in detail in my proposal.)"
      ],
      "metadata": {
        "id": "H6DJWGDIL_uy"
      }
    },
    {
      "cell_type": "markdown",
      "source": [
        "# 5. **References:**\n",
        "1. Pennylane Documentation on QuanvNNs - https://pennylane.ai/qml/demos/tutorial_quanvolution\n",
        "\n",
        "2. KAN CLassification and Regression Codes - https://github.com/team-daniel/KAN\n",
        "\n",
        "3. KAN Implentation presented in original paper - https://github.com/KindXiaoming/pykan\n",
        "\n",
        "4. SineKANs Paper and Documentation -\n",
        "*   https://github.com/ereinha/SineKAN\n",
        "*   https://github.com/KindXiaoming/pykan\n",
        "\n",
        "5. Manual Implementation of splines without SciPy - https://rohangautam.github.io/blog/b_spline_intro/#cox-de-boor-recursion-formula, https://github.com/IreGaddr/KAN_MNIST_GPU/blob/main/kan_mnist_gpu.py\n"
      ],
      "metadata": {
        "id": "Z_ags15qe4uR"
      }
    }
  ]
}