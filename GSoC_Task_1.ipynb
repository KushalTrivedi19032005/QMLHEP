{
  "nbformat": 4,
  "nbformat_minor": 0,
  "metadata": {
    "colab": {
      "provenance": []
    },
    "kernelspec": {
      "name": "python3",
      "display_name": "Python 3"
    },
    "language_info": {
      "name": "python"
    }
  },
  "cells": [
    {
      "cell_type": "markdown",
      "source": [
        "# **Implementation of Task 1 in Cirq**"
      ],
      "metadata": {
        "id": "YenI8-GOTAbD"
      }
    },
    {
      "cell_type": "code",
      "execution_count": 1,
      "metadata": {
        "colab": {
          "base_uri": "https://localhost:8080/"
        },
        "id": "zgJhNfNvS3Hq",
        "outputId": "844efb3e-29f6-4b3e-e10a-3a9bc2139a1e"
      },
      "outputs": [
        {
          "output_type": "stream",
          "name": "stdout",
          "text": [
            "Collecting cirq\n",
            "  Downloading cirq-1.4.1-py3-none-any.whl.metadata (7.4 kB)\n",
            "Collecting cirq-aqt==1.4.1 (from cirq)\n",
            "  Downloading cirq_aqt-1.4.1-py3-none-any.whl.metadata (1.6 kB)\n",
            "Collecting cirq-core==1.4.1 (from cirq)\n",
            "  Downloading cirq_core-1.4.1-py3-none-any.whl.metadata (1.8 kB)\n",
            "Collecting cirq-google==1.4.1 (from cirq)\n",
            "  Downloading cirq_google-1.4.1-py3-none-any.whl.metadata (2.0 kB)\n",
            "Collecting cirq-ionq==1.4.1 (from cirq)\n",
            "  Downloading cirq_ionq-1.4.1-py3-none-any.whl.metadata (1.6 kB)\n",
            "Collecting cirq-pasqal==1.4.1 (from cirq)\n",
            "  Downloading cirq_pasqal-1.4.1-py3-none-any.whl.metadata (1.6 kB)\n",
            "Collecting cirq-rigetti==1.4.1 (from cirq)\n",
            "  Downloading cirq_rigetti-1.4.1-py3-none-any.whl.metadata (1.7 kB)\n",
            "Collecting cirq-web==1.4.1 (from cirq)\n",
            "  Downloading cirq_web-1.4.1-py3-none-any.whl.metadata (2.6 kB)\n",
            "Requirement already satisfied: requests~=2.18 in /usr/local/lib/python3.11/dist-packages (from cirq-aqt==1.4.1->cirq) (2.32.3)\n",
            "Requirement already satisfied: attrs>=21.3.0 in /usr/local/lib/python3.11/dist-packages (from cirq-core==1.4.1->cirq) (25.2.0)\n",
            "Collecting duet>=0.2.8 (from cirq-core==1.4.1->cirq)\n",
            "  Downloading duet-0.2.9-py3-none-any.whl.metadata (2.3 kB)\n",
            "Requirement already satisfied: matplotlib~=3.0 in /usr/local/lib/python3.11/dist-packages (from cirq-core==1.4.1->cirq) (3.10.0)\n",
            "Requirement already satisfied: networkx>=2.4 in /usr/local/lib/python3.11/dist-packages (from cirq-core==1.4.1->cirq) (3.4.2)\n",
            "Requirement already satisfied: numpy~=1.22 in /usr/local/lib/python3.11/dist-packages (from cirq-core==1.4.1->cirq) (1.26.4)\n",
            "Requirement already satisfied: pandas in /usr/local/lib/python3.11/dist-packages (from cirq-core==1.4.1->cirq) (2.2.2)\n",
            "Requirement already satisfied: sortedcontainers~=2.0 in /usr/local/lib/python3.11/dist-packages (from cirq-core==1.4.1->cirq) (2.4.0)\n",
            "Requirement already satisfied: scipy~=1.0 in /usr/local/lib/python3.11/dist-packages (from cirq-core==1.4.1->cirq) (1.14.1)\n",
            "Requirement already satisfied: sympy in /usr/local/lib/python3.11/dist-packages (from cirq-core==1.4.1->cirq) (1.13.1)\n",
            "Requirement already satisfied: typing-extensions>=4.2 in /usr/local/lib/python3.11/dist-packages (from cirq-core==1.4.1->cirq) (4.12.2)\n",
            "Requirement already satisfied: tqdm in /usr/local/lib/python3.11/dist-packages (from cirq-core==1.4.1->cirq) (4.67.1)\n",
            "Requirement already satisfied: google-api-core>=1.14.0 in /usr/local/lib/python3.11/dist-packages (from google-api-core[grpc]>=1.14.0->cirq-google==1.4.1->cirq) (2.24.2)\n",
            "Requirement already satisfied: proto-plus>=1.20.0 in /usr/local/lib/python3.11/dist-packages (from cirq-google==1.4.1->cirq) (1.26.1)\n",
            "Requirement already satisfied: protobuf<5.0.0,>=3.15.0 in /usr/local/lib/python3.11/dist-packages (from cirq-google==1.4.1->cirq) (4.25.6)\n",
            "Collecting pyquil<5.0.0,>=4.11.0 (from cirq-rigetti==1.4.1->cirq)\n",
            "  Downloading pyquil-4.16.1-py3-none-any.whl.metadata (10 kB)\n",
            "Requirement already satisfied: googleapis-common-protos<2.0.0,>=1.56.2 in /usr/local/lib/python3.11/dist-packages (from google-api-core>=1.14.0->google-api-core[grpc]>=1.14.0->cirq-google==1.4.1->cirq) (1.69.1)\n",
            "Requirement already satisfied: google-auth<3.0.0,>=2.14.1 in /usr/local/lib/python3.11/dist-packages (from google-api-core>=1.14.0->google-api-core[grpc]>=1.14.0->cirq-google==1.4.1->cirq) (2.38.0)\n",
            "Requirement already satisfied: grpcio<2.0dev,>=1.33.2 in /usr/local/lib/python3.11/dist-packages (from google-api-core[grpc]>=1.14.0->cirq-google==1.4.1->cirq) (1.71.0)\n",
            "Requirement already satisfied: grpcio-status<2.0.dev0,>=1.33.2 in /usr/local/lib/python3.11/dist-packages (from google-api-core[grpc]>=1.14.0->cirq-google==1.4.1->cirq) (1.62.3)\n",
            "Requirement already satisfied: contourpy>=1.0.1 in /usr/local/lib/python3.11/dist-packages (from matplotlib~=3.0->cirq-core==1.4.1->cirq) (1.3.1)\n",
            "Requirement already satisfied: cycler>=0.10 in /usr/local/lib/python3.11/dist-packages (from matplotlib~=3.0->cirq-core==1.4.1->cirq) (0.12.1)\n",
            "Requirement already satisfied: fonttools>=4.22.0 in /usr/local/lib/python3.11/dist-packages (from matplotlib~=3.0->cirq-core==1.4.1->cirq) (4.56.0)\n",
            "Requirement already satisfied: kiwisolver>=1.3.1 in /usr/local/lib/python3.11/dist-packages (from matplotlib~=3.0->cirq-core==1.4.1->cirq) (1.4.8)\n",
            "Requirement already satisfied: packaging>=20.0 in /usr/local/lib/python3.11/dist-packages (from matplotlib~=3.0->cirq-core==1.4.1->cirq) (24.2)\n",
            "Requirement already satisfied: pillow>=8 in /usr/local/lib/python3.11/dist-packages (from matplotlib~=3.0->cirq-core==1.4.1->cirq) (11.1.0)\n",
            "Requirement already satisfied: pyparsing>=2.3.1 in /usr/local/lib/python3.11/dist-packages (from matplotlib~=3.0->cirq-core==1.4.1->cirq) (3.2.1)\n",
            "Requirement already satisfied: python-dateutil>=2.7 in /usr/local/lib/python3.11/dist-packages (from matplotlib~=3.0->cirq-core==1.4.1->cirq) (2.8.2)\n",
            "Requirement already satisfied: deprecated<2.0.0,>=1.2.14 in /usr/local/lib/python3.11/dist-packages (from pyquil<5.0.0,>=4.11.0->cirq-rigetti==1.4.1->cirq) (1.2.18)\n",
            "Collecting packaging>=20.0 (from matplotlib~=3.0->cirq-core==1.4.1->cirq)\n",
            "  Downloading packaging-23.2-py3-none-any.whl.metadata (3.2 kB)\n",
            "Collecting qcs-sdk-python>=0.20.1 (from pyquil<5.0.0,>=4.11.0->cirq-rigetti==1.4.1->cirq)\n",
            "  Downloading qcs_sdk_python-0.21.17-cp311-cp311-manylinux_2_28_x86_64.whl.metadata (7.0 kB)\n",
            "Collecting quil>=0.15.3 (from pyquil<5.0.0,>=4.11.0->cirq-rigetti==1.4.1->cirq)\n",
            "  Downloading quil-0.16.0-cp311-cp311-manylinux_2_17_x86_64.manylinux2014_x86_64.whl.metadata (1.8 kB)\n",
            "Collecting rpcq<4.0.0,>=3.11.0 (from pyquil<5.0.0,>=4.11.0->cirq-rigetti==1.4.1->cirq)\n",
            "  Downloading rpcq-3.11.0.tar.gz (45 kB)\n",
            "\u001b[2K     \u001b[90m━━━━━━━━━━━━━━━━━━━━━━━━━━━━━━━━━━━━━━━━\u001b[0m \u001b[32m45.6/45.6 kB\u001b[0m \u001b[31m2.6 MB/s\u001b[0m eta \u001b[36m0:00:00\u001b[0m\n",
            "\u001b[?25h  Preparing metadata (setup.py) ... \u001b[?25l\u001b[?25hdone\n",
            "Collecting types-deprecated<2.0.0.0,>=1.2.9.3 (from pyquil<5.0.0,>=4.11.0->cirq-rigetti==1.4.1->cirq)\n",
            "  Downloading types_deprecated-1.2.15.20250304-py3-none-any.whl.metadata (2.0 kB)\n",
            "Requirement already satisfied: charset-normalizer<4,>=2 in /usr/local/lib/python3.11/dist-packages (from requests~=2.18->cirq-aqt==1.4.1->cirq) (3.4.1)\n",
            "Requirement already satisfied: idna<4,>=2.5 in /usr/local/lib/python3.11/dist-packages (from requests~=2.18->cirq-aqt==1.4.1->cirq) (3.10)\n",
            "Requirement already satisfied: urllib3<3,>=1.21.1 in /usr/local/lib/python3.11/dist-packages (from requests~=2.18->cirq-aqt==1.4.1->cirq) (2.3.0)\n",
            "Requirement already satisfied: certifi>=2017.4.17 in /usr/local/lib/python3.11/dist-packages (from requests~=2.18->cirq-aqt==1.4.1->cirq) (2025.1.31)\n",
            "Requirement already satisfied: pytz>=2020.1 in /usr/local/lib/python3.11/dist-packages (from pandas->cirq-core==1.4.1->cirq) (2025.1)\n",
            "Requirement already satisfied: tzdata>=2022.7 in /usr/local/lib/python3.11/dist-packages (from pandas->cirq-core==1.4.1->cirq) (2025.1)\n",
            "Requirement already satisfied: mpmath<1.4,>=1.1.0 in /usr/local/lib/python3.11/dist-packages (from sympy->cirq-core==1.4.1->cirq) (1.3.0)\n",
            "Requirement already satisfied: wrapt<2,>=1.10 in /usr/local/lib/python3.11/dist-packages (from deprecated<2.0.0,>=1.2.14->pyquil<5.0.0,>=4.11.0->cirq-rigetti==1.4.1->cirq) (1.17.2)\n",
            "Requirement already satisfied: cachetools<6.0,>=2.0.0 in /usr/local/lib/python3.11/dist-packages (from google-auth<3.0.0,>=2.14.1->google-api-core>=1.14.0->google-api-core[grpc]>=1.14.0->cirq-google==1.4.1->cirq) (5.5.2)\n",
            "Requirement already satisfied: pyasn1-modules>=0.2.1 in /usr/local/lib/python3.11/dist-packages (from google-auth<3.0.0,>=2.14.1->google-api-core>=1.14.0->google-api-core[grpc]>=1.14.0->cirq-google==1.4.1->cirq) (0.4.1)\n",
            "Requirement already satisfied: rsa<5,>=3.1.4 in /usr/local/lib/python3.11/dist-packages (from google-auth<3.0.0,>=2.14.1->google-api-core>=1.14.0->google-api-core[grpc]>=1.14.0->cirq-google==1.4.1->cirq) (4.9)\n",
            "Requirement already satisfied: six>=1.5 in /usr/local/lib/python3.11/dist-packages (from python-dateutil>=2.7->matplotlib~=3.0->cirq-core==1.4.1->cirq) (1.17.0)\n",
            "Collecting qcs-api-client-common>=0.11.8 (from qcs-sdk-python>=0.20.1->pyquil<5.0.0,>=4.11.0->cirq-rigetti==1.4.1->cirq)\n",
            "  Downloading qcs_api_client_common-0.11.8-cp311-cp311-manylinux_2_28_x86_64.whl.metadata (2.5 kB)\n",
            "Requirement already satisfied: msgpack<2.0,>=0.6 in /usr/local/lib/python3.11/dist-packages (from rpcq<4.0.0,>=3.11.0->pyquil<5.0.0,>=4.11.0->cirq-rigetti==1.4.1->cirq) (1.1.0)\n",
            "Collecting python-rapidjson (from rpcq<4.0.0,>=3.11.0->pyquil<5.0.0,>=4.11.0->cirq-rigetti==1.4.1->cirq)\n",
            "  Downloading python_rapidjson-1.20-cp311-cp311-manylinux_2_17_x86_64.manylinux2014_x86_64.whl.metadata (22 kB)\n",
            "Requirement already satisfied: pyzmq>=17 in /usr/local/lib/python3.11/dist-packages (from rpcq<4.0.0,>=3.11.0->pyquil<5.0.0,>=4.11.0->cirq-rigetti==1.4.1->cirq) (24.0.1)\n",
            "Collecting ruamel.yaml (from rpcq<4.0.0,>=3.11.0->pyquil<5.0.0,>=4.11.0->cirq-rigetti==1.4.1->cirq)\n",
            "  Downloading ruamel.yaml-0.18.10-py3-none-any.whl.metadata (23 kB)\n",
            "Requirement already satisfied: pyasn1<0.7.0,>=0.4.6 in /usr/local/lib/python3.11/dist-packages (from pyasn1-modules>=0.2.1->google-auth<3.0.0,>=2.14.1->google-api-core>=1.14.0->google-api-core[grpc]>=1.14.0->cirq-google==1.4.1->cirq) (0.6.1)\n",
            "Requirement already satisfied: grpc-interceptor>=0.15.0 in /usr/local/lib/python3.11/dist-packages (from qcs-api-client-common>=0.11.8->qcs-sdk-python>=0.20.1->pyquil<5.0.0,>=4.11.0->cirq-rigetti==1.4.1->cirq) (0.15.4)\n",
            "Requirement already satisfied: httpx>=0.27.0 in /usr/local/lib/python3.11/dist-packages (from qcs-api-client-common>=0.11.8->qcs-sdk-python>=0.20.1->pyquil<5.0.0,>=4.11.0->cirq-rigetti==1.4.1->cirq) (0.28.1)\n",
            "Collecting ruamel.yaml.clib>=0.2.7 (from ruamel.yaml->rpcq<4.0.0,>=3.11.0->pyquil<5.0.0,>=4.11.0->cirq-rigetti==1.4.1->cirq)\n",
            "  Downloading ruamel.yaml.clib-0.2.12-cp311-cp311-manylinux_2_17_x86_64.manylinux2014_x86_64.whl.metadata (2.7 kB)\n",
            "Requirement already satisfied: anyio in /usr/local/lib/python3.11/dist-packages (from httpx>=0.27.0->qcs-api-client-common>=0.11.8->qcs-sdk-python>=0.20.1->pyquil<5.0.0,>=4.11.0->cirq-rigetti==1.4.1->cirq) (3.7.1)\n",
            "Requirement already satisfied: httpcore==1.* in /usr/local/lib/python3.11/dist-packages (from httpx>=0.27.0->qcs-api-client-common>=0.11.8->qcs-sdk-python>=0.20.1->pyquil<5.0.0,>=4.11.0->cirq-rigetti==1.4.1->cirq) (1.0.7)\n",
            "Requirement already satisfied: h11<0.15,>=0.13 in /usr/local/lib/python3.11/dist-packages (from httpcore==1.*->httpx>=0.27.0->qcs-api-client-common>=0.11.8->qcs-sdk-python>=0.20.1->pyquil<5.0.0,>=4.11.0->cirq-rigetti==1.4.1->cirq) (0.14.0)\n",
            "Requirement already satisfied: sniffio>=1.1 in /usr/local/lib/python3.11/dist-packages (from anyio->httpx>=0.27.0->qcs-api-client-common>=0.11.8->qcs-sdk-python>=0.20.1->pyquil<5.0.0,>=4.11.0->cirq-rigetti==1.4.1->cirq) (1.3.1)\n",
            "Downloading cirq-1.4.1-py3-none-any.whl (8.0 kB)\n",
            "Downloading cirq_aqt-1.4.1-py3-none-any.whl (30 kB)\n",
            "Downloading cirq_core-1.4.1-py3-none-any.whl (1.9 MB)\n",
            "\u001b[2K   \u001b[90m━━━━━━━━━━━━━━━━━━━━━━━━━━━━━━━━━━━━━━━━\u001b[0m \u001b[32m1.9/1.9 MB\u001b[0m \u001b[31m29.4 MB/s\u001b[0m eta \u001b[36m0:00:00\u001b[0m\n",
            "\u001b[?25hDownloading cirq_google-1.4.1-py3-none-any.whl (532 kB)\n",
            "\u001b[2K   \u001b[90m━━━━━━━━━━━━━━━━━━━━━━━━━━━━━━━━━━━━━━━━\u001b[0m \u001b[32m532.7/532.7 kB\u001b[0m \u001b[31m18.3 MB/s\u001b[0m eta \u001b[36m0:00:00\u001b[0m\n",
            "\u001b[?25hDownloading cirq_ionq-1.4.1-py3-none-any.whl (60 kB)\n",
            "\u001b[2K   \u001b[90m━━━━━━━━━━━━━━━━━━━━━━━━━━━━━━━━━━━━━━━━\u001b[0m \u001b[32m60.5/60.5 kB\u001b[0m \u001b[31m3.3 MB/s\u001b[0m eta \u001b[36m0:00:00\u001b[0m\n",
            "\u001b[?25hDownloading cirq_pasqal-1.4.1-py3-none-any.whl (31 kB)\n",
            "Downloading cirq_rigetti-1.4.1-py3-none-any.whl (69 kB)\n",
            "\u001b[2K   \u001b[90m━━━━━━━━━━━━━━━━━━━━━━━━━━━━━━━━━━━━━━━━\u001b[0m \u001b[32m69.3/69.3 kB\u001b[0m \u001b[31m3.6 MB/s\u001b[0m eta \u001b[36m0:00:00\u001b[0m\n",
            "\u001b[?25hDownloading cirq_web-1.4.1-py3-none-any.whl (596 kB)\n",
            "\u001b[2K   \u001b[90m━━━━━━━━━━━━━━━━━━━━━━━━━━━━━━━━━━━━━━━━\u001b[0m \u001b[32m596.5/596.5 kB\u001b[0m \u001b[31m21.8 MB/s\u001b[0m eta \u001b[36m0:00:00\u001b[0m\n",
            "\u001b[?25hDownloading duet-0.2.9-py3-none-any.whl (29 kB)\n",
            "Downloading pyquil-4.16.1-py3-none-any.whl (203 kB)\n",
            "\u001b[2K   \u001b[90m━━━━━━━━━━━━━━━━━━━━━━━━━━━━━━━━━━━━━━━━\u001b[0m \u001b[32m203.2/203.2 kB\u001b[0m \u001b[31m11.2 MB/s\u001b[0m eta \u001b[36m0:00:00\u001b[0m\n",
            "\u001b[?25hDownloading packaging-23.2-py3-none-any.whl (53 kB)\n",
            "\u001b[2K   \u001b[90m━━━━━━━━━━━━━━━━━━━━━━━━━━━━━━━━━━━━━━━━\u001b[0m \u001b[32m53.0/53.0 kB\u001b[0m \u001b[31m3.3 MB/s\u001b[0m eta \u001b[36m0:00:00\u001b[0m\n",
            "\u001b[?25hDownloading qcs_sdk_python-0.21.17-cp311-cp311-manylinux_2_28_x86_64.whl (6.5 MB)\n",
            "\u001b[2K   \u001b[90m━━━━━━━━━━━━━━━━━━━━━━━━━━━━━━━━━━━━━━━━\u001b[0m \u001b[32m6.5/6.5 MB\u001b[0m \u001b[31m43.5 MB/s\u001b[0m eta \u001b[36m0:00:00\u001b[0m\n",
            "\u001b[?25hDownloading quil-0.16.0-cp311-cp311-manylinux_2_17_x86_64.manylinux2014_x86_64.whl (2.3 MB)\n",
            "\u001b[2K   \u001b[90m━━━━━━━━━━━━━━━━━━━━━━━━━━━━━━━━━━━━━━━━\u001b[0m \u001b[32m2.3/2.3 MB\u001b[0m \u001b[31m45.7 MB/s\u001b[0m eta \u001b[36m0:00:00\u001b[0m\n",
            "\u001b[?25hDownloading types_deprecated-1.2.15.20250304-py3-none-any.whl (8.6 kB)\n",
            "Downloading qcs_api_client_common-0.11.8-cp311-cp311-manylinux_2_28_x86_64.whl (2.7 MB)\n",
            "\u001b[2K   \u001b[90m━━━━━━━━━━━━━━━━━━━━━━━━━━━━━━━━━━━━━━━━\u001b[0m \u001b[32m2.7/2.7 MB\u001b[0m \u001b[31m36.1 MB/s\u001b[0m eta \u001b[36m0:00:00\u001b[0m\n",
            "\u001b[?25hDownloading python_rapidjson-1.20-cp311-cp311-manylinux_2_17_x86_64.manylinux2014_x86_64.whl (1.7 MB)\n",
            "\u001b[2K   \u001b[90m━━━━━━━━━━━━━━━━━━━━━━━━━━━━━━━━━━━━━━━━\u001b[0m \u001b[32m1.7/1.7 MB\u001b[0m \u001b[31m31.6 MB/s\u001b[0m eta \u001b[36m0:00:00\u001b[0m\n",
            "\u001b[?25hDownloading ruamel.yaml-0.18.10-py3-none-any.whl (117 kB)\n",
            "\u001b[2K   \u001b[90m━━━━━━━━━━━━━━━━━━━━━━━━━━━━━━━━━━━━━━━━\u001b[0m \u001b[32m117.7/117.7 kB\u001b[0m \u001b[31m8.6 MB/s\u001b[0m eta \u001b[36m0:00:00\u001b[0m\n",
            "\u001b[?25hDownloading ruamel.yaml.clib-0.2.12-cp311-cp311-manylinux_2_17_x86_64.manylinux2014_x86_64.whl (739 kB)\n",
            "\u001b[2K   \u001b[90m━━━━━━━━━━━━━━━━━━━━━━━━━━━━━━━━━━━━━━━━\u001b[0m \u001b[32m739.1/739.1 kB\u001b[0m \u001b[31m28.6 MB/s\u001b[0m eta \u001b[36m0:00:00\u001b[0m\n",
            "\u001b[?25hBuilding wheels for collected packages: rpcq\n",
            "  Building wheel for rpcq (setup.py) ... \u001b[?25l\u001b[?25hdone\n",
            "  Created wheel for rpcq: filename=rpcq-3.11.0-py3-none-any.whl size=45967 sha256=853e70761386f43bca11861ad43d1ad57b12a2b9a0431bacc26ce5b2d4eff752\n",
            "  Stored in directory: /root/.cache/pip/wheels/b3/b6/ad/8f05ac735661e828024c764a6e6fc3eb6f84434e408aad5eab\n",
            "Successfully built rpcq\n",
            "Installing collected packages: types-deprecated, ruamel.yaml.clib, quil, python-rapidjson, packaging, duet, ruamel.yaml, rpcq, qcs-api-client-common, cirq-core, qcs-sdk-python, cirq-web, cirq-pasqal, cirq-ionq, cirq-aqt, pyquil, cirq-google, cirq-rigetti, cirq\n",
            "  Attempting uninstall: packaging\n",
            "    Found existing installation: packaging 24.2\n",
            "    Uninstalling packaging-24.2:\n",
            "      Successfully uninstalled packaging-24.2\n",
            "Successfully installed cirq-1.4.1 cirq-aqt-1.4.1 cirq-core-1.4.1 cirq-google-1.4.1 cirq-ionq-1.4.1 cirq-pasqal-1.4.1 cirq-rigetti-1.4.1 cirq-web-1.4.1 duet-0.2.9 packaging-23.2 pyquil-4.16.1 python-rapidjson-1.20 qcs-api-client-common-0.11.8 qcs-sdk-python-0.21.17 quil-0.16.0 rpcq-3.11.0 ruamel.yaml-0.18.10 ruamel.yaml.clib-0.2.12 types-deprecated-1.2.15.20250304\n"
          ]
        }
      ],
      "source": [
        "!pip install cirq"
      ]
    },
    {
      "cell_type": "markdown",
      "source": [
        "1) Implement a simple quantum operation with Cirq or Pennylane\n",
        "* With 5 qubits  \n",
        "* Apply Hadamard operation on every qubit  \n",
        "* Apply CNOT operation on (0, 1), (1,2), (2,3), (3,4)  \n",
        "* SWAP (0, 4)  \n",
        "* Rotate X with pi/2 on any qubit  \n",
        "* Plot the circuit  "
      ],
      "metadata": {
        "id": "v-4BuFhPTY9V"
      }
    },
    {
      "cell_type": "code",
      "source": [
        "import cirq\n",
        "import matplotlib.pyplot as plt\n",
        "import numpy as np\n",
        "from cirq.contrib.svg import SVGCircuit\n",
        "import random\n",
        "\n",
        "#Creating 5 qubits\n",
        "qubits= [cirq.LineQubit(i) for i in range(5)]\n",
        "\n",
        "#Creating a circuit, and applying Hadamard gate to each qubit\n",
        "circuit= cirq.Circuit()\n",
        "circuit.append(cirq.H(qubit) for qubit in qubits)\n",
        "\n",
        "#Applying CNOT operation on all pairs of adjacent qubits\n",
        "circuit.append(cirq.CNOT(qubits[i], qubits[i+1]) for i in range(4))\n",
        "\n",
        "#Applying SWAP operation on 0th and 4th qubit\n",
        "circuit.append(cirq.SWAP(qubits[0],qubits[4]))\n",
        "\n",
        "# Apply RX(pi/2) on a random valid qubit\n",
        "random_int=random.randint(0,4)\n",
        "circuit.append(cirq.rx(np.pi/2)(qubits[random_int]))\n",
        "\n",
        "print(f\"Printing the circuit:\\n {circuit}\\n\\n\\n\")\n",
        "print(\"Plotting the circuit:\")\n",
        "display(SVGCircuit(circuit))"
      ],
      "metadata": {
        "colab": {
          "base_uri": "https://localhost:8080/",
          "height": 526
        },
        "id": "LTqlIDImS5Bv",
        "outputId": "0dc70dd6-4c5c-4337-d233-35bb3c6c51ff"
      },
      "execution_count": 2,
      "outputs": [
        {
          "output_type": "stream",
          "name": "stdout",
          "text": [
            "Printing the circuit:\n",
            " 0: ───H───@───────────────×──────────────\n",
            "          │               │\n",
            "1: ───H───X───@───────────┼──────────────\n",
            "              │           │\n",
            "2: ───H───────X───@───────┼──────────────\n",
            "                  │       │\n",
            "3: ───H───────────X───@───┼──────────────\n",
            "                      │   │\n",
            "4: ───H───────────────X───×───Rx(0.5π)───\n",
            "\n",
            "\n",
            "\n",
            "Plotting the circuit:\n"
          ]
        },
        {
          "output_type": "display_data",
          "data": {
            "text/plain": [
              "<cirq.contrib.svg.svg.SVGCircuit at 0x782152d74a90>"
            ],
            "image/svg+xml": "<svg xmlns=\"http://www.w3.org/2000/svg\" width=\"547.05328125\" height=\"250.0\"><line x1=\"30.0\" x2=\"517.05328125\" y1=\"25.0\" y2=\"25.0\" stroke=\"#1967d2\" stroke-width=\"1\" /><line x1=\"30.0\" x2=\"517.05328125\" y1=\"75.0\" y2=\"75.0\" stroke=\"#1967d2\" stroke-width=\"1\" /><line x1=\"30.0\" x2=\"517.05328125\" y1=\"125.0\" y2=\"125.0\" stroke=\"#1967d2\" stroke-width=\"1\" /><line x1=\"30.0\" x2=\"517.05328125\" y1=\"175.0\" y2=\"175.0\" stroke=\"#1967d2\" stroke-width=\"1\" /><line x1=\"30.0\" x2=\"517.05328125\" y1=\"225.0\" y2=\"225.0\" stroke=\"#1967d2\" stroke-width=\"1\" /><line x1=\"150.0\" x2=\"150.0\" y1=\"25.0\" y2=\"75.0\" stroke=\"black\" stroke-width=\"3\" /><line x1=\"210.0\" x2=\"210.0\" y1=\"75.0\" y2=\"125.0\" stroke=\"black\" stroke-width=\"3\" /><line x1=\"270.0\" x2=\"270.0\" y1=\"125.0\" y2=\"175.0\" stroke=\"black\" stroke-width=\"3\" /><line x1=\"330.0\" x2=\"330.0\" y1=\"175.0\" y2=\"225.0\" stroke=\"black\" stroke-width=\"3\" /><line x1=\"390.0\" x2=\"390.0\" y1=\"25.0\" y2=\"225.0\" stroke=\"black\" stroke-width=\"3\" /><rect x=\"10.0\" y=\"5.0\" width=\"40\" height=\"40\" stroke=\"black\" fill=\"white\" stroke-width=\"0\" /><text x=\"30.0\" y=\"25.0\" dominant-baseline=\"middle\" text-anchor=\"middle\" font-size=\"14px\" font-family=\"sans\\-serif:style=normal:variant=normal:weight=normal:stretch=normal:size=10.0\">0: </text><rect x=\"10.0\" y=\"55.0\" width=\"40\" height=\"40\" stroke=\"black\" fill=\"white\" stroke-width=\"0\" /><text x=\"30.0\" y=\"75.0\" dominant-baseline=\"middle\" text-anchor=\"middle\" font-size=\"14px\" font-family=\"sans\\-serif:style=normal:variant=normal:weight=normal:stretch=normal:size=10.0\">1: </text><rect x=\"10.0\" y=\"105.0\" width=\"40\" height=\"40\" stroke=\"black\" fill=\"white\" stroke-width=\"0\" /><text x=\"30.0\" y=\"125.0\" dominant-baseline=\"middle\" text-anchor=\"middle\" font-size=\"14px\" font-family=\"sans\\-serif:style=normal:variant=normal:weight=normal:stretch=normal:size=10.0\">2: </text><rect x=\"10.0\" y=\"155.0\" width=\"40\" height=\"40\" stroke=\"black\" fill=\"white\" stroke-width=\"0\" /><text x=\"30.0\" y=\"175.0\" dominant-baseline=\"middle\" text-anchor=\"middle\" font-size=\"14px\" font-family=\"sans\\-serif:style=normal:variant=normal:weight=normal:stretch=normal:size=10.0\">3: </text><rect x=\"10.0\" y=\"205.0\" width=\"40\" height=\"40\" stroke=\"black\" fill=\"white\" stroke-width=\"0\" /><text x=\"30.0\" y=\"225.0\" dominant-baseline=\"middle\" text-anchor=\"middle\" font-size=\"14px\" font-family=\"sans\\-serif:style=normal:variant=normal:weight=normal:stretch=normal:size=10.0\">4: </text><rect x=\"70.0\" y=\"5.0\" width=\"40\" height=\"40\" stroke=\"black\" fill=\"white\" stroke-width=\"1\" /><text x=\"90.0\" y=\"25.0\" dominant-baseline=\"middle\" text-anchor=\"middle\" font-size=\"18px\" font-family=\"sans\\-serif:style=normal:variant=normal:weight=normal:stretch=normal:size=10.0\">H</text><rect x=\"70.0\" y=\"55.0\" width=\"40\" height=\"40\" stroke=\"black\" fill=\"white\" stroke-width=\"1\" /><text x=\"90.0\" y=\"75.0\" dominant-baseline=\"middle\" text-anchor=\"middle\" font-size=\"18px\" font-family=\"sans\\-serif:style=normal:variant=normal:weight=normal:stretch=normal:size=10.0\">H</text><rect x=\"70.0\" y=\"105.0\" width=\"40\" height=\"40\" stroke=\"black\" fill=\"white\" stroke-width=\"1\" /><text x=\"90.0\" y=\"125.0\" dominant-baseline=\"middle\" text-anchor=\"middle\" font-size=\"18px\" font-family=\"sans\\-serif:style=normal:variant=normal:weight=normal:stretch=normal:size=10.0\">H</text><rect x=\"70.0\" y=\"155.0\" width=\"40\" height=\"40\" stroke=\"black\" fill=\"white\" stroke-width=\"1\" /><text x=\"90.0\" y=\"175.0\" dominant-baseline=\"middle\" text-anchor=\"middle\" font-size=\"18px\" font-family=\"sans\\-serif:style=normal:variant=normal:weight=normal:stretch=normal:size=10.0\">H</text><rect x=\"70.0\" y=\"205.0\" width=\"40\" height=\"40\" stroke=\"black\" fill=\"white\" stroke-width=\"1\" /><text x=\"90.0\" y=\"225.0\" dominant-baseline=\"middle\" text-anchor=\"middle\" font-size=\"18px\" font-family=\"sans\\-serif:style=normal:variant=normal:weight=normal:stretch=normal:size=10.0\">H</text><circle cx=\"150.0\" cy=\"25.0\" r=\"10.0\" /><rect x=\"130.0\" y=\"55.0\" width=\"40\" height=\"40\" stroke=\"black\" fill=\"white\" stroke-width=\"1\" /><text x=\"150.0\" y=\"75.0\" dominant-baseline=\"middle\" text-anchor=\"middle\" font-size=\"18px\" font-family=\"sans\\-serif:style=normal:variant=normal:weight=normal:stretch=normal:size=10.0\">X</text><circle cx=\"210.0\" cy=\"75.0\" r=\"10.0\" /><rect x=\"190.0\" y=\"105.0\" width=\"40\" height=\"40\" stroke=\"black\" fill=\"white\" stroke-width=\"1\" /><text x=\"210.0\" y=\"125.0\" dominant-baseline=\"middle\" text-anchor=\"middle\" font-size=\"18px\" font-family=\"sans\\-serif:style=normal:variant=normal:weight=normal:stretch=normal:size=10.0\">X</text><circle cx=\"270.0\" cy=\"125.0\" r=\"10.0\" /><rect x=\"250.0\" y=\"155.0\" width=\"40\" height=\"40\" stroke=\"black\" fill=\"white\" stroke-width=\"1\" /><text x=\"270.0\" y=\"175.0\" dominant-baseline=\"middle\" text-anchor=\"middle\" font-size=\"18px\" font-family=\"sans\\-serif:style=normal:variant=normal:weight=normal:stretch=normal:size=10.0\">X</text><circle cx=\"330.0\" cy=\"175.0\" r=\"10.0\" /><rect x=\"310.0\" y=\"205.0\" width=\"40\" height=\"40\" stroke=\"black\" fill=\"white\" stroke-width=\"1\" /><text x=\"330.0\" y=\"225.0\" dominant-baseline=\"middle\" text-anchor=\"middle\" font-size=\"18px\" font-family=\"sans\\-serif:style=normal:variant=normal:weight=normal:stretch=normal:size=10.0\">X</text><text x=\"390.0\" y=\"28.0\" dominant-baseline=\"middle\" text-anchor=\"middle\" font-size=\"40px\" font-family=\"sans\\-serif:style=normal:variant=normal:weight=normal:stretch=normal:size=10.0\">×</text><text x=\"390.0\" y=\"228.0\" dominant-baseline=\"middle\" text-anchor=\"middle\" font-size=\"40px\" font-family=\"sans\\-serif:style=normal:variant=normal:weight=normal:stretch=normal:size=10.0\">×</text><rect x=\"430.0\" y=\"205.0\" width=\"67.05328125\" height=\"40\" stroke=\"black\" fill=\"white\" stroke-width=\"1\" /><text x=\"463.526640625\" y=\"225.0\" dominant-baseline=\"middle\" text-anchor=\"middle\" font-size=\"14px\" font-family=\"sans\\-serif:style=normal:variant=normal:weight=normal:stretch=normal:size=10.0\">Rx(0.5π)</text></svg>"
          },
          "metadata": {}
        }
      ]
    },
    {
      "cell_type": "markdown",
      "source": [
        "2) Implement a second circuit with a framework of your choice:\n",
        "* Apply a Hadmard gate to the first qubit\n",
        "* rotate the second qubit by pi/3 around X\n",
        "* Apply Hadamard gate to the third and fourth qubit\n",
        "* Perform a swap test between the states of the first and second qubit |q1 q2>\n",
        "and the third and fourth qubit |q3 q4>"
      ],
      "metadata": {
        "id": "u3MV4-C6TjSV"
      }
    },
    {
      "cell_type": "code",
      "source": [
        "# Creating a qubit array with random size from 4 to 10\n",
        "random_size = random.randint(4, 10)\n",
        "qubitss = [cirq.LineQubit(i) for i in range(random_size)]\n",
        "\n",
        "# Creating a circuit\n",
        "circ = cirq.Circuit()\n",
        "\n",
        "# Applying Hadamard gate to the 1st qubit (with 0th index)\n",
        "circ.append(cirq.H(qubitss[0]))\n",
        "\n",
        "# Rotating the second qubit (with 1st index) by pi/3\n",
        "circ.append(cirq.rx(np.pi/3)(qubitss[1]))  # Corrected index\n",
        "\n",
        "# Applying Hadamard gate to the third and fourth qubit (i.e. with index 2 and 3)\n",
        "circ.append(cirq.H(qubitss[2]))\n",
        "circ.append(cirq.H(qubitss[3]))\n",
        "\n",
        "# Swapping 1st and 2nd qubit i.e. (0,1) and 3rd and 4th qubit (2,3)\n",
        "circ.append(cirq.SWAP(qubitss[0], qubitss[1]))\n",
        "circ.append(cirq.SWAP(qubitss[2], qubitss[3]))\n",
        "\n",
        "# Printing the circuit\n",
        "print(f\"Printing the circuit:\\n {circ}\\n\\n\")\n",
        "\n",
        "# Plotting the circuit\n",
        "print(\"Plotting the circuit:\")\n",
        "display(SVGCircuit(circ))"
      ],
      "metadata": {
        "colab": {
          "base_uri": "https://localhost:8080/",
          "height": 422
        },
        "id": "cKEczYvlS_qf",
        "outputId": "369791b8-d7af-4258-b3cc-f03314565508"
      },
      "execution_count": 3,
      "outputs": [
        {
          "output_type": "stream",
          "name": "stdout",
          "text": [
            "Printing the circuit:\n",
            " 0: ───H────────────×───\n",
            "                   │\n",
            "1: ───Rx(0.333π)───×───\n",
            "\n",
            "2: ───H────────────×───\n",
            "                   │\n",
            "3: ───H────────────×───\n",
            "\n",
            "\n",
            "Plotting the circuit:\n"
          ]
        },
        {
          "output_type": "display_data",
          "data": {
            "text/plain": [
              "<cirq.contrib.svg.svg.SVGCircuit at 0x782151d29d90>"
            ],
            "image/svg+xml": "<svg xmlns=\"http://www.w3.org/2000/svg\" width=\"264.867734375\" height=\"200.0\"><line x1=\"30.0\" x2=\"234.867734375\" y1=\"25.0\" y2=\"25.0\" stroke=\"#1967d2\" stroke-width=\"1\" /><line x1=\"30.0\" x2=\"234.867734375\" y1=\"75.0\" y2=\"75.0\" stroke=\"#1967d2\" stroke-width=\"1\" /><line x1=\"30.0\" x2=\"234.867734375\" y1=\"125.0\" y2=\"125.0\" stroke=\"#1967d2\" stroke-width=\"1\" /><line x1=\"30.0\" x2=\"234.867734375\" y1=\"175.0\" y2=\"175.0\" stroke=\"#1967d2\" stroke-width=\"1\" /><line x1=\"194.867734375\" x2=\"194.867734375\" y1=\"25.0\" y2=\"75.0\" stroke=\"black\" stroke-width=\"3\" /><line x1=\"194.867734375\" x2=\"194.867734375\" y1=\"125.0\" y2=\"175.0\" stroke=\"black\" stroke-width=\"3\" /><rect x=\"10.0\" y=\"5.0\" width=\"40\" height=\"40\" stroke=\"black\" fill=\"white\" stroke-width=\"0\" /><text x=\"30.0\" y=\"25.0\" dominant-baseline=\"middle\" text-anchor=\"middle\" font-size=\"14px\" font-family=\"sans\\-serif:style=normal:variant=normal:weight=normal:stretch=normal:size=10.0\">0: </text><rect x=\"10.0\" y=\"55.0\" width=\"40\" height=\"40\" stroke=\"black\" fill=\"white\" stroke-width=\"0\" /><text x=\"30.0\" y=\"75.0\" dominant-baseline=\"middle\" text-anchor=\"middle\" font-size=\"14px\" font-family=\"sans\\-serif:style=normal:variant=normal:weight=normal:stretch=normal:size=10.0\">1: </text><rect x=\"10.0\" y=\"105.0\" width=\"40\" height=\"40\" stroke=\"black\" fill=\"white\" stroke-width=\"0\" /><text x=\"30.0\" y=\"125.0\" dominant-baseline=\"middle\" text-anchor=\"middle\" font-size=\"14px\" font-family=\"sans\\-serif:style=normal:variant=normal:weight=normal:stretch=normal:size=10.0\">2: </text><rect x=\"10.0\" y=\"155.0\" width=\"40\" height=\"40\" stroke=\"black\" fill=\"white\" stroke-width=\"0\" /><text x=\"30.0\" y=\"175.0\" dominant-baseline=\"middle\" text-anchor=\"middle\" font-size=\"14px\" font-family=\"sans\\-serif:style=normal:variant=normal:weight=normal:stretch=normal:size=10.0\">3: </text><rect x=\"70.0\" y=\"5.0\" width=\"84.86773437500001\" height=\"40\" stroke=\"black\" fill=\"white\" stroke-width=\"1\" /><text x=\"112.4338671875\" y=\"25.0\" dominant-baseline=\"middle\" text-anchor=\"middle\" font-size=\"18px\" font-family=\"sans\\-serif:style=normal:variant=normal:weight=normal:stretch=normal:size=10.0\">H</text><rect x=\"70.0\" y=\"55.0\" width=\"84.86773437500001\" height=\"40\" stroke=\"black\" fill=\"white\" stroke-width=\"1\" /><text x=\"112.4338671875\" y=\"75.0\" dominant-baseline=\"middle\" text-anchor=\"middle\" font-size=\"14px\" font-family=\"sans\\-serif:style=normal:variant=normal:weight=normal:stretch=normal:size=10.0\">Rx(0.333π)</text><rect x=\"70.0\" y=\"105.0\" width=\"84.86773437500001\" height=\"40\" stroke=\"black\" fill=\"white\" stroke-width=\"1\" /><text x=\"112.4338671875\" y=\"125.0\" dominant-baseline=\"middle\" text-anchor=\"middle\" font-size=\"18px\" font-family=\"sans\\-serif:style=normal:variant=normal:weight=normal:stretch=normal:size=10.0\">H</text><rect x=\"70.0\" y=\"155.0\" width=\"84.86773437500001\" height=\"40\" stroke=\"black\" fill=\"white\" stroke-width=\"1\" /><text x=\"112.4338671875\" y=\"175.0\" dominant-baseline=\"middle\" text-anchor=\"middle\" font-size=\"18px\" font-family=\"sans\\-serif:style=normal:variant=normal:weight=normal:stretch=normal:size=10.0\">H</text><text x=\"194.867734375\" y=\"28.0\" dominant-baseline=\"middle\" text-anchor=\"middle\" font-size=\"40px\" font-family=\"sans\\-serif:style=normal:variant=normal:weight=normal:stretch=normal:size=10.0\">×</text><text x=\"194.867734375\" y=\"78.0\" dominant-baseline=\"middle\" text-anchor=\"middle\" font-size=\"40px\" font-family=\"sans\\-serif:style=normal:variant=normal:weight=normal:stretch=normal:size=10.0\">×</text><text x=\"194.867734375\" y=\"128.0\" dominant-baseline=\"middle\" text-anchor=\"middle\" font-size=\"40px\" font-family=\"sans\\-serif:style=normal:variant=normal:weight=normal:stretch=normal:size=10.0\">×</text><text x=\"194.867734375\" y=\"178.0\" dominant-baseline=\"middle\" text-anchor=\"middle\" font-size=\"40px\" font-family=\"sans\\-serif:style=normal:variant=normal:weight=normal:stretch=normal:size=10.0\">×</text></svg>"
          },
          "metadata": {}
        }
      ]
    }
  ]
}